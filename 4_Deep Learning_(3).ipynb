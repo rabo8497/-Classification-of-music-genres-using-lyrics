{
 "cells": [
  {
   "cell_type": "markdown",
   "id": "1543d536",
   "metadata": {},
   "source": [
    "### Step 6. 딥러닝 구현"
   ]
  },
  {
   "cell_type": "markdown",
   "id": "0679ad47",
   "metadata": {},
   "source": [
    "# GRU 모델 이용\n",
    "4_Deep_Learning(3) 파일에서는 GRU 모델을 이용하여 학습을 시킬 것입니다."
   ]
  },
  {
   "cell_type": "markdown",
   "id": "cca5b709",
   "metadata": {},
   "source": [
    "### 학습 전 데이터 가져오기\n",
    "4_Deep_Learning_(1)과 동일한 과정을 거치는 것이기 때문에 하나의 셀에 모두 적었습니다. "
   ]
  },
  {
   "cell_type": "code",
   "execution_count": 21,
   "id": "054fbf55",
   "metadata": {
    "scrolled": false
   },
   "outputs": [
    {
     "name": "stdout",
     "output_type": "stream",
     "text": [
      "train 데이터 수 : 3216\n",
      "발라드 : 804\n",
      "랩힙합 : 804\n",
      "트로트 : 804\n",
      "CCM : 804\n",
      "----------------\n",
      "test 데이터 수 : 804\n",
      "발라드 : 201\n",
      "랩힙합 : 201\n",
      "트로트 : 201\n",
      "CCM : 201\n",
      "training 데이터 수 : 3216\n",
      "test 데이터 수 : 804\n",
      "원 핫 인코딩된 y_train 예시\n",
      " [[1. 0. 0. 0.]\n",
      " [0. 0. 1. 0.]\n",
      " [0. 1. 0. 0.]]\n"
     ]
    }
   ],
   "source": [
    "import csv\n",
    "import numpy as np\n",
    "import matplotlib\n",
    "import matplotlib.pyplot as plt\n",
    "import matplotlib.font_manager as fm\n",
    "from tqdm import tqdm\n",
    "from tensorflow.keras.preprocessing.text import Tokenizer\n",
    "from tensorflow.keras.preprocessing.sequence import pad_sequences\n",
    "import random\n",
    "import tensorflow as tf\n",
    "import pandas as pd\n",
    "import re\n",
    "from sklearn.preprocessing import LabelEncoder\n",
    "from tensorflow.keras.layers import GRU, Embedding, Dense\n",
    "from tensorflow.keras.models import Sequential\n",
    "from tensorflow.keras.models import load_model\n",
    "from tensorflow.keras.callbacks import EarlyStopping, ModelCheckpoint\n",
    "csvs = [\"발라드\", \"랩힙합\", \"트로트\", \"CCM\"]\n",
    "\n",
    "def csv_data() :\n",
    "    x_train = []\n",
    "    y_train = []\n",
    "    x_test = []\n",
    "    y_test = []\n",
    "    f = open('4_Refined Dataset.csv','r', encoding='utf-8')\n",
    "    rdr = csv.reader(f)\n",
    "    for line in rdr:\n",
    "        data = []\n",
    "        if line[-1] == 'type' : continue\n",
    "        elif line[-1] == 'train' :\n",
    "            for i in range(1,len(line)-2) :\n",
    "                data.append(int(line[i]))\n",
    "            x_train.append(data)\n",
    "            y_train.append(int(line[-2]))\n",
    "        elif line[-1] == 'test' :\n",
    "            for i in range(1,len(line)-2) :\n",
    "                data.append(int(line[i]))\n",
    "            x_test.append(data)\n",
    "            y_test.append(int(line[-2]))\n",
    "    f.close()\n",
    "    \n",
    "    # 학습 데이터 정보 출력\n",
    "    print(\"train 데이터 수 :\", len(x_train))\n",
    "    for k in range(len(csvs)) :\n",
    "        print(csvs[k] + \" :\", len([i for i in y_train if i == k]))\n",
    "    print(\"----------------\")\n",
    "    print(\"test 데이터 수 :\", len(x_test))\n",
    "    for k in range(len(csvs)) :\n",
    "        print(csvs[k] + \" :\", len([i for i in y_test if i == k]))\n",
    "    \n",
    "    return x_train, y_train, x_test, y_test\n",
    "\n",
    "x_train, y_train, x_test, y_test = csv_data()\n",
    "\n",
    "max_val_lists = []\n",
    "for i in x_train :\n",
    "    max_val_lists.append(max(i))\n",
    "num_input = max(max_val_lists) + 1\n",
    "\n",
    "train_tuple_lists = []\n",
    "for i in range(len(x_train)) :\n",
    "    train_tuple_lists.append((x_train[i], y_train[i]))\n",
    "random.shuffle(train_tuple_lists)\n",
    "x_train = [i[0] for i in train_tuple_lists]\n",
    "y_train = [i[1] for i in train_tuple_lists]\n",
    "\n",
    "e = LabelEncoder()\n",
    "e.fit(y_train)\n",
    "Y = e.transform(y_train)\n",
    "y_train = tf.keras.utils.to_categorical(Y) \n",
    "print(\"training 데이터 수 :\", len(y_train))\n",
    "\n",
    "e = LabelEncoder()\n",
    "e.fit(y_test)\n",
    "Y = e.transform(y_test)\n",
    "y_test = tf.keras.utils.to_categorical(Y) \n",
    "print(\"test 데이터 수 :\", len(y_test))\n",
    "\n",
    "print(\"원 핫 인코딩된 y_train 예시\\n\", y_train[:3])"
   ]
  },
  {
   "cell_type": "markdown",
   "id": "a50ceddb",
   "metadata": {},
   "source": [
    "## 모델 학습"
   ]
  },
  {
   "cell_type": "markdown",
   "id": "7cdaebe2",
   "metadata": {},
   "source": [
    "#### 학습(training)"
   ]
  },
  {
   "cell_type": "code",
   "execution_count": 25,
   "id": "094160b1",
   "metadata": {},
   "outputs": [],
   "source": [
    "class GRU_model : # k fold에서 모델을 여러번 이용할 것이기 때문에 사용하기 쉽도록 class로 만들었습니다.\n",
    "    def __init__(self) : # 모델 설계 및 컴파일\n",
    "        self.model = Sequential()\n",
    "        self.model.add(Embedding(num_input, 20))\n",
    "        self.model.add(GRU(32))\n",
    "        self.model.add(Dense(len(csvs), activation='softmax'))\n",
    "        self.model.compile(optimizer='rmsprop', loss='categorical_crossentropy', metrics=['acc'])\n",
    "    def learn(self, x, y, save) : # 모델 학습\n",
    "        # save : 1이면 모델 저장을 합니다\n",
    "        es = EarlyStopping(monitor='val_loss', mode='min', verbose=1, patience=4)\n",
    "        if save == 1 :\n",
    "            mc = ModelCheckpoint('GRU_model.h5', monitor='val_acc', mode='max', verbose=1, save_best_only=True)\n",
    "            self.history = self.model.fit(x, y, epochs=30, callbacks=[es, mc], batch_size=64, validation_split=0.2)\n",
    "        else :\n",
    "            self.history = self.model.fit(x, y, epochs=30, callbacks=[es], batch_size=64, validation_split=0.2)\n",
    "    def graph(self) : # 그래프 그리기\n",
    "        plt.plot(range(1, len(self.history.history['acc']) + 1), self.history.history['loss'])\n",
    "        plt.plot(range(1, len(self.history.history['acc']) + 1), self.history.history['val_loss'])\n",
    "        plt.title('loss')\n",
    "        plt.ylabel('loss')\n",
    "        plt.xlabel('epoch')\n",
    "        plt.legend(['train', 'val'])\n",
    "        plt.show()\n",
    "        plt.plot(range(1, len(self.history.history['acc']) + 1), self.history.history['acc'])\n",
    "        plt.plot(range(1, len(self.history.history['acc']) + 1), self.history.history['val_acc'])\n",
    "        plt.title('accuracy')\n",
    "        plt.ylabel('accuracy')\n",
    "        plt.xlabel('epoch')\n",
    "        plt.legend(['train', 'val'])\n",
    "        plt.show()\n",
    "    def test(self, x, y) : # 모델 테스트\n",
    "        loaded_model = load_model('GRU_model.h5')\n",
    "        p = (loaded_model.evaluate(x, y))\n",
    "        print(\"\\n 테스트 loss값: %.4f\" % p[0])\n",
    "        print(\"\\n 테스트 정확도: %.4f\" % p[1])\n",
    "    def return_test_acc(self, x, y) :\n",
    "        return self.model.evaluate(x, y)"
   ]
  },
  {
   "cell_type": "code",
   "execution_count": 26,
   "id": "6bd7a30b",
   "metadata": {
    "scrolled": true
   },
   "outputs": [
    {
     "name": "stdout",
     "output_type": "stream",
     "text": [
      "Model: \"sequential_6\"\n",
      "_________________________________________________________________\n",
      " Layer (type)                Output Shape              Param #   \n",
      "=================================================================\n",
      " embedding_6 (Embedding)     (None, None, 20)          148300    \n",
      "                                                                 \n",
      " gru_1 (GRU)                 (None, 32)                5184      \n",
      "                                                                 \n",
      " dense_15 (Dense)            (None, 4)                 132       \n",
      "                                                                 \n",
      "=================================================================\n",
      "Total params: 153,616\n",
      "Trainable params: 153,616\n",
      "Non-trainable params: 0\n",
      "_________________________________________________________________\n",
      "None\n"
     ]
    }
   ],
   "source": [
    "A = GRU_model()\n",
    "print(A.model.summary())"
   ]
  },
  {
   "cell_type": "code",
   "execution_count": 27,
   "id": "9277e42c",
   "metadata": {},
   "outputs": [
    {
     "name": "stdout",
     "output_type": "stream",
     "text": [
      "Epoch 1/30\n",
      "41/41 [==============================] - ETA: 0s - loss: 1.3805 - acc: 0.3340\n",
      "Epoch 1: val_acc improved from -inf to 0.40994, saving model to ANN_model.h5\n",
      "41/41 [==============================] - 5s 83ms/step - loss: 1.3805 - acc: 0.3340 - val_loss: 1.3690 - val_acc: 0.4099\n",
      "Epoch 2/30\n",
      "40/41 [============================>.] - ETA: 0s - loss: 1.2133 - acc: 0.4641\n",
      "Epoch 2: val_acc improved from 0.40994 to 0.47205, saving model to ANN_model.h5\n",
      "41/41 [==============================] - 3s 70ms/step - loss: 1.2121 - acc: 0.4635 - val_loss: 1.0068 - val_acc: 0.4720\n",
      "Epoch 3/30\n",
      "41/41 [==============================] - ETA: 0s - loss: 0.9277 - acc: 0.4926\n",
      "Epoch 3: val_acc improved from 0.47205 to 0.55901, saving model to ANN_model.h5\n",
      "41/41 [==============================] - 3s 69ms/step - loss: 0.9277 - acc: 0.4926 - val_loss: 0.9933 - val_acc: 0.5590\n",
      "Epoch 4/30\n",
      "41/41 [==============================] - ETA: 0s - loss: 0.8851 - acc: 0.6221\n",
      "Epoch 4: val_acc did not improve from 0.55901\n",
      "41/41 [==============================] - 3s 70ms/step - loss: 0.8851 - acc: 0.6221 - val_loss: 0.9735 - val_acc: 0.4736\n",
      "Epoch 5/30\n",
      "41/41 [==============================] - ETA: 0s - loss: 0.8422 - acc: 0.6096\n",
      "Epoch 5: val_acc did not improve from 0.55901\n",
      "41/41 [==============================] - 3s 76ms/step - loss: 0.8422 - acc: 0.6096 - val_loss: 0.9344 - val_acc: 0.5404\n",
      "Epoch 6/30\n",
      "41/41 [==============================] - ETA: 0s - loss: 0.7999 - acc: 0.6823\n",
      "Epoch 6: val_acc improved from 0.55901 to 0.58696, saving model to ANN_model.h5\n",
      "41/41 [==============================] - 3s 71ms/step - loss: 0.7999 - acc: 0.6823 - val_loss: 0.9003 - val_acc: 0.5870\n",
      "Epoch 7/30\n",
      "41/41 [==============================] - ETA: 0s - loss: 0.7369 - acc: 0.7352\n",
      "Epoch 7: val_acc improved from 0.58696 to 0.62267, saving model to ANN_model.h5\n",
      "41/41 [==============================] - 3s 72ms/step - loss: 0.7369 - acc: 0.7352 - val_loss: 0.8393 - val_acc: 0.6227\n",
      "Epoch 8/30\n",
      "41/41 [==============================] - ETA: 0s - loss: 0.6391 - acc: 0.7978\n",
      "Epoch 8: val_acc improved from 0.62267 to 0.65683, saving model to ANN_model.h5\n",
      "41/41 [==============================] - 3s 71ms/step - loss: 0.6391 - acc: 0.7978 - val_loss: 0.8079 - val_acc: 0.6568\n",
      "Epoch 9/30\n",
      "41/41 [==============================] - ETA: 0s - loss: 0.5306 - acc: 0.8414\n",
      "Epoch 9: val_acc improved from 0.65683 to 0.69876, saving model to ANN_model.h5\n",
      "41/41 [==============================] - 3s 72ms/step - loss: 0.5306 - acc: 0.8414 - val_loss: 0.7046 - val_acc: 0.6988\n",
      "Epoch 10/30\n",
      "41/41 [==============================] - ETA: 0s - loss: 0.4454 - acc: 0.8635\n",
      "Epoch 10: val_acc did not improve from 0.69876\n",
      "41/41 [==============================] - 3s 72ms/step - loss: 0.4454 - acc: 0.8635 - val_loss: 0.7604 - val_acc: 0.6817\n",
      "Epoch 11/30\n",
      "41/41 [==============================] - ETA: 0s - loss: 0.4109 - acc: 0.8717\n",
      "Epoch 11: val_acc improved from 0.69876 to 0.71894, saving model to ANN_model.h5\n",
      "41/41 [==============================] - 3s 72ms/step - loss: 0.4109 - acc: 0.8717 - val_loss: 0.6995 - val_acc: 0.7189\n",
      "Epoch 12/30\n",
      "41/41 [==============================] - ETA: 0s - loss: 0.3434 - acc: 0.8966\n",
      "Epoch 12: val_acc did not improve from 0.71894\n",
      "41/41 [==============================] - 3s 72ms/step - loss: 0.3434 - acc: 0.8966 - val_loss: 1.3408 - val_acc: 0.5683\n",
      "Epoch 13/30\n",
      "41/41 [==============================] - ETA: 0s - loss: 0.3415 - acc: 0.8962\n",
      "Epoch 13: val_acc did not improve from 0.71894\n",
      "41/41 [==============================] - 3s 71ms/step - loss: 0.3415 - acc: 0.8962 - val_loss: 0.7187 - val_acc: 0.7189\n",
      "Epoch 14/30\n",
      "41/41 [==============================] - ETA: 0s - loss: 0.2759 - acc: 0.9238\n",
      "Epoch 14: val_acc did not improve from 0.71894\n",
      "41/41 [==============================] - 3s 71ms/step - loss: 0.2759 - acc: 0.9238 - val_loss: 0.8366 - val_acc: 0.6817\n",
      "Epoch 15/30\n",
      "41/41 [==============================] - ETA: 0s - loss: 0.2388 - acc: 0.9331\n",
      "Epoch 15: val_acc improved from 0.71894 to 0.72205, saving model to ANN_model.h5\n",
      "41/41 [==============================] - 3s 72ms/step - loss: 0.2388 - acc: 0.9331 - val_loss: 0.7699 - val_acc: 0.7220\n",
      "Epoch 15: early stopping\n"
     ]
    }
   ],
   "source": [
    "A.learn(np.array(x_train), y_train, 1) "
   ]
  },
  {
   "cell_type": "markdown",
   "id": "86185791",
   "metadata": {},
   "source": [
    "#### 시각화"
   ]
  },
  {
   "cell_type": "code",
   "execution_count": 28,
   "id": "eb786080",
   "metadata": {},
   "outputs": [
    {
     "data": {
      "image/png": "[encoded data removed]",
      "text/plain": [
       "<Figure size 640x480 with 1 Axes>"
      ]
     },
     "metadata": {},
     "output_type": "display_data"
    },
    {
     "data": {
      "image/png": "[encoded data removed]",
      "text/plain": [
       "<Figure size 640x480 with 1 Axes>"
      ]
     },
     "metadata": {},
     "output_type": "display_data"
    }
   ],
   "source": [
    "A.graph()"
   ]
  },
  {
   "cell_type": "markdown",
   "id": "5c15afcf",
   "metadata": {},
   "source": [
    "#### 평가(test)"
   ]
  },
  {
   "cell_type": "code",
   "execution_count": 29,
   "id": "5980e437",
   "metadata": {},
   "outputs": [
    {
     "name": "stdout",
     "output_type": "stream",
     "text": [
      "26/26 [==============================] - 1s 12ms/step - loss: 0.7614 - acc: 0.7226\n",
      "\n",
      " 테스트 loss값: 0.7614\n",
      "\n",
      " 테스트 정확도: 0.7226\n"
     ]
    }
   ],
   "source": [
    "A.test(np.array(x_test), y_test)"
   ]
  },
  {
   "cell_type": "markdown",
   "id": "44c6b05d",
   "metadata": {},
   "source": [
    "#### 데이터셋에 없는 가사 예측\n",
    "데이터셋에 없는 가사를 받아 예측하기 위해서는 데이터 정제, 가공 과정이 다시 필요합니다. 따라서 4_Dataset Processing 과정을 반복하여 tokenizer을 얻도록 했습니다. 한번 더 작성하는 대신 processing.py형태로 만들어서 가져와 사용했습니다."
   ]
  },
  {
   "cell_type": "code",
   "execution_count": 30,
   "id": "9a62d850",
   "metadata": {
    "scrolled": true
   },
   "outputs": [],
   "source": [
    "import processing # processing.py\n",
    "import re\n",
    "from konlpy.tag import Okt\n",
    "tokenizer = processing.processing(num_input)\n",
    "\n",
    "def pred(data) :\n",
    "    data = data.replace(\"\\n\", \" \")\n",
    "    data = re.sub(r'[^ㄱ-ㅎㅏ-ㅣ가-힣 ]',\"\", data)\n",
    "    okt = Okt()\n",
    "    data = okt.morphs(data, stem=True)\n",
    "    data = tokenizer.texts_to_sequences([data])\n",
    "    print(\"예측 : \" + csvs[int(np.argmax(A.model.predict(data, verbose=0), axis=-1))])"
   ]
  },
  {
   "cell_type": "markdown",
   "id": "54da2b93",
   "metadata": {},
   "source": [
    "위의 pred()함수를 이용해 예측할 수 있습니다. 가사를 그대로 가져와 아래의 변수 a에 넣은 후 pred(a)로 예측했습니다."
   ]
  },
  {
   "cell_type": "code",
   "execution_count": 31,
   "id": "e9217ded",
   "metadata": {
    "scrolled": false
   },
   "outputs": [
    {
     "name": "stdout",
     "output_type": "stream",
     "text": [
      "예측 : 발라드\n"
     ]
    }
   ],
   "source": [
    "# 데이터셋에 없는 노래를 가져왔습니다. (정답 : 발라드)\n",
    "a = '''이제 괜찮냐 묻지 않네요\n",
    "이젠 내가 짐이 된 걸까요\n",
    "멍든 내 마음이 가여워서\n",
    "우습게 우리의 과거를 바래봐요\n",
    "우리 만일에 마주하더라도\n",
    "아무 말 없이 지나가요\n",
    "그렇게 날 쳐다보지 말아요\n",
    "그대 제발\n",
    "더 이상 나 괴로워하지 않아요\n",
    "그댄 날 잊었는데\n",
    "그대도 해냈는데\n",
    "나라고 못할 거 있나요\n",
    "멍든 내 마음이 가여워서\n",
    "이제는 우리의 과거를 지워가요\n",
    "우리 만일에 마주하더라도\n",
    "아무 말 없이 지나가요\n",
    "그렇게 날 쳐다보지 말아요\n",
    "그대 제발\n",
    "더 이상 나 괴로워하지 않아요\n",
    "그댄 날 잊었는데\n",
    "그대도 해냈는데\n",
    "나라고 못할 거 있나요\n",
    "괴로워하지 않아요\n",
    "그댄 날 잊었는데\n",
    "그대도 해냈는데\n",
    "나라고 못할 거 있나요'''\n",
    "\n",
    "pred(a)"
   ]
  },
  {
   "cell_type": "code",
   "execution_count": 32,
   "id": "c4df7e9a",
   "metadata": {},
   "outputs": [
    {
     "name": "stdout",
     "output_type": "stream",
     "text": [
      "예측 : 발라드\n"
     ]
    }
   ],
   "source": [
    "# 데이터셋에 없는 노래를 가져왔습니다. (정답 : 랩힙합)\n",
    "a = '''I know it`s your time \n",
    "그런데도 너에게 간데\n",
    "아마 위험한\n",
    "대가는 나에게만 왜 (why)\n",
    "이유가 대체 넌\n",
    "뭐라 생각해?\n",
    "아마 이건 참\n",
    "알아도 잠시 길을 잃어 way\n",
    "어제는 저기가 main\n",
    "오늘은 여기로 해\n",
    "네가 날 어지럽게\n",
    "하는지 모르겠어 잠시 wait\n",
    "귀가를 하기로 해\n",
    "조금은 쉬기로 해\n",
    "내가 원하는 뭘 하든\n",
    "내 시간을 제발 좀 갖기로 해\n",
    "반복해 너를 표현해 All day\n",
    "피해자래 난 그저 웃어\n",
    "The word doesn't suit you babe\n",
    "아무 말도 하지마\n",
    "덧붙여 말을 해\n",
    "You're really so bad\n",
    "난 그저 웃겨\n",
    "The word\n",
    "doesn't suit you babe\n",
    "아무 말도 하지마 하지마\n",
    "그건 아닐 거야\n",
    "네가 굉장히 오해가 많아\n",
    "내가 친절하게\n",
    "설명해도\n",
    "yeah 안 들어줘 sh*t!\n",
    "너에겐 자비롭고\n",
    "그런 걸 바라는 내가 참\n",
    "한심해 보이며 어이없어\n",
    "Next time 다음 시간을\n",
    "기약하며 날 뒤로 휙\n",
    "던져 버린 후에 잠시 놓기\n",
    "오후 지나 밤에 다시 줍기\n",
    "이런 사실을 넌 알 리 없지\n",
    "노래로 처음 접하게 될 일\n",
    "조금은 아쉽겠지만 뭐 어떻게\n",
    "이미 다른 차에 타 있으니\n",
    "네가 피해자래도\n",
    "입장을 바꿔 말해줘\n",
    "근데 넌 절대 모르겠지\n",
    "평생을 제발 그렇겠니\n",
    "반복해 너를 표현해 All day\n",
    "피해자래 난 그저 웃어\n",
    "The word doesn't suit you babe\n",
    "아무 말도 하지마\n",
    "덧붙여 말을 해\n",
    "You're really so bad 난 그저 웃겨\n",
    "The word doesn't suit you babe\n",
    "아무 말도 하지마 하지마'''\n",
    "\n",
    "pred(a)"
   ]
  },
  {
   "cell_type": "markdown",
   "id": "335963f9",
   "metadata": {},
   "source": [
    "### 다른 모델들과 비교"
   ]
  },
  {
   "cell_type": "markdown",
   "id": "9f4c71d6",
   "metadata": {},
   "source": [
    "#### k-fold cross validation\n",
    "다른 모델들과 비교하기 위해서는 k-fold를 이용해 산출한 평균 정확도를 비교하는 것이 필요하다고 생각했습니다. k fold에 이용되는 데이터 셋으로는 위에서의 x_train을 나누어 train, test 데이터로 만들어 이용했습니다."
   ]
  },
  {
   "cell_type": "code",
   "execution_count": 36,
   "id": "1138a5c8",
   "metadata": {
    "scrolled": true
   },
   "outputs": [
    {
     "name": "stdout",
     "output_type": "stream",
     "text": [
      "--------------1번째 그룹----------------\n",
      "Epoch 1/30\n",
      "33/33 [==============================] - 4s 81ms/step - loss: 1.3793 - acc: 0.3281 - val_loss: 1.3660 - val_acc: 0.4233\n",
      "Epoch 2/30\n",
      "33/33 [==============================] - 2s 68ms/step - loss: 1.3123 - acc: 0.5051 - val_loss: 1.1375 - val_acc: 0.4544\n",
      "Epoch 3/30\n",
      "33/33 [==============================] - 2s 68ms/step - loss: 0.9555 - acc: 0.4827 - val_loss: 0.9377 - val_acc: 0.4951\n",
      "Epoch 4/30\n",
      "33/33 [==============================] - 2s 69ms/step - loss: 0.8710 - acc: 0.5348 - val_loss: 1.0024 - val_acc: 0.5631\n",
      "Epoch 5/30\n",
      "33/33 [==============================] - 2s 69ms/step - loss: 0.8214 - acc: 0.5790 - val_loss: 0.8977 - val_acc: 0.6039\n",
      "Epoch 6/30\n",
      "33/33 [==============================] - 2s 70ms/step - loss: 0.7703 - acc: 0.6714 - val_loss: 0.8891 - val_acc: 0.6155\n",
      "Epoch 7/30\n",
      "33/33 [==============================] - 2s 71ms/step - loss: 0.6954 - acc: 0.7059 - val_loss: 0.8197 - val_acc: 0.6757\n",
      "Epoch 8/30\n",
      "33/33 [==============================] - 2s 71ms/step - loss: 0.5837 - acc: 0.7919 - val_loss: 0.7168 - val_acc: 0.6990\n",
      "Epoch 9/30\n",
      "33/33 [==============================] - 2s 70ms/step - loss: 0.4810 - acc: 0.8153 - val_loss: 0.8383 - val_acc: 0.6078\n",
      "Epoch 10/30\n",
      "33/33 [==============================] - 2s 70ms/step - loss: 0.4268 - acc: 0.8585 - val_loss: 0.7335 - val_acc: 0.6893\n",
      "Epoch 11/30\n",
      "33/33 [==============================] - 2s 71ms/step - loss: 0.3807 - acc: 0.8828 - val_loss: 0.7172 - val_acc: 0.7029\n",
      "Epoch 12/30\n",
      "33/33 [==============================] - 2s 71ms/step - loss: 0.3545 - acc: 0.8926 - val_loss: 0.8040 - val_acc: 0.6621\n",
      "Epoch 12: early stopping\n",
      "21/21 [==============================] - 0s 13ms/step - loss: 0.7824 - acc: 0.6755\n",
      "21/21 [==============================] - 0s 13ms/step - loss: 0.7824 - acc: 0.6755\n",
      "--------------2번째 그룹----------------\n",
      "Epoch 1/30\n",
      "33/33 [==============================] - 4s 90ms/step - loss: 1.3796 - acc: 0.3372 - val_loss: 1.3690 - val_acc: 0.4291\n",
      "Epoch 2/30\n",
      "33/33 [==============================] - 2s 74ms/step - loss: 1.3350 - acc: 0.4820 - val_loss: 1.2748 - val_acc: 0.5184\n",
      "Epoch 3/30\n",
      "33/33 [==============================] - 3s 85ms/step - loss: 0.9976 - acc: 0.5515 - val_loss: 1.0296 - val_acc: 0.5010\n",
      "Epoch 4/30\n",
      "33/33 [==============================] - 3s 79ms/step - loss: 0.8340 - acc: 0.5918 - val_loss: 0.9338 - val_acc: 0.6000\n",
      "Epoch 5/30\n",
      "33/33 [==============================] - 2s 75ms/step - loss: 0.7445 - acc: 0.6672 - val_loss: 0.8847 - val_acc: 0.6058\n",
      "Epoch 6/30\n",
      "33/33 [==============================] - 3s 76ms/step - loss: 0.6567 - acc: 0.7570 - val_loss: 2.3290 - val_acc: 0.3126\n",
      "Epoch 7/30\n",
      "33/33 [==============================] - 2s 73ms/step - loss: 0.6264 - acc: 0.7804 - val_loss: 0.8676 - val_acc: 0.6563\n",
      "Epoch 8/30\n",
      "33/33 [==============================] - 2s 73ms/step - loss: 0.4840 - acc: 0.8202 - val_loss: 0.7413 - val_acc: 0.6874\n",
      "Epoch 9/30\n",
      "33/33 [==============================] - 2s 74ms/step - loss: 0.4340 - acc: 0.8377 - val_loss: 0.7588 - val_acc: 0.6951\n",
      "Epoch 10/30\n",
      "33/33 [==============================] - 2s 73ms/step - loss: 0.3917 - acc: 0.8542 - val_loss: 0.7274 - val_acc: 0.7049\n",
      "Epoch 11/30\n",
      "33/33 [==============================] - 2s 74ms/step - loss: 0.3563 - acc: 0.8766 - val_loss: 0.8296 - val_acc: 0.6913\n",
      "Epoch 12/30\n",
      "33/33 [==============================] - 2s 75ms/step - loss: 0.3228 - acc: 0.8916 - val_loss: 0.8010 - val_acc: 0.7068\n",
      "Epoch 13/30\n",
      "33/33 [==============================] - 2s 75ms/step - loss: 0.2900 - acc: 0.8994 - val_loss: 0.8069 - val_acc: 0.7087\n",
      "Epoch 14/30\n",
      "33/33 [==============================] - 2s 74ms/step - loss: 0.2523 - acc: 0.9203 - val_loss: 0.8140 - val_acc: 0.7320\n",
      "Epoch 14: early stopping\n",
      "21/21 [==============================] - 0s 15ms/step - loss: 0.7296 - acc: 0.7341\n",
      "21/21 [==============================] - 0s 14ms/step - loss: 0.7296 - acc: 0.7341\n",
      "--------------3번째 그룹----------------\n",
      "Epoch 1/30\n",
      "33/33 [==============================] - 5s 97ms/step - loss: 1.3821 - acc: 0.2998 - val_loss: 1.3744 - val_acc: 0.3515\n",
      "Epoch 2/30\n",
      "33/33 [==============================] - 2s 74ms/step - loss: 1.3456 - acc: 0.4086 - val_loss: 1.2900 - val_acc: 0.4019\n",
      "Epoch 3/30\n",
      "33/33 [==============================] - 2s 73ms/step - loss: 1.0336 - acc: 0.4898 - val_loss: 1.0306 - val_acc: 0.4563\n",
      "Epoch 4/30\n",
      "33/33 [==============================] - 2s 75ms/step - loss: 0.8875 - acc: 0.5369 - val_loss: 0.9880 - val_acc: 0.4738\n",
      "Epoch 5/30\n",
      "33/33 [==============================] - 2s 74ms/step - loss: 0.8338 - acc: 0.5661 - val_loss: 0.9553 - val_acc: 0.4913\n",
      "Epoch 6/30\n",
      "33/33 [==============================] - 2s 75ms/step - loss: 0.7686 - acc: 0.6283 - val_loss: 1.0018 - val_acc: 0.4835\n",
      "Epoch 7/30\n",
      "33/33 [==============================] - 2s 74ms/step - loss: 0.7007 - acc: 0.6987 - val_loss: 1.0532 - val_acc: 0.5126\n",
      "Epoch 8/30\n",
      "33/33 [==============================] - 2s 76ms/step - loss: 0.6124 - acc: 0.7711 - val_loss: 0.8657 - val_acc: 0.6117\n",
      "Epoch 9/30\n",
      "33/33 [==============================] - 2s 75ms/step - loss: 0.5240 - acc: 0.8372 - val_loss: 0.9862 - val_acc: 0.5961\n",
      "Epoch 10/30\n",
      "33/33 [==============================] - 2s 74ms/step - loss: 0.4552 - acc: 0.8489 - val_loss: 0.9255 - val_acc: 0.6097\n",
      "Epoch 11/30\n",
      "33/33 [==============================] - 3s 78ms/step - loss: 0.4018 - acc: 0.8596 - val_loss: 0.8313 - val_acc: 0.6291\n",
      "Epoch 12/30\n",
      "33/33 [==============================] - 3s 84ms/step - loss: 0.3821 - acc: 0.8751 - val_loss: 0.8654 - val_acc: 0.6777\n",
      "Epoch 13/30\n",
      "33/33 [==============================] - 3s 76ms/step - loss: 0.3447 - acc: 0.8834 - val_loss: 0.9054 - val_acc: 0.6563\n",
      "Epoch 14/30\n",
      "33/33 [==============================] - 2s 76ms/step - loss: 0.3248 - acc: 0.8965 - val_loss: 0.8830 - val_acc: 0.6757\n",
      "Epoch 15/30\n",
      "33/33 [==============================] - 2s 76ms/step - loss: 0.2940 - acc: 0.9033 - val_loss: 0.9476 - val_acc: 0.6816\n",
      "Epoch 15: early stopping\n",
      "21/21 [==============================] - 0s 14ms/step - loss: 0.8638 - acc: 0.6983\n",
      "21/21 [==============================] - 0s 14ms/step - loss: 0.8638 - acc: 0.6983\n",
      "--------------4번째 그룹----------------\n",
      "Epoch 1/30\n",
      "33/33 [==============================] - 4s 89ms/step - loss: 1.3823 - acc: 0.3056 - val_loss: 1.3751 - val_acc: 0.3068\n",
      "Epoch 2/30\n",
      "33/33 [==============================] - 2s 74ms/step - loss: 1.3505 - acc: 0.4009 - val_loss: 1.3177 - val_acc: 0.4602\n",
      "Epoch 3/30\n",
      "33/33 [==============================] - 2s 73ms/step - loss: 1.1102 - acc: 0.5194 - val_loss: 1.0092 - val_acc: 0.5068\n",
      "Epoch 4/30\n",
      "33/33 [==============================] - 2s 73ms/step - loss: 0.8758 - acc: 0.5695 - val_loss: 0.9506 - val_acc: 0.5379\n",
      "Epoch 5/30\n",
      "33/33 [==============================] - 2s 75ms/step - loss: 0.8123 - acc: 0.6487 - val_loss: 0.9241 - val_acc: 0.5437\n",
      "Epoch 6/30\n",
      "33/33 [==============================] - 2s 74ms/step - loss: 0.7398 - acc: 0.6880 - val_loss: 0.9193 - val_acc: 0.5748\n",
      "Epoch 7/30\n",
      "33/33 [==============================] - 3s 77ms/step - loss: 0.6258 - acc: 0.7464 - val_loss: 0.8628 - val_acc: 0.6117\n",
      "Epoch 8/30\n",
      "33/33 [==============================] - 2s 75ms/step - loss: 0.5121 - acc: 0.7687 - val_loss: 0.9197 - val_acc: 0.6117\n",
      "Epoch 9/30\n",
      "33/33 [==============================] - 2s 74ms/step - loss: 0.4669 - acc: 0.7959 - val_loss: 0.8062 - val_acc: 0.6621\n",
      "Epoch 10/30\n",
      "33/33 [==============================] - 2s 74ms/step - loss: 0.4209 - acc: 0.8343 - val_loss: 0.8796 - val_acc: 0.6971\n",
      "Epoch 11/30\n",
      "33/33 [==============================] - 2s 74ms/step - loss: 0.3995 - acc: 0.8654 - val_loss: 0.9127 - val_acc: 0.6563\n",
      "Epoch 12/30\n",
      "33/33 [==============================] - 2s 74ms/step - loss: 0.3717 - acc: 0.8741 - val_loss: 0.8495 - val_acc: 0.7010\n",
      "Epoch 13/30\n",
      "33/33 [==============================] - 2s 75ms/step - loss: 0.3366 - acc: 0.8882 - val_loss: 0.8111 - val_acc: 0.7165\n",
      "Epoch 13: early stopping\n",
      "21/21 [==============================] - 0s 14ms/step - loss: 0.7344 - acc: 0.6967\n",
      "21/21 [==============================] - 0s 14ms/step - loss: 0.7344 - acc: 0.6967\n",
      "--------------5번째 그룹----------------\n",
      "Epoch 1/30\n",
      "33/33 [==============================] - 4s 92ms/step - loss: 1.3836 - acc: 0.3027 - val_loss: 1.3821 - val_acc: 0.3437\n",
      "Epoch 2/30\n",
      "33/33 [==============================] - 2s 75ms/step - loss: 1.3636 - acc: 0.4363 - val_loss: 1.3500 - val_acc: 0.4583\n",
      "Epoch 3/30\n",
      "33/33 [==============================] - 2s 76ms/step - loss: 1.2109 - acc: 0.5121 - val_loss: 1.2748 - val_acc: 0.4757\n",
      "Epoch 4/30\n",
      "33/33 [==============================] - 2s 75ms/step - loss: 0.9399 - acc: 0.4976 - val_loss: 0.9705 - val_acc: 0.5146\n",
      "Epoch 5/30\n",
      "33/33 [==============================] - 3s 80ms/step - loss: 0.8752 - acc: 0.5437 - val_loss: 2.5486 - val_acc: 0.3126\n",
      "Epoch 6/30\n",
      "33/33 [==============================] - 3s 85ms/step - loss: 0.8672 - acc: 0.6118 - val_loss: 0.9103 - val_acc: 0.5942\n",
      "Epoch 7/30\n",
      "33/33 [==============================] - 2s 75ms/step - loss: 0.7714 - acc: 0.7075 - val_loss: 0.9148 - val_acc: 0.5922\n",
      "Epoch 8/30\n",
      "33/33 [==============================] - 2s 75ms/step - loss: 0.7230 - acc: 0.7507 - val_loss: 0.8367 - val_acc: 0.6350\n",
      "Epoch 9/30\n",
      "33/33 [==============================] - 2s 75ms/step - loss: 0.6394 - acc: 0.8013 - val_loss: 0.7970 - val_acc: 0.6854\n",
      "Epoch 10/30\n",
      "33/33 [==============================] - 3s 81ms/step - loss: 0.5532 - acc: 0.8416 - val_loss: 0.7311 - val_acc: 0.6932\n",
      "Epoch 11/30\n",
      "33/33 [==============================] - 2s 75ms/step - loss: 0.4709 - acc: 0.8630 - val_loss: 0.7039 - val_acc: 0.7107\n",
      "Epoch 12/30\n",
      "33/33 [==============================] - 3s 76ms/step - loss: 0.4262 - acc: 0.8712 - val_loss: 0.6916 - val_acc: 0.7029\n",
      "Epoch 13/30\n",
      "33/33 [==============================] - 3s 77ms/step - loss: 0.3771 - acc: 0.8795 - val_loss: 0.7309 - val_acc: 0.7204\n",
      "Epoch 14/30\n",
      "33/33 [==============================] - 3s 77ms/step - loss: 0.3893 - acc: 0.8771 - val_loss: 0.7639 - val_acc: 0.7087\n",
      "Epoch 15/30\n",
      "33/33 [==============================] - 3s 77ms/step - loss: 0.4198 - acc: 0.8766 - val_loss: 0.7725 - val_acc: 0.6932\n",
      "Epoch 16/30\n",
      "33/33 [==============================] - 3s 76ms/step - loss: 0.2899 - acc: 0.9018 - val_loss: 0.7403 - val_acc: 0.6990\n",
      "Epoch 16: early stopping\n",
      "21/21 [==============================] - 0s 14ms/step - loss: 0.6317 - acc: 0.7387\n",
      "21/21 [==============================] - 0s 15ms/step - loss: 0.6317 - acc: 0.7387\n",
      "-----------------------------------------\n",
      "------------------결과-------------------\n",
      "-----------------------------------------\n",
      "각 분할의 loss : [0.6754658222198486, 0.7340590953826904, 0.6982892751693726, 0.6967340707778931, 0.7387247085571289]\n",
      "평균 loss : 0.7086545944213867\n",
      "각 분할의 정확도 : [0.6754658222198486, 0.7340590953826904, 0.6982892751693726, 0.6967340707778931, 0.7387247085571289]\n",
      "평균 정확도 : 70.86545944213867 %\n"
     ]
    }
   ],
   "source": [
    "from sklearn.ensemble import RandomForestClassifier\n",
    "from sklearn.metrics import accuracy_score\n",
    "from sklearn.model_selection import KFold\n",
    "\n",
    "\n",
    "def start_kfold(X, y) :\n",
    "    kf = KFold(n_splits = 5, shuffle = True, random_state = 50)\n",
    "    accuracy_history = []\n",
    "    loss_history = []\n",
    "    num = 0\n",
    "    models = []\n",
    "    for train_index, test_index in kf.split(X):\n",
    "        num += 1\n",
    "        print(\"--------------\" + str(num) + \"번째 그룹\" + \"----------------\")\n",
    "        X_train, X_test = X[train_index], X[test_index]\n",
    "        y_train, y_test = y[train_index], y[test_index]\n",
    "        \n",
    "        B = GRU_model()\n",
    "        B.learn(X_train, y_train, 0)\n",
    "        accuracy_history.append(B.return_test_acc(X_test, y_test)[1]) # 정확도 측정 및 기록\n",
    "        loss_history.append(B.return_test_acc(X_test, y_test)[0])\n",
    "    print(\"-----------------------------------------\")\n",
    "    print(\"------------------결과-------------------\")\n",
    "    print(\"-----------------------------------------\")\n",
    "    print(\"각 분할의 loss :\", accuracy_history)\n",
    "    print(\"평균 loss :\", np.mean(accuracy_history))\n",
    "    print(\"각 분할의 정확도 :\", accuracy_history)\n",
    "    print(\"평균 정확도 :\", np.mean(accuracy_history)*100, \"%\")\n",
    "    \n",
    "    \n",
    "start_kfold(np.array(x_train), y_train)"
   ]
  },
  {
   "cell_type": "markdown",
   "id": "a3d77255",
   "metadata": {},
   "source": [
    "k-fold를 이용해 구한 loss값은 [0.6754658222198486, 0.7340590953826904, 0.6982892751693726, 0.6967340707778931, 0.7387247085571289]로 평균 0.71입니다. 정확도는 [0.6754658222198486, 0.7340590953826904, 0.6982892751693726, 0.6967340707778931, 0.7387247085571289]으로 평균 70.87%입니다. "
   ]
  },
  {
   "attachments": {
    "image.png": {
     "image/png": "[encoded data removed]"
    }
   },
   "cell_type": "markdown",
   "id": "862ee32c",
   "metadata": {},
   "source": [
    "![image.png](attachment:image.png)"
   ]
  },
  {
   "cell_type": "markdown",
   "id": "c228dafd",
   "metadata": {},
   "source": [
    "본 모델은 70%가량의 정확도로 좋은 성능을 보여주기는 하였으나 LSTM을 이용한 모델 보다는 낮은 정확도를 보였습니다."
   ]
  }
 ],
 "metadata": {
  "kernelspec": {
   "display_name": "Python 3 (ipykernel)",
   "language": "python",
   "name": "python3"
  },
  "language_info": {
   "codemirror_mode": {
    "name": "ipython",
    "version": 3
   },
   "file_extension": ".py",
   "mimetype": "text/x-python",
   "name": "python",
   "nbconvert_exporter": "python",
   "pygments_lexer": "ipython3",
   "version": "3.9.13"
  }
 },
 "nbformat": 4,
 "nbformat_minor": 5
}
