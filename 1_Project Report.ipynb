{
 "cells": [
  {
   "cell_type": "markdown",
   "id": "5fe52c32",
   "metadata": {},
   "source": [
    "### Step 1. 프로젝트 요약 보고서\n",
    "###### 아래와 같은 내용을 Markdown 형식으로 작성하여 제출합니다.\n",
    "1) 프로젝트 주제\n",
    "2) 주제 선정 이유 및 목표\n",
    "3) 데이터셋 준비 과정\n",
    "4) Step 6를 마무리한 후, 다양한 딥러닝 모델 (1), (2), (3)... 중에서 제일 좋은 성능을 나타낸 버전을 중심으로 요약 정리할 것\n",
    "5) Term Project를 수행한 후 느낀점"
   ]
  },
  {
   "cell_type": "markdown",
   "id": "e5b645ae",
   "metadata": {},
   "source": [
    "### 프로젝트 주제"
   ]
  },
  {
   "cell_type": "markdown",
   "id": "89b40a6b",
   "metadata": {},
   "source": [
    "저의 이번 기말 term 프로젝트 주제는 '음악의 가사를 입력받아 장르를 예측하는 인공지능'입니다. 우선 장르에 따른 가사 데이터를 수집하고, 이를 학습시킬 것입니다. 또한 학습 데이터에 들어있지 않은 노래 가사를 가져와 예측하는 작업을 할 것입니다."
   ]
  },
  {
   "cell_type": "markdown",
   "id": "b57c527a",
   "metadata": {},
   "source": [
    "### 주제 선정 이유 및 목표"
   ]
  },
  {
   "cell_type": "markdown",
   "id": "502842ec",
   "metadata": {},
   "source": [
    "최근 SNS와 소프트웨어의 발달로 기업 단위가 아닌 개인 단위에서 음악을 만들어 SNS에 올리는 활동이 많아지고 있습니다. 또한 인공지능의 발달로 음악 만드는 인공지능과 함께 가사 제작 AI가 발전하고 이용되고있습니다. 따라서 저는 이러한 많아진 음악의 장르를 쉽게 분류할 수 있는 인공지능 모델을 만들고 싶었습니다. 또한 쉽게 얻을 수 있는 데이터가 아닌 제가 직접 크롤링하여 수집한 자료를 바탕으로 인공지능을 만들고 싶습니다. 마침 중간 과제에서 음악 사이트(멜론)의 크롤링을 수행했기 때문에 이를 이용하고 싶었습니다.  "
   ]
  },
  {
   "cell_type": "markdown",
   "id": "5c85a3a0",
   "metadata": {},
   "source": [
    "가사를 이용하여 장르를 분석하고 싶은 또 다른 한가지 이유는 자연어 처리를 이용하는 인공지능을 만들고싶었기 때문입니다. 많은 인공지능 서적에서 자연어 처리를 다루는 인공지능에 대한 소개를 보았고 실제로 사회에 도움이 될 수 있는 인공지능을 만들기에 적절한 기술이라는 생각이 들었습니다. 따라서 저는 이번 기회에 인간의 언어를 컴퓨터가 이해하고 분류할 수 있도록 하는 인공지능을 만들고 싶었습니다."
   ]
  },
  {
   "cell_type": "markdown",
   "id": "858937d2",
   "metadata": {},
   "source": [
    "### 데이터셋 준비 과정"
   ]
  },
  {
   "cell_type": "markdown",
   "id": "7cb69ab7",
   "metadata": {},
   "source": [
    "저는 셀레늄 라이브러리를 이용하여 멜론 사이트(https://www.melon.com/index.htm)하여 가사 데이터를 직접 수집하였습니다. 저는 분류 인공지능이 갖는 레이블의 수를 4가지 정도로 잡았고, 가사로 분류가 될만한 장르 4가지를 선정하여 각각 약 1500개의 가사를 수집하였습니다. 하나의 노래를 (제목, 가사, 장르)의 형태로 크롤링하였고 이를 csv파일에 저장하였습니다. 크로링한 데이터는 모델에 넣을 수 있는 형태가 아니기 때문에 정제 및 가공 과정이 필요했습니다. 제가 한 가공은 크게 10가지로 아래와 같습니다."
   ]
  },
  {
   "cell_type": "markdown",
   "id": "13d278f0",
   "metadata": {},
   "source": [
    "- 줄바꿈 제거                            \n",
    "- 한글 단어가 아닌 단어 제거\n",
    "- 빈 문자열 확인 및 제거\n",
    "- 불용어 지우기\n",
    "- 중복 제거\n",
    "- 데이터 개수 맞추기\n",
    "- 토큰화\n",
    "- 정수 인코딩\n",
    "- 희귀 단어 제거\n",
    "- 패딩"
   ]
  },
  {
   "cell_type": "markdown",
   "id": "1702992f",
   "metadata": {},
   "source": [
    "위의 과정을 거치면 가사 데이터는 어떠한 숫자의 배열로 바뀌게 됩니다. 이 값들을 준비한 신경망 모델에 넣어 학습하였습니다."
   ]
  },
  {
   "cell_type": "markdown",
   "id": "778df1ef",
   "metadata": {},
   "source": [
    "(크롤링에 사용한 코드는 보고서 맨 아래에 적어두었습니다.)"
   ]
  },
  {
   "cell_type": "markdown",
   "id": "17d4dcfa",
   "metadata": {},
   "source": [
    "### Step 6를 마무리한 후, 다양한 딥러닝 모델 (1), (2), (3)... 중에서 제일 좋은 성능을 나타낸 버전을 중심으로 요약 정리할 것"
   ]
  },
  {
   "cell_type": "markdown",
   "id": "08cf2344",
   "metadata": {},
   "source": [
    "모델을 비교하는 지표로써 K-fold를 이용해 산출한 정확도를 이용했습니다."
   ]
  },
  {
   "cell_type": "markdown",
   "id": "03e76ce7",
   "metadata": {},
   "source": [
    "자연어 처리에 자주 이용되는 모델 중 하나로 RNN이 있다고 알고 있습니다. 또한 RNN을 변화시켜 만든 것이 LSTM, GRU라고 알고있습니다. 저는 이러한 세 모델의 성능차이에 대해 탐구하고 싶었습니다. 결과적으로 LSTM이 다른 모델보다 더 높은 정확도를 보였습니다. 다음 그래프는 세 모델을 비교한 그래프입니다. (4_Deep Learing_(1) : LSTM, 4_Deep Learing_(2) : RNN, 4_Deep Learing_(3) : GRU 입니다.)"
   ]
  },
  {
   "attachments": {
    "image.png": {
     "image/png": "[encoded data removed]"
    }
   },
   "cell_type": "markdown",
   "id": "1a12b321",
   "metadata": {},
   "source": [
    "![image.png](attachment:image.png)"
   ]
  },
  {
   "cell_type": "markdown",
   "id": "c874c152",
   "metadata": {},
   "source": [
    "LSTM이 가장 정확도가 높았기 때문에 기존의 LSTM모델을 변형시켜 성능이 더 좋은 모델을 만들 수 있을 것이라 생각했습니다. 결과적으로 embedding층과 LSTM층의 출력 차원을 높이는 것과 배치사이즈의 크기를 줄이는 방법은 기존의 LSTM 모델보다 더 높은 정확도를 보였습니다. 다음 그래프는 네 모델을 비교한 그래프입니다. (4_Deep Learing_(1) : LSTM-1, 4_Deep Learing_(4) : LSTM-2, 4_Deep Learing_(5) : LSTM-3, 4_Deep Learing_(6) : LSTM-4 입니다.)"
   ]
  },
  {
   "attachments": {
    "image.png": {
     "image/png": "[encoded data removed]"
    }
   },
   "cell_type": "markdown",
   "id": "8837be47",
   "metadata": {},
   "source": [
    "![image.png](attachment:image.png)"
   ]
  },
  {
   "attachments": {
    "image.png": {
     "image/png": "[encoded data removed]"
    }
   },
   "cell_type": "markdown",
   "id": "05a7d43f",
   "metadata": {},
   "source": [
    "성능이 가장 좋았던 모델인 LSTM-4는 배치사이즈를 16으로 하고 학습을 진행한 LSTM 모델로 평균적으로 81.78%의 정확도를 보였습니다. 해당 모델의 정보는 다음과 같습니다.\n",
    "![image.png](attachment:image.png)"
   ]
  },
  {
   "cell_type": "markdown",
   "id": "4b574e88",
   "metadata": {},
   "source": [
    "### Term Project를 수행한 후 느낀점"
   ]
  },
  {
   "cell_type": "markdown",
   "id": "a57c6e6a",
   "metadata": {},
   "source": [
    "이번 Term Projrct를 준비하면서 딥러닝에서 모델 설계, 학습 방법 뿐만 아니라 데이터 수집 및 가공도 상당히 중요하다는 것을 깨달았습니다. 정제 및 가공을 함으로써 모델이 더 잘 학습할 수 있다는 것을 알았고, 학습 과정에서 데이터를 준비하는데 가장 시간이 오래걸린다는 것도 배울 수 있었습니다. 이외에 모델을 다양하게 바꾸어보고 비교하면서 모델의 구조, 학습 방법에 따라 정확도가 차이날 수 있다는 것을 몸소 배울 수 있었습니다. 더 좋은 모델을 설계하는 방법, 과적합을 피할 수 있는 방법 등 여러 인공지능 지식을 더 쌓아나가고 싶습니다. "
   ]
  },
  {
   "cell_type": "markdown",
   "id": "87d30d46",
   "metadata": {},
   "source": [
    "데이터셋을 받을 수 있는 사이트에서 다운로드하여 학습시키는 것 보다 제가 직접 데이터셋을 구성하여 학습할 때 그 딥러닝 모델과 데이터에 대한 이해를 높일 수 있는 것 같습니다. 이번 경험을 토대로 다음에는 제가 직접 찍은 사진을 분류하는 인공지능을 만들고 싶습니다. "
   ]
  },
  {
   "cell_type": "markdown",
   "id": "dde239b0",
   "metadata": {},
   "source": [
    "텐서플로우라는 수학적 지식이 없더라도 딥러닝을 쉽게 설계하고 실행할 수 있게 해주는 라이브러리가 있지만, 저는 인공지능의 수학적 원리를 더 자세히 배우고 싶다는 생각이 들었습니다. 특히 이번 경험은 인공지능의 학습 방법의 수학적 원리도 중요하지만 데이터를 가공할 때 수학적인 바탕이 준비되어있다면, 더 좋은 데이터셋을 구성할 수 있겠다는 생각이 들었습니다. 시간이 오래걸리고 힘들었지만 재미있는 프로젝트라 고 느껴졌습니다. 인공지능 공학자가 되기 위해 앞으로도 꾸준히 인공지능 공부를 하고싶습니다."
   ]
  },
  {
   "cell_type": "markdown",
   "id": "b4c28637",
   "metadata": {},
   "source": [
    "# --------------------------------------------"
   ]
  },
  {
   "cell_type": "markdown",
   "id": "bf1a1408",
   "metadata": {},
   "source": [
    "크롤링 코드를 보이라고 써져있지는 않지만 필요할 수도 있을 것 같아 아래에 작성해주었습니다."
   ]
  },
  {
   "cell_type": "markdown",
   "id": "b7652cbf",
   "metadata": {},
   "source": [
    "크롤링으로 장르별 가사를 수집한 엑셀 파일을 만든 이후, 이 엑셀 파일들을 합쳐 2_Original Dataset.csv을 만들었습니다. "
   ]
  },
  {
   "cell_type": "markdown",
   "id": "2e809eb8",
   "metadata": {},
   "source": [
    "봇 탐지를 피하기위해 여러 라이브러리를 사용했습니다. 추가로 설치한 라이브러리는 다음과 같습니다.\n",
    "- pip install selenium (최신 버전으로 진행했습니다)\n",
    "- pip install pandas\n",
    "- pip install undetected_chromedriver\n",
    "- pip install selenium_stealth"
   ]
  },
  {
   "cell_type": "code",
   "execution_count": null,
   "id": "b236c078",
   "metadata": {},
   "outputs": [],
   "source": [
    "# 크롤링 코드\n",
    "from selenium import webdriver\n",
    "from selenium_stealth import stealth\n",
    "from selenium.webdriver.common.by import By\n",
    "from undetected_chromedriver import Chrome\n",
    "import time\n",
    "import pandas as pd\n",
    "import csv \n",
    "\n",
    "class c_driver :\n",
    "    def __init__(self) :\n",
    "        self.driver = Chrome()\n",
    "        self.data = []\n",
    "    def get_data(self, link) :\n",
    "        self.driver.get(link)\n",
    "        self.data = []\n",
    "        for j in range(1,11) :\n",
    "            for i in range(1, 51) :\n",
    "                self.driver.find_element(By.XPATH, '//*[@id=\"frm\"]/div/table/tbody/tr['+str(i)+']/td[4]/div/a').click()\n",
    "                try :self.driver.find_element(By.XPATH, '//*[@id=\"lyricArea\"]/button/span').click()\n",
    "                except :\n",
    "                    self.driver.back()\n",
    "                    continue\n",
    "                self.data.append([self.driver.find_element(By.XPATH, '//*[@id=\"downloadfrm\"]/div/div/div[2]/div[1]/div[1]').text,\n",
    "                               self.driver.find_element(By.XPATH, '//*[@id=\"d_video_summary\"]').text])\n",
    "                self.driver.back()\n",
    "            try : self.driver.find_element(By.XPATH, '//*[@id=\"pageObjNavgation\"]/div/span/a['+str(j)+']').click()\n",
    "            except : \n",
    "                self.driver.find_element(By.XPATH, '//*[@id=\"pageObjNavgation\"]/div/a').click()\n",
    "            time.sleep(3)\n",
    "        for k in range(2) :\n",
    "            for j in range(1,11) :\n",
    "                for i in range(1, 51) :\n",
    "                    self.driver.find_element(By.XPATH, '//*[@id=\"frm\"]/div/table/tbody/tr['+str(i)+']/td[4]/div/a').click()\n",
    "                    try :self.driver.find_element(By.XPATH, '//*[@id=\"lyricArea\"]/button/span').click()\n",
    "                    except :\n",
    "                        self.driver.back()\n",
    "                        continue\n",
    "                    self.data.append([self.driver.find_element(By.XPATH, '//*[@id=\"downloadfrm\"]/div/div/div[2]/div[1]/div[1]').text,\n",
    "                                   self.driver.find_element(By.XPATH, '//*[@id=\"d_video_summary\"]').text])\n",
    "                    self.driver.back()\n",
    "                try : self.driver.find_element(By.XPATH, '//*[@id=\"pageObjNavgation\"]/div/span/a['+str(j)+']').click()\n",
    "                except : \n",
    "                    self.driver.find_element(By.XPATH, '//*[@id=\"pageObjNavgation\"]/div/a[2]').click()\n",
    "                time.sleep(3)\n",
    "    def get_csv(self, name) :\n",
    "        lm = [[],[]]\n",
    "        for l in self.data :\n",
    "            lm[0].append(l[0])\n",
    "            lm[1].append(l[1])\n",
    "        table = pd.DataFrame()\n",
    "        table['name'] = lm[0]\n",
    "        table['arti'] = lm[1]\n",
    "        table.to_csv(name+'.csv', encoding='utf-8-sig')\n",
    "    def end(self) :\n",
    "        self.driver.quit()\n",
    "\n",
    "links = [(\"https://www.melon.com/genre/song_list.htm?gnrCode=GN0100\", \"발라드\"),\n",
    "        (\"https://www.melon.com/genre/song_list.htm?gnrCode=GN0300\", \"랩힙합\"),\n",
    "        (\"https://www.melon.com/genre/song_list.htm?gnrCode=GN0700\", \"트로트\"),\n",
    "        (\"https://www.melon.com/genre/song_list.htm?gnrCode=GN2100\", \"CCM\")]\n",
    "for link in links :\n",
    "    A = c_driver()\n",
    "    A.get_data(link[0])\n",
    "    A.get_csv(link[1])\n",
    "    A.end()"
   ]
  },
  {
   "cell_type": "code",
   "execution_count": null,
   "id": "76598c20",
   "metadata": {},
   "outputs": [],
   "source": [
    "# 위에서 만든 장르별 csv파일을 합쳐 2_Origin Dataset.csv으로 만드는 과정\n",
    "csvs = [k[1] for k in links]\n",
    "def csv_data(lists) :\n",
    "    result = []\n",
    "    for l in lists :\n",
    "        f = open(l + '.csv','r', encoding='utf-8')\n",
    "        b = []\n",
    "        rdr = csv.reader(f)\n",
    "        for line in rdr:\n",
    "            b.append(line[1:])\n",
    "        b.pop(0)\n",
    "        f.close()\n",
    "        print(l, \":\", len(b))\n",
    "        result.append(b)\n",
    "    return result\n",
    "lll = csv_data(csvs)\n",
    "lm = [[],[],[]]\n",
    "for i, l in enumerate(lll) :\n",
    "    for p in l :\n",
    "        lm[0].append(p[0])\n",
    "        lm[1].append(p[1])\n",
    "        lm[2].append(csvs[i])\n",
    "table = pd.DataFrame()\n",
    "table['name'] = lm[0]\n",
    "table['lyrics'] = lm[1]\n",
    "table['genre'] = lm[2]\n",
    "table.to_csv('2_Origin Dataset.csv', encoding='utf-8-sig')"
   ]
  }
 ],
 "metadata": {
  "kernelspec": {
   "display_name": "Python 3 (ipykernel)",
   "language": "python",
   "name": "python3"
  },
  "language_info": {
   "codemirror_mode": {
    "name": "ipython",
    "version": 3
   },
   "file_extension": ".py",
   "mimetype": "text/x-python",
   "name": "python",
   "nbconvert_exporter": "python",
   "pygments_lexer": "ipython3",
   "version": "3.9.13"
  }
 },
 "nbformat": 4,
 "nbformat_minor": 5
}
