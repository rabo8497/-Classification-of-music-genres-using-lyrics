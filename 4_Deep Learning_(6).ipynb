{
 "cells": [
  {
   "cell_type": "markdown",
   "id": "1543d536",
   "metadata": {},
   "source": [
    "### Step 6. 딥러닝 구현"
   ]
  },
  {
   "cell_type": "markdown",
   "id": "0679ad47",
   "metadata": {},
   "source": [
    "# LSTM 모델 이용 (4)\n",
    "4_Deep_Learning(6) 파일에서는 LSTM 모델을 이용하여 학습을 시킬 것입니다. 4_Deep_Learning(1)에서 진행한 모델을 수정할 것입니다."
   ]
  },
  {
   "cell_type": "markdown",
   "id": "cca5b709",
   "metadata": {},
   "source": [
    "### 학습 전 데이터 가져오기\n",
    "4_Deep_Learning_(1)과 동일한 과정을 거치는 것이기 때문에 하나의 셀에 모두 적었습니다. "
   ]
  },
  {
   "cell_type": "code",
   "execution_count": 1,
   "id": "054fbf55",
   "metadata": {
    "scrolled": false
   },
   "outputs": [
    {
     "name": "stdout",
     "output_type": "stream",
     "text": [
      "train 데이터 수 : 3216\n",
      "발라드 : 804\n",
      "랩힙합 : 804\n",
      "트로트 : 804\n",
      "CCM : 804\n",
      "----------------\n",
      "test 데이터 수 : 804\n",
      "발라드 : 201\n",
      "랩힙합 : 201\n",
      "트로트 : 201\n",
      "CCM : 201\n",
      "training 데이터 수 : 3216\n",
      "test 데이터 수 : 804\n",
      "원 핫 인코딩된 y_train 예시\n",
      " [[0. 0. 0. 1.]\n",
      " [0. 0. 1. 0.]\n",
      " [0. 0. 1. 0.]]\n"
     ]
    }
   ],
   "source": [
    "import csv\n",
    "import numpy as np\n",
    "import matplotlib\n",
    "import matplotlib.pyplot as plt\n",
    "import matplotlib.font_manager as fm\n",
    "from tqdm import tqdm\n",
    "from tensorflow.keras.preprocessing.text import Tokenizer\n",
    "from tensorflow.keras.preprocessing.sequence import pad_sequences\n",
    "import random\n",
    "import tensorflow as tf\n",
    "import pandas as pd\n",
    "import re\n",
    "from sklearn.preprocessing import LabelEncoder\n",
    "from tensorflow.keras.layers import LSTM, Embedding, Dense\n",
    "from tensorflow.keras.models import Sequential\n",
    "from tensorflow.keras.models import load_model\n",
    "from tensorflow.keras.callbacks import EarlyStopping, ModelCheckpoint\n",
    "csvs = [\"발라드\", \"랩힙합\", \"트로트\", \"CCM\"]\n",
    "\n",
    "def csv_data() :\n",
    "    x_train = []\n",
    "    y_train = []\n",
    "    x_test = []\n",
    "    y_test = []\n",
    "    f = open('4_Refined Dataset.csv','r', encoding='utf-8')\n",
    "    rdr = csv.reader(f)\n",
    "    for line in rdr:\n",
    "        data = []\n",
    "        if line[-1] == 'type' : continue\n",
    "        elif line[-1] == 'train' :\n",
    "            for i in range(1,len(line)-2) :\n",
    "                data.append(int(line[i]))\n",
    "            x_train.append(data)\n",
    "            y_train.append(int(line[-2]))\n",
    "        elif line[-1] == 'test' :\n",
    "            for i in range(1,len(line)-2) :\n",
    "                data.append(int(line[i]))\n",
    "            x_test.append(data)\n",
    "            y_test.append(int(line[-2]))\n",
    "    f.close()\n",
    "    \n",
    "    # 학습 데이터 정보 출력\n",
    "    print(\"train 데이터 수 :\", len(x_train))\n",
    "    for k in range(len(csvs)) :\n",
    "        print(csvs[k] + \" :\", len([i for i in y_train if i == k]))\n",
    "    print(\"----------------\")\n",
    "    print(\"test 데이터 수 :\", len(x_test))\n",
    "    for k in range(len(csvs)) :\n",
    "        print(csvs[k] + \" :\", len([i for i in y_test if i == k]))\n",
    "    \n",
    "    return x_train, y_train, x_test, y_test\n",
    "\n",
    "x_train, y_train, x_test, y_test = csv_data()\n",
    "\n",
    "max_val_lists = []\n",
    "for i in x_train :\n",
    "    max_val_lists.append(max(i))\n",
    "num_input = max(max_val_lists) + 1\n",
    "\n",
    "train_tuple_lists = []\n",
    "for i in range(len(x_train)) :\n",
    "    train_tuple_lists.append((x_train[i], y_train[i]))\n",
    "random.shuffle(train_tuple_lists)\n",
    "x_train = [i[0] for i in train_tuple_lists]\n",
    "y_train = [i[1] for i in train_tuple_lists]\n",
    "\n",
    "e = LabelEncoder()\n",
    "e.fit(y_train)\n",
    "Y = e.transform(y_train)\n",
    "y_train = tf.keras.utils.to_categorical(Y) \n",
    "print(\"training 데이터 수 :\", len(y_train))\n",
    "\n",
    "e = LabelEncoder()\n",
    "e.fit(y_test)\n",
    "Y = e.transform(y_test)\n",
    "y_test = tf.keras.utils.to_categorical(Y) \n",
    "print(\"test 데이터 수 :\", len(y_test))\n",
    "\n",
    "print(\"원 핫 인코딩된 y_train 예시\\n\", y_train[:3])"
   ]
  },
  {
   "cell_type": "markdown",
   "id": "a50ceddb",
   "metadata": {},
   "source": [
    "## 모델 학습"
   ]
  },
  {
   "cell_type": "markdown",
   "id": "7cdaebe2",
   "metadata": {},
   "source": [
    "#### 학습(training)"
   ]
  },
  {
   "cell_type": "code",
   "execution_count": 2,
   "id": "094160b1",
   "metadata": {},
   "outputs": [],
   "source": [
    "class LSTM_4_model : # k fold에서 모델을 여러번 이용할 것이기 때문에 사용하기 쉽도록 class로 만들었습니다.\n",
    "    def __init__(self) : # 모델 설계 및 컴파일\n",
    "        self.model = Sequential()\n",
    "        self.model.add(Embedding(num_input, 20))\n",
    "        self.model.add(LSTM(32))\n",
    "        self.model.add(Dense(len(csvs), activation='softmax'))\n",
    "        self.model.compile(optimizer='rmsprop', loss='categorical_crossentropy', metrics=['acc'])\n",
    "    def learn(self, x, y, save) : # 모델 학습\n",
    "        # save : 1이면 모델 저장을 합니다\n",
    "        es = EarlyStopping(monitor='val_loss', mode='min', verbose=1, patience=4)\n",
    "        if save == 1 :\n",
    "            mc = ModelCheckpoint('LSTM_4_model.h5', monitor='val_acc', mode='max', verbose=1, save_best_only=True)\n",
    "            self.history = self.model.fit(x, y, epochs=30, callbacks=[es, mc], batch_size=16, validation_split=0.2)\n",
    "        else :\n",
    "            self.history = self.model.fit(x, y, epochs=30, callbacks=[es], batch_size=16, validation_split=0.2)\n",
    "    def graph(self) : # 그래프 그리기\n",
    "        plt.plot(range(1, len(self.history.history['acc']) + 1), self.history.history['loss'])\n",
    "        plt.plot(range(1, len(self.history.history['acc']) + 1), self.history.history['val_loss'])\n",
    "        plt.title('loss')\n",
    "        plt.ylabel('loss')\n",
    "        plt.xlabel('epoch')\n",
    "        plt.legend(['train', 'val'])\n",
    "        plt.show()\n",
    "        plt.plot(range(1, len(self.history.history['acc']) + 1), self.history.history['acc'])\n",
    "        plt.plot(range(1, len(self.history.history['acc']) + 1), self.history.history['val_acc'])\n",
    "        plt.title('accuracy')\n",
    "        plt.ylabel('accuracy')\n",
    "        plt.xlabel('epoch')\n",
    "        plt.legend(['train', 'val'])\n",
    "        plt.show()\n",
    "    def test(self, x, y) : # 모델 테스트\n",
    "        loaded_model = load_model('LSTM_4_model.h5')\n",
    "        p = (loaded_model.evaluate(x, y))\n",
    "        print(\"\\n 테스트 loss값: %.4f\" % p[0])\n",
    "        print(\"\\n 테스트 정확도: %.4f\" % p[1])\n",
    "    def return_test_acc(self, x, y) :\n",
    "        return self.model.evaluate(x, y)"
   ]
  },
  {
   "cell_type": "code",
   "execution_count": 3,
   "id": "6bd7a30b",
   "metadata": {
    "scrolled": true
   },
   "outputs": [
    {
     "name": "stdout",
     "output_type": "stream",
     "text": [
      "Model: \"sequential\"\n",
      "_________________________________________________________________\n",
      " Layer (type)                Output Shape              Param #   \n",
      "=================================================================\n",
      " embedding (Embedding)       (None, None, 20)          148300    \n",
      "                                                                 \n",
      " lstm (LSTM)                 (None, 32)                6784      \n",
      "                                                                 \n",
      " dense (Dense)               (None, 4)                 132       \n",
      "                                                                 \n",
      "=================================================================\n",
      "Total params: 155,216\n",
      "Trainable params: 155,216\n",
      "Non-trainable params: 0\n",
      "_________________________________________________________________\n",
      "None\n"
     ]
    }
   ],
   "source": [
    "A = LSTM_4_model()\n",
    "print(A.model.summary())"
   ]
  },
  {
   "cell_type": "code",
   "execution_count": 4,
   "id": "9277e42c",
   "metadata": {},
   "outputs": [
    {
     "name": "stdout",
     "output_type": "stream",
     "text": [
      "Epoch 1/30\n",
      "161/161 [==============================] - ETA: 0s - loss: 1.1860 - acc: 0.4397\n",
      "Epoch 1: val_acc improved from -inf to 0.46429, saving model to LSTM_4_model.h5\n",
      "161/161 [==============================] - 10s 55ms/step - loss: 1.1860 - acc: 0.4397 - val_loss: 0.9592 - val_acc: 0.4643\n",
      "Epoch 2/30\n",
      "161/161 [==============================] - ETA: 0s - loss: 0.8015 - acc: 0.6586\n",
      "Epoch 2: val_acc improved from 0.46429 to 0.71118, saving model to LSTM_4_model.h5\n",
      "161/161 [==============================] - 9s 55ms/step - loss: 0.8015 - acc: 0.6586 - val_loss: 0.6651 - val_acc: 0.7112\n",
      "Epoch 3/30\n",
      "161/161 [==============================] - ETA: 0s - loss: 0.5615 - acc: 0.7978\n",
      "Epoch 3: val_acc did not improve from 0.71118\n",
      "161/161 [==============================] - 9s 56ms/step - loss: 0.5615 - acc: 0.7978 - val_loss: 1.6427 - val_acc: 0.5575\n",
      "Epoch 4/30\n",
      "161/161 [==============================] - ETA: 0s - loss: 0.4176 - acc: 0.8717\n",
      "Epoch 4: val_acc improved from 0.71118 to 0.80901, saving model to LSTM_4_model.h5\n",
      "161/161 [==============================] - 9s 57ms/step - loss: 0.4176 - acc: 0.8717 - val_loss: 0.4984 - val_acc: 0.8090\n",
      "Epoch 5/30\n",
      "161/161 [==============================] - ETA: 0s - loss: 0.3076 - acc: 0.9001\n",
      "Epoch 5: val_acc did not improve from 0.80901\n",
      "161/161 [==============================] - 9s 58ms/step - loss: 0.3076 - acc: 0.9001 - val_loss: 0.5041 - val_acc: 0.7950\n",
      "Epoch 6/30\n",
      "161/161 [==============================] - ETA: 0s - loss: 0.2444 - acc: 0.9265\n",
      "Epoch 6: val_acc improved from 0.80901 to 0.84317, saving model to LSTM_4_model.h5\n",
      "161/161 [==============================] - 9s 58ms/step - loss: 0.2444 - acc: 0.9265 - val_loss: 0.5290 - val_acc: 0.8432\n",
      "Epoch 7/30\n",
      "161/161 [==============================] - ETA: 0s - loss: 0.2050 - acc: 0.9401\n",
      "Epoch 7: val_acc improved from 0.84317 to 0.87888, saving model to LSTM_4_model.h5\n",
      "161/161 [==============================] - 9s 59ms/step - loss: 0.2050 - acc: 0.9401 - val_loss: 0.3820 - val_acc: 0.8789\n",
      "Epoch 8/30\n",
      "161/161 [==============================] - ETA: 0s - loss: 0.1592 - acc: 0.9553\n",
      "Epoch 8: val_acc did not improve from 0.87888\n",
      "161/161 [==============================] - 9s 58ms/step - loss: 0.1592 - acc: 0.9553 - val_loss: 0.3939 - val_acc: 0.8758\n",
      "Epoch 9/30\n",
      "161/161 [==============================] - ETA: 0s - loss: 0.1651 - acc: 0.9600\n",
      "Epoch 9: val_acc did not improve from 0.87888\n",
      "161/161 [==============================] - 9s 57ms/step - loss: 0.1651 - acc: 0.9600 - val_loss: 0.5626 - val_acc: 0.8292\n",
      "Epoch 10/30\n",
      "161/161 [==============================] - ETA: 0s - loss: 0.1255 - acc: 0.9689\n",
      "Epoch 10: val_acc improved from 0.87888 to 0.88043, saving model to LSTM_4_model.h5\n",
      "161/161 [==============================] - 9s 58ms/step - loss: 0.1255 - acc: 0.9689 - val_loss: 0.4766 - val_acc: 0.8804\n",
      "Epoch 11/30\n",
      "161/161 [==============================] - ETA: 0s - loss: 0.1045 - acc: 0.9701\n",
      "Epoch 11: val_acc improved from 0.88043 to 0.88975, saving model to LSTM_4_model.h5\n",
      "161/161 [==============================] - 9s 58ms/step - loss: 0.1045 - acc: 0.9701 - val_loss: 0.3956 - val_acc: 0.8898\n",
      "Epoch 11: early stopping\n"
     ]
    }
   ],
   "source": [
    "A.learn(np.array(x_train), y_train, 1) "
   ]
  },
  {
   "cell_type": "markdown",
   "id": "86185791",
   "metadata": {},
   "source": [
    "#### 시각화"
   ]
  },
  {
   "cell_type": "code",
   "execution_count": 5,
   "id": "eb786080",
   "metadata": {},
   "outputs": [
    {
     "data": {
      "image/png": "[encoded data removed]",
      "text/plain": [
       "<Figure size 640x480 with 1 Axes>"
      ]
     },
     "metadata": {},
     "output_type": "display_data"
    },
    {
     "data": {
      "image/png": "[encoded data removed]",
      "text/plain": [
       "<Figure size 640x480 with 1 Axes>"
      ]
     },
     "metadata": {},
     "output_type": "display_data"
    }
   ],
   "source": [
    "A.graph()"
   ]
  },
  {
   "cell_type": "markdown",
   "id": "5c15afcf",
   "metadata": {},
   "source": [
    "#### 평가(test)"
   ]
  },
  {
   "cell_type": "code",
   "execution_count": 6,
   "id": "5980e437",
   "metadata": {},
   "outputs": [
    {
     "name": "stdout",
     "output_type": "stream",
     "text": [
      "26/26 [==============================] - 1s 17ms/step - loss: 0.4612 - acc: 0.8769\n",
      "\n",
      " 테스트 loss값: 0.4612\n",
      "\n",
      " 테스트 정확도: 0.8769\n"
     ]
    }
   ],
   "source": [
    "A.test(np.array(x_test), y_test)"
   ]
  },
  {
   "cell_type": "markdown",
   "id": "44c6b05d",
   "metadata": {},
   "source": [
    "#### 데이터셋에 없는 가사 예측\n",
    "데이터셋에 없는 가사를 받아 예측하기 위해서는 데이터 정제, 가공 과정이 다시 필요합니다. 따라서 4_Dataset Processing 과정을 반복하여 tokenizer을 얻도록 했습니다. 한번 더 작성하는 대신 processing.py형태로 만들어서 가져와 사용했습니다."
   ]
  },
  {
   "cell_type": "code",
   "execution_count": 7,
   "id": "9a62d850",
   "metadata": {
    "scrolled": true
   },
   "outputs": [],
   "source": [
    "import processing # processing.py\n",
    "import re\n",
    "from konlpy.tag import Okt\n",
    "tokenizer = processing.processing(num_input)\n",
    "\n",
    "def pred(data) :\n",
    "    data = data.replace(\"\\n\", \" \")\n",
    "    data = re.sub(r'[^ㄱ-ㅎㅏ-ㅣ가-힣 ]',\"\", data)\n",
    "    okt = Okt()\n",
    "    data = okt.morphs(data, stem=True)\n",
    "    data = tokenizer.texts_to_sequences([data])\n",
    "    print(\"예측 : \" + csvs[int(np.argmax(A.model.predict(data, verbose=0), axis=-1))])"
   ]
  },
  {
   "cell_type": "markdown",
   "id": "54da2b93",
   "metadata": {},
   "source": [
    "위의 pred()함수를 이용해 예측할 수 있습니다. 가사를 그대로 가져와 아래의 변수 a에 넣은 후 pred(a)로 예측했습니다."
   ]
  },
  {
   "cell_type": "code",
   "execution_count": 8,
   "id": "e9217ded",
   "metadata": {
    "scrolled": false
   },
   "outputs": [
    {
     "name": "stdout",
     "output_type": "stream",
     "text": [
      "예측 : 발라드\n"
     ]
    }
   ],
   "source": [
    "# 데이터셋에 없는 노래를 가져왔습니다. (정답 : 발라드)\n",
    "a = '''이제 괜찮냐 묻지 않네요\n",
    "이젠 내가 짐이 된 걸까요\n",
    "멍든 내 마음이 가여워서\n",
    "우습게 우리의 과거를 바래봐요\n",
    "우리 만일에 마주하더라도\n",
    "아무 말 없이 지나가요\n",
    "그렇게 날 쳐다보지 말아요\n",
    "그대 제발\n",
    "더 이상 나 괴로워하지 않아요\n",
    "그댄 날 잊었는데\n",
    "그대도 해냈는데\n",
    "나라고 못할 거 있나요\n",
    "멍든 내 마음이 가여워서\n",
    "이제는 우리의 과거를 지워가요\n",
    "우리 만일에 마주하더라도\n",
    "아무 말 없이 지나가요\n",
    "그렇게 날 쳐다보지 말아요\n",
    "그대 제발\n",
    "더 이상 나 괴로워하지 않아요\n",
    "그댄 날 잊었는데\n",
    "그대도 해냈는데\n",
    "나라고 못할 거 있나요\n",
    "괴로워하지 않아요\n",
    "그댄 날 잊었는데\n",
    "그대도 해냈는데\n",
    "나라고 못할 거 있나요'''\n",
    "\n",
    "pred(a)"
   ]
  },
  {
   "cell_type": "code",
   "execution_count": 9,
   "id": "c4df7e9a",
   "metadata": {},
   "outputs": [
    {
     "name": "stdout",
     "output_type": "stream",
     "text": [
      "예측 : 랩힙합\n"
     ]
    }
   ],
   "source": [
    "# 데이터셋에 없는 노래를 가져왔습니다. (정답 : 랩힙합)\n",
    "a = '''I know it`s your time \n",
    "그런데도 너에게 간데\n",
    "아마 위험한\n",
    "대가는 나에게만 왜 (why)\n",
    "이유가 대체 넌\n",
    "뭐라 생각해?\n",
    "아마 이건 참\n",
    "알아도 잠시 길을 잃어 way\n",
    "어제는 저기가 main\n",
    "오늘은 여기로 해\n",
    "네가 날 어지럽게\n",
    "하는지 모르겠어 잠시 wait\n",
    "귀가를 하기로 해\n",
    "조금은 쉬기로 해\n",
    "내가 원하는 뭘 하든\n",
    "내 시간을 제발 좀 갖기로 해\n",
    "반복해 너를 표현해 All day\n",
    "피해자래 난 그저 웃어\n",
    "The word doesn't suit you babe\n",
    "아무 말도 하지마\n",
    "덧붙여 말을 해\n",
    "You're really so bad\n",
    "난 그저 웃겨\n",
    "The word\n",
    "doesn't suit you babe\n",
    "아무 말도 하지마 하지마\n",
    "그건 아닐 거야\n",
    "네가 굉장히 오해가 많아\n",
    "내가 친절하게\n",
    "설명해도\n",
    "yeah 안 들어줘 sh*t!\n",
    "너에겐 자비롭고\n",
    "그런 걸 바라는 내가 참\n",
    "한심해 보이며 어이없어\n",
    "Next time 다음 시간을\n",
    "기약하며 날 뒤로 휙\n",
    "던져 버린 후에 잠시 놓기\n",
    "오후 지나 밤에 다시 줍기\n",
    "이런 사실을 넌 알 리 없지\n",
    "노래로 처음 접하게 될 일\n",
    "조금은 아쉽겠지만 뭐 어떻게\n",
    "이미 다른 차에 타 있으니\n",
    "네가 피해자래도\n",
    "입장을 바꿔 말해줘\n",
    "근데 넌 절대 모르겠지\n",
    "평생을 제발 그렇겠니\n",
    "반복해 너를 표현해 All day\n",
    "피해자래 난 그저 웃어\n",
    "The word doesn't suit you babe\n",
    "아무 말도 하지마\n",
    "덧붙여 말을 해\n",
    "You're really so bad 난 그저 웃겨\n",
    "The word doesn't suit you babe\n",
    "아무 말도 하지마 하지마'''\n",
    "\n",
    "pred(a)"
   ]
  },
  {
   "cell_type": "markdown",
   "id": "335963f9",
   "metadata": {},
   "source": [
    "### 다른 모델들과 비교"
   ]
  },
  {
   "cell_type": "markdown",
   "id": "9f4c71d6",
   "metadata": {},
   "source": [
    "#### k-fold cross validation\n",
    "다른 모델들과 비교하기 위해서는 k-fold를 이용해 산출한 평균 정확도를 비교하는 것이 필요하다고 생각했습니다. k fold에 이용되는 데이터 셋으로는 위에서의 x_train을 나누어 train, test 데이터로 만들어 이용했습니다."
   ]
  },
  {
   "cell_type": "code",
   "execution_count": 10,
   "id": "1138a5c8",
   "metadata": {
    "scrolled": true
   },
   "outputs": [
    {
     "name": "stdout",
     "output_type": "stream",
     "text": [
      "--------------1번째 그룹----------------\n",
      "Epoch 1/30\n",
      "129/129 [==============================] - 9s 57ms/step - loss: 1.1788 - acc: 0.4298 - val_loss: 1.1796 - val_acc: 0.4583\n",
      "Epoch 2/30\n",
      "129/129 [==============================] - 7s 55ms/step - loss: 0.8570 - acc: 0.6072 - val_loss: 0.7709 - val_acc: 0.6796\n",
      "Epoch 3/30\n",
      "129/129 [==============================] - 7s 56ms/step - loss: 0.6744 - acc: 0.7268 - val_loss: 0.9200 - val_acc: 0.5282\n",
      "Epoch 4/30\n",
      "129/129 [==============================] - 8s 59ms/step - loss: 0.5924 - acc: 0.7491 - val_loss: 0.6278 - val_acc: 0.8019\n",
      "Epoch 5/30\n",
      "129/129 [==============================] - 8s 62ms/step - loss: 0.4699 - acc: 0.8245 - val_loss: 0.6791 - val_acc: 0.7573\n",
      "Epoch 6/30\n",
      "129/129 [==============================] - 8s 62ms/step - loss: 0.4347 - acc: 0.8595 - val_loss: 0.5859 - val_acc: 0.7748\n",
      "Epoch 7/30\n",
      "129/129 [==============================] - 8s 59ms/step - loss: 0.3844 - acc: 0.8590 - val_loss: 0.5182 - val_acc: 0.8136\n",
      "Epoch 8/30\n",
      "129/129 [==============================] - 8s 58ms/step - loss: 0.3143 - acc: 0.8926 - val_loss: 0.5102 - val_acc: 0.8388\n",
      "Epoch 9/30\n",
      "129/129 [==============================] - 8s 60ms/step - loss: 0.2815 - acc: 0.9125 - val_loss: 0.6815 - val_acc: 0.7650\n",
      "Epoch 10/30\n",
      "129/129 [==============================] - 8s 62ms/step - loss: 0.2567 - acc: 0.9169 - val_loss: 0.4745 - val_acc: 0.8524\n",
      "Epoch 11/30\n",
      "129/129 [==============================] - 8s 58ms/step - loss: 0.2295 - acc: 0.9349 - val_loss: 0.8440 - val_acc: 0.6932\n",
      "Epoch 12/30\n",
      "129/129 [==============================] - 8s 59ms/step - loss: 0.2344 - acc: 0.9198 - val_loss: 0.7027 - val_acc: 0.7379\n",
      "Epoch 13/30\n",
      "129/129 [==============================] - 8s 62ms/step - loss: 0.1681 - acc: 0.9528 - val_loss: 0.4924 - val_acc: 0.8544\n",
      "Epoch 14/30\n",
      "129/129 [==============================] - 8s 60ms/step - loss: 0.1470 - acc: 0.9543 - val_loss: 0.7466 - val_acc: 0.7845\n",
      "Epoch 14: early stopping\n",
      "21/21 [==============================] - 0s 18ms/step - loss: 0.7961 - acc: 0.7531\n",
      "21/21 [==============================] - 0s 17ms/step - loss: 0.7961 - acc: 0.7531\n",
      "--------------2번째 그룹----------------\n",
      "Epoch 1/30\n",
      "129/129 [==============================] - 10s 63ms/step - loss: 1.1842 - acc: 0.3897 - val_loss: 0.9609 - val_acc: 0.5049\n",
      "Epoch 2/30\n",
      "129/129 [==============================] - 8s 60ms/step - loss: 0.9513 - acc: 0.5151 - val_loss: 0.9084 - val_acc: 0.5340\n",
      "Epoch 3/30\n",
      "129/129 [==============================] - 8s 59ms/step - loss: 0.8402 - acc: 0.6050 - val_loss: 0.8662 - val_acc: 0.5864\n",
      "Epoch 4/30\n",
      "129/129 [==============================] - 8s 59ms/step - loss: 0.8386 - acc: 0.5918 - val_loss: 0.7695 - val_acc: 0.6680\n",
      "Epoch 5/30\n",
      "129/129 [==============================] - 8s 60ms/step - loss: 0.6572 - acc: 0.7094 - val_loss: 0.6563 - val_acc: 0.7107\n",
      "Epoch 6/30\n",
      "129/129 [==============================] - 8s 59ms/step - loss: 0.5542 - acc: 0.7362 - val_loss: 0.6377 - val_acc: 0.6893\n",
      "Epoch 7/30\n",
      "129/129 [==============================] - 8s 60ms/step - loss: 0.5084 - acc: 0.7653 - val_loss: 0.7059 - val_acc: 0.6583\n",
      "Epoch 8/30\n",
      "129/129 [==============================] - 8s 62ms/step - loss: 0.4662 - acc: 0.7775 - val_loss: 0.5765 - val_acc: 0.7184\n",
      "Epoch 9/30\n",
      "129/129 [==============================] - 8s 63ms/step - loss: 0.4365 - acc: 0.8115 - val_loss: 0.5775 - val_acc: 0.7534\n",
      "Epoch 10/30\n",
      "129/129 [==============================] - 8s 59ms/step - loss: 0.3742 - acc: 0.8664 - val_loss: 0.4961 - val_acc: 0.8155\n",
      "Epoch 11/30\n",
      "129/129 [==============================] - 8s 60ms/step - loss: 0.2913 - acc: 0.8980 - val_loss: 0.5263 - val_acc: 0.8194\n",
      "Epoch 12/30\n",
      "129/129 [==============================] - 8s 59ms/step - loss: 0.2547 - acc: 0.9121 - val_loss: 0.5001 - val_acc: 0.8330\n",
      "Epoch 13/30\n",
      "129/129 [==============================] - 8s 59ms/step - loss: 0.2209 - acc: 0.9305 - val_loss: 0.5300 - val_acc: 0.8233\n",
      "Epoch 14/30\n",
      "129/129 [==============================] - 8s 63ms/step - loss: 0.1723 - acc: 0.9466 - val_loss: 0.5484 - val_acc: 0.8388\n",
      "Epoch 14: early stopping\n",
      "21/21 [==============================] - 0s 18ms/step - loss: 0.5838 - acc: 0.8196\n",
      "21/21 [==============================] - 0s 18ms/step - loss: 0.5838 - acc: 0.8196\n",
      "--------------3번째 그룹----------------\n",
      "Epoch 1/30\n",
      "129/129 [==============================] - 10s 64ms/step - loss: 1.2393 - acc: 0.3897 - val_loss: 1.0311 - val_acc: 0.5825\n",
      "Epoch 2/30\n",
      "129/129 [==============================] - 8s 60ms/step - loss: 0.9448 - acc: 0.5884 - val_loss: 0.9027 - val_acc: 0.5961\n",
      "Epoch 3/30\n",
      "129/129 [==============================] - 8s 61ms/step - loss: 0.7191 - acc: 0.6900 - val_loss: 0.6377 - val_acc: 0.6854\n",
      "Epoch 4/30\n",
      "129/129 [==============================] - 8s 61ms/step - loss: 0.5664 - acc: 0.7347 - val_loss: 0.6107 - val_acc: 0.7553\n",
      "Epoch 5/30\n",
      "129/129 [==============================] - 8s 60ms/step - loss: 0.5091 - acc: 0.7993 - val_loss: 0.6403 - val_acc: 0.7495\n",
      "Epoch 6/30\n",
      "129/129 [==============================] - 8s 60ms/step - loss: 0.4665 - acc: 0.8163 - val_loss: 0.6485 - val_acc: 0.7748\n",
      "Epoch 7/30\n",
      "129/129 [==============================] - 8s 61ms/step - loss: 0.4305 - acc: 0.8207 - val_loss: 0.5649 - val_acc: 0.7709\n",
      "Epoch 8/30\n",
      "129/129 [==============================] - 8s 61ms/step - loss: 0.3104 - acc: 0.8955 - val_loss: 0.6357 - val_acc: 0.7612\n",
      "Epoch 9/30\n",
      "129/129 [==============================] - 8s 61ms/step - loss: 0.2684 - acc: 0.9121 - val_loss: 0.5266 - val_acc: 0.8350\n",
      "Epoch 10/30\n",
      "129/129 [==============================] - 8s 63ms/step - loss: 0.2188 - acc: 0.9383 - val_loss: 0.5162 - val_acc: 0.8408\n",
      "Epoch 11/30\n",
      "129/129 [==============================] - 8s 62ms/step - loss: 0.1932 - acc: 0.9422 - val_loss: 0.4812 - val_acc: 0.8602\n",
      "Epoch 12/30\n",
      "129/129 [==============================] - 8s 61ms/step - loss: 0.1561 - acc: 0.9519 - val_loss: 0.5627 - val_acc: 0.8330\n",
      "Epoch 13/30\n",
      "129/129 [==============================] - 8s 61ms/step - loss: 0.1492 - acc: 0.9582 - val_loss: 0.4720 - val_acc: 0.8583\n",
      "Epoch 14/30\n",
      "129/129 [==============================] - 8s 61ms/step - loss: 0.1087 - acc: 0.9684 - val_loss: 0.5428 - val_acc: 0.8583\n",
      "Epoch 15/30\n",
      "129/129 [==============================] - 8s 61ms/step - loss: 0.1167 - acc: 0.9689 - val_loss: 0.5737 - val_acc: 0.8291\n",
      "Epoch 16/30\n",
      "129/129 [==============================] - 8s 60ms/step - loss: 0.0955 - acc: 0.9762 - val_loss: 0.5656 - val_acc: 0.8641\n",
      "Epoch 17/30\n",
      "129/129 [==============================] - 8s 61ms/step - loss: 0.0880 - acc: 0.9796 - val_loss: 0.5785 - val_acc: 0.8505\n",
      "Epoch 17: early stopping\n",
      "21/21 [==============================] - 0s 18ms/step - loss: 0.5757 - acc: 0.8600\n",
      "21/21 [==============================] - 0s 19ms/step - loss: 0.5757 - acc: 0.8600\n",
      "--------------4번째 그룹----------------\n",
      "Epoch 1/30\n",
      "129/129 [==============================] - 10s 65ms/step - loss: 1.2063 - acc: 0.3999 - val_loss: 0.9905 - val_acc: 0.4835\n",
      "Epoch 2/30\n",
      "129/129 [==============================] - 8s 61ms/step - loss: 0.9404 - acc: 0.5355 - val_loss: 0.9225 - val_acc: 0.4718\n",
      "Epoch 3/30\n",
      "129/129 [==============================] - 8s 61ms/step - loss: 0.8064 - acc: 0.6774 - val_loss: 0.8780 - val_acc: 0.5573\n",
      "Epoch 4/30\n",
      "129/129 [==============================] - 8s 60ms/step - loss: 0.6271 - acc: 0.7342 - val_loss: 0.6994 - val_acc: 0.6913\n",
      "Epoch 5/30\n",
      "129/129 [==============================] - 8s 62ms/step - loss: 0.5251 - acc: 0.7862 - val_loss: 0.7447 - val_acc: 0.7049\n",
      "Epoch 6/30\n",
      "129/129 [==============================] - 8s 61ms/step - loss: 0.4009 - acc: 0.8644 - val_loss: 0.5086 - val_acc: 0.8214\n",
      "Epoch 7/30\n",
      "129/129 [==============================] - 8s 62ms/step - loss: 0.3428 - acc: 0.8844 - val_loss: 0.5071 - val_acc: 0.8214\n",
      "Epoch 8/30\n",
      "129/129 [==============================] - 8s 63ms/step - loss: 0.2727 - acc: 0.9101 - val_loss: 0.5213 - val_acc: 0.8155\n",
      "Epoch 9/30\n",
      "129/129 [==============================] - 8s 61ms/step - loss: 0.2293 - acc: 0.9305 - val_loss: 0.4747 - val_acc: 0.8330\n",
      "Epoch 10/30\n",
      "129/129 [==============================] - 8s 61ms/step - loss: 0.1733 - acc: 0.9475 - val_loss: 0.4736 - val_acc: 0.8427\n",
      "Epoch 11/30\n",
      "129/129 [==============================] - 8s 61ms/step - loss: 0.1545 - acc: 0.9538 - val_loss: 0.5604 - val_acc: 0.8097\n",
      "Epoch 12/30\n"
     ]
    },
    {
     "name": "stdout",
     "output_type": "stream",
     "text": [
      "129/129 [==============================] - 8s 61ms/step - loss: 0.1228 - acc: 0.9660 - val_loss: 0.5045 - val_acc: 0.8505\n",
      "Epoch 13/30\n",
      "129/129 [==============================] - 8s 61ms/step - loss: 0.1147 - acc: 0.9670 - val_loss: 0.6719 - val_acc: 0.8078\n",
      "Epoch 14/30\n",
      "129/129 [==============================] - 8s 61ms/step - loss: 0.0677 - acc: 0.9806 - val_loss: 0.5628 - val_acc: 0.8524\n",
      "Epoch 14: early stopping\n",
      "21/21 [==============================] - 0s 17ms/step - loss: 0.6550 - acc: 0.8491\n",
      "21/21 [==============================] - 0s 17ms/step - loss: 0.6550 - acc: 0.8491\n",
      "--------------5번째 그룹----------------\n",
      "Epoch 1/30\n",
      "129/129 [==============================] - 10s 64ms/step - loss: 1.1995 - acc: 0.4033 - val_loss: 0.9663 - val_acc: 0.5107\n",
      "Epoch 2/30\n",
      "129/129 [==============================] - 8s 60ms/step - loss: 0.8751 - acc: 0.5617 - val_loss: 0.7965 - val_acc: 0.6136\n",
      "Epoch 3/30\n",
      "129/129 [==============================] - 8s 60ms/step - loss: 0.6933 - acc: 0.7119 - val_loss: 0.7149 - val_acc: 0.6563\n",
      "Epoch 4/30\n",
      "129/129 [==============================] - 8s 59ms/step - loss: 0.5690 - acc: 0.7541 - val_loss: 0.7869 - val_acc: 0.6291\n",
      "Epoch 5/30\n",
      "129/129 [==============================] - 8s 59ms/step - loss: 0.5178 - acc: 0.8052 - val_loss: 0.6481 - val_acc: 0.7767\n",
      "Epoch 6/30\n",
      "129/129 [==============================] - 8s 59ms/step - loss: 0.4300 - acc: 0.8562 - val_loss: 0.6439 - val_acc: 0.7379\n",
      "Epoch 7/30\n",
      "129/129 [==============================] - 8s 60ms/step - loss: 0.3913 - acc: 0.8746 - val_loss: 0.6940 - val_acc: 0.7689\n",
      "Epoch 8/30\n",
      "129/129 [==============================] - 8s 59ms/step - loss: 0.3516 - acc: 0.8790 - val_loss: 0.5450 - val_acc: 0.8058\n",
      "Epoch 9/30\n",
      "129/129 [==============================] - 8s 60ms/step - loss: 0.3023 - acc: 0.9038 - val_loss: 0.5045 - val_acc: 0.8602\n",
      "Epoch 10/30\n",
      "129/129 [==============================] - 8s 62ms/step - loss: 0.2370 - acc: 0.9334 - val_loss: 0.6193 - val_acc: 0.8175\n",
      "Epoch 11/30\n",
      "129/129 [==============================] - 8s 60ms/step - loss: 0.2300 - acc: 0.9344 - val_loss: 0.7771 - val_acc: 0.7612\n",
      "Epoch 12/30\n",
      "129/129 [==============================] - 8s 60ms/step - loss: 0.1857 - acc: 0.9480 - val_loss: 0.5432 - val_acc: 0.8447\n",
      "Epoch 13/30\n",
      "129/129 [==============================] - 8s 60ms/step - loss: 0.1825 - acc: 0.9461 - val_loss: 0.5623 - val_acc: 0.8388\n",
      "Epoch 13: early stopping\n",
      "21/21 [==============================] - 0s 19ms/step - loss: 0.6899 - acc: 0.8072\n",
      "21/21 [==============================] - 0s 18ms/step - loss: 0.6899 - acc: 0.8072\n",
      "-----------------------------------------\n",
      "------------------결과-------------------\n",
      "-----------------------------------------\n",
      "각 분할의 loss : [0.7531055808067322, 0.8195956349372864, 0.8600311279296875, 0.8491446375846863, 0.8071539402008057]\n",
      "평균 loss : 0.8178061842918396\n",
      "각 분할의 정확도 : [0.7531055808067322, 0.8195956349372864, 0.8600311279296875, 0.8491446375846863, 0.8071539402008057]\n",
      "평균 정확도 : 81.78061842918396 %\n"
     ]
    }
   ],
   "source": [
    "from sklearn.ensemble import RandomForestClassifier\n",
    "from sklearn.metrics import accuracy_score\n",
    "from sklearn.model_selection import KFold\n",
    "\n",
    "\n",
    "def start_kfold(X, y) :\n",
    "    kf = KFold(n_splits = 5, shuffle = True, random_state = 50)\n",
    "    accuracy_history = []\n",
    "    loss_history = []\n",
    "    num = 0\n",
    "    models = []\n",
    "    for train_index, test_index in kf.split(X):\n",
    "        num += 1\n",
    "        print(\"--------------\" + str(num) + \"번째 그룹\" + \"----------------\")\n",
    "        X_train, X_test = X[train_index], X[test_index]\n",
    "        y_train, y_test = y[train_index], y[test_index]\n",
    "        \n",
    "        B = LSTM_4_model()\n",
    "        B.learn(X_train, y_train, 0)\n",
    "        accuracy_history.append(B.return_test_acc(X_test, y_test)[1]) # 정확도 측정 및 기록\n",
    "        loss_history.append(B.return_test_acc(X_test, y_test)[0])\n",
    "    print(\"-----------------------------------------\")\n",
    "    print(\"------------------결과-------------------\")\n",
    "    print(\"-----------------------------------------\")\n",
    "    print(\"각 분할의 loss :\", accuracy_history)\n",
    "    print(\"평균 loss :\", np.mean(accuracy_history))\n",
    "    print(\"각 분할의 정확도 :\", accuracy_history)\n",
    "    print(\"평균 정확도 :\", np.mean(accuracy_history)*100, \"%\")\n",
    "    \n",
    "    \n",
    "start_kfold(np.array(x_train), y_train)"
   ]
  },
  {
   "cell_type": "markdown",
   "id": "a3d77255",
   "metadata": {},
   "source": [
    "k-fold를 이용해 구한 loss값은 [0.7531055808067322, 0.8195956349372864, 0.8600311279296875, 0.8491446375846863, 0.8071539402008057]로 평균 0.82입니다. 정확도는 [0.7531055808067322, 0.8195956349372864, 0.8600311279296875, 0.8491446375846863, 0.8071539402008057]으로 평균 81.78%입니다. "
   ]
  },
  {
   "attachments": {
    "image-2.png": {
     "image/png": "[encoded data removed]"
    }
   },
   "cell_type": "markdown",
   "id": "862ee32c",
   "metadata": {},
   "source": [
    "![image-2.png](attachment:image-2.png)"
   ]
  },
  {
   "cell_type": "markdown",
   "id": "c228dafd",
   "metadata": {},
   "source": [
    "본 모델(LSTM-4)은 5_Deep Learning_(1) 모델에서 배치사이즈를 1/4로 줄여서 학습한 모델입니다. 다른 모델에 비해 가장 높은 정확도를 보였습니다."
   ]
  }
 ],
 "metadata": {
  "kernelspec": {
   "display_name": "Python 3 (ipykernel)",
   "language": "python",
   "name": "python3"
  },
  "language_info": {
   "codemirror_mode": {
    "name": "ipython",
    "version": 3
   },
   "file_extension": ".py",
   "mimetype": "text/x-python",
   "name": "python",
   "nbconvert_exporter": "python",
   "pygments_lexer": "ipython3",
   "version": "3.9.13"
  }
 },
 "nbformat": 4,
 "nbformat_minor": 5
}
