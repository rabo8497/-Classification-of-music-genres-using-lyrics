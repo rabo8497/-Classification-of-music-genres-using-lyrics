{
 "cells": [
  {
   "cell_type": "markdown",
   "id": "1543d536",
   "metadata": {},
   "source": [
    "### Step 6. 딥러닝 구현"
   ]
  },
  {
   "cell_type": "markdown",
   "id": "0679ad47",
   "metadata": {},
   "source": [
    "# RNN 모델 이용\n",
    "4_Deep_Learning(2) 파일에서는 기본적인 RNN 모델을 이용하여 학습을 시킬 것입니다."
   ]
  },
  {
   "cell_type": "markdown",
   "id": "cca5b709",
   "metadata": {},
   "source": [
    "### 학습 전 데이터 가져오기\n",
    "4_Deep_Learning_(1)과 동일한 과정을 거치는 것이기 때문에 하나의 셀에 모두 적었습니다. "
   ]
  },
  {
   "cell_type": "code",
   "execution_count": 21,
   "id": "054fbf55",
   "metadata": {
    "scrolled": false
   },
   "outputs": [
    {
     "name": "stdout",
     "output_type": "stream",
     "text": [
      "train 데이터 수 : 3216\n",
      "발라드 : 804\n",
      "랩힙합 : 804\n",
      "트로트 : 804\n",
      "CCM : 804\n",
      "----------------\n",
      "test 데이터 수 : 804\n",
      "발라드 : 201\n",
      "랩힙합 : 201\n",
      "트로트 : 201\n",
      "CCM : 201\n",
      "training 데이터 수 : 3216\n",
      "test 데이터 수 : 804\n",
      "원 핫 인코딩된 y_train 예시\n",
      " [[0. 0. 1. 0.]\n",
      " [1. 0. 0. 0.]\n",
      " [0. 0. 1. 0.]]\n"
     ]
    }
   ],
   "source": [
    "import csv\n",
    "import numpy as np\n",
    "import matplotlib\n",
    "import matplotlib.pyplot as plt\n",
    "import matplotlib.font_manager as fm\n",
    "from tqdm import tqdm\n",
    "from tensorflow.keras.preprocessing.text import Tokenizer\n",
    "from tensorflow.keras.preprocessing.sequence import pad_sequences\n",
    "import random\n",
    "import tensorflow as tf\n",
    "import pandas as pd\n",
    "import re\n",
    "from sklearn.preprocessing import LabelEncoder\n",
    "from tensorflow.keras.layers import SimpleRNN, Embedding, Dense\n",
    "from tensorflow.keras.models import Sequential\n",
    "from tensorflow.keras.models import load_model\n",
    "from tensorflow.keras.callbacks import EarlyStopping, ModelCheckpoint\n",
    "csvs = [\"발라드\", \"랩힙합\", \"트로트\", \"CCM\"]\n",
    "\n",
    "def csv_data() :\n",
    "    x_train = []\n",
    "    y_train = []\n",
    "    x_test = []\n",
    "    y_test = []\n",
    "    f = open('4_Refined Dataset.csv','r', encoding='utf-8')\n",
    "    rdr = csv.reader(f)\n",
    "    for line in rdr:\n",
    "        data = []\n",
    "        if line[-1] == 'type' : continue\n",
    "        elif line[-1] == 'train' :\n",
    "            for i in range(1,len(line)-2) :\n",
    "                data.append(int(line[i]))\n",
    "            x_train.append(data)\n",
    "            y_train.append(int(line[-2]))\n",
    "        elif line[-1] == 'test' :\n",
    "            for i in range(1,len(line)-2) :\n",
    "                data.append(int(line[i]))\n",
    "            x_test.append(data)\n",
    "            y_test.append(int(line[-2]))\n",
    "    f.close()\n",
    "    \n",
    "    # 학습 데이터 정보 출력\n",
    "    print(\"train 데이터 수 :\", len(x_train))\n",
    "    for k in range(len(csvs)) :\n",
    "        print(csvs[k] + \" :\", len([i for i in y_train if i == k]))\n",
    "    print(\"----------------\")\n",
    "    print(\"test 데이터 수 :\", len(x_test))\n",
    "    for k in range(len(csvs)) :\n",
    "        print(csvs[k] + \" :\", len([i for i in y_test if i == k]))\n",
    "    \n",
    "    return x_train, y_train, x_test, y_test\n",
    "\n",
    "x_train, y_train, x_test, y_test = csv_data()\n",
    "\n",
    "max_val_lists = []\n",
    "for i in x_train :\n",
    "    max_val_lists.append(max(i))\n",
    "num_input = max(max_val_lists) + 1\n",
    "\n",
    "train_tuple_lists = []\n",
    "for i in range(len(x_train)) :\n",
    "    train_tuple_lists.append((x_train[i], y_train[i]))\n",
    "random.shuffle(train_tuple_lists)\n",
    "x_train = [i[0] for i in train_tuple_lists]\n",
    "y_train = [i[1] for i in train_tuple_lists]\n",
    "\n",
    "e = LabelEncoder()\n",
    "e.fit(y_train)\n",
    "Y = e.transform(y_train)\n",
    "y_train = tf.keras.utils.to_categorical(Y) \n",
    "print(\"training 데이터 수 :\", len(y_train))\n",
    "\n",
    "e = LabelEncoder()\n",
    "e.fit(y_test)\n",
    "Y = e.transform(y_test)\n",
    "y_test = tf.keras.utils.to_categorical(Y) \n",
    "print(\"test 데이터 수 :\", len(y_test))\n",
    "\n",
    "print(\"원 핫 인코딩된 y_train 예시\\n\", y_train[:3])"
   ]
  },
  {
   "cell_type": "markdown",
   "id": "a50ceddb",
   "metadata": {},
   "source": [
    "## 모델 학습"
   ]
  },
  {
   "cell_type": "markdown",
   "id": "7cdaebe2",
   "metadata": {},
   "source": [
    "#### 학습(training)"
   ]
  },
  {
   "cell_type": "code",
   "execution_count": 22,
   "id": "094160b1",
   "metadata": {},
   "outputs": [],
   "source": [
    "class RNN_model : # k fold에서 모델을 여러번 이용할 것이기 때문에 사용하기 쉽도록 class로 만들었습니다.\n",
    "    def __init__(self) : # 모델 설계 및 컴파일\n",
    "        self.model = Sequential()\n",
    "        self.model.add(Embedding(num_input, 20))\n",
    "        self.model.add(SimpleRNN(64)) # 딥러닝 모델 1과 파라미터 수를 비슷하게 맞추기 위해 64로 했습니다.\n",
    "        self.model.add(Dense(len(csvs), activation='softmax'))\n",
    "        self.model.compile(optimizer='rmsprop', loss='categorical_crossentropy', metrics=['acc'])\n",
    "    def learn(self, x, y, save) : # 모델 학습\n",
    "        # save : 1이면 모델 저장을 합니다\n",
    "        es = EarlyStopping(monitor='val_loss', mode='min', verbose=1, patience=4)\n",
    "        if save == 1 :\n",
    "            mc = ModelCheckpoint('RNN_model.h5', monitor='val_acc', mode='max', verbose=1, save_best_only=True)\n",
    "            self.history = self.model.fit(x, y, epochs=30, callbacks=[es, mc], batch_size=64, validation_split=0.2)\n",
    "        else :\n",
    "            self.history = self.model.fit(x, y, epochs=30, callbacks=[es], batch_size=64, validation_split=0.2)\n",
    "    def graph(self) : # 그래프 그리기\n",
    "        plt.plot(range(1, len(self.history.history['acc']) + 1), self.history.history['loss'])\n",
    "        plt.plot(range(1, len(self.history.history['acc']) + 1), self.history.history['val_loss'])\n",
    "        plt.title('loss')\n",
    "        plt.ylabel('loss')\n",
    "        plt.xlabel('epoch')\n",
    "        plt.legend(['train', 'val'])\n",
    "        plt.show()\n",
    "        plt.plot(range(1, len(self.history.history['acc']) + 1), self.history.history['acc'])\n",
    "        plt.plot(range(1, len(self.history.history['acc']) + 1), self.history.history['val_acc'])\n",
    "        plt.title('accuracy')\n",
    "        plt.ylabel('accuracy')\n",
    "        plt.xlabel('epoch')\n",
    "        plt.legend(['train', 'val'])\n",
    "        plt.show()\n",
    "    def test(self, x, y) : # 모델 테스트\n",
    "        loaded_model = load_model('RNN_model.h5')\n",
    "        p = (loaded_model.evaluate(x, y))\n",
    "        print(\"\\n 테스트 loss값: %.4f\" % p[0])\n",
    "        print(\"\\n 테스트 정확도: %.4f\" % p[1])\n",
    "    def return_test_acc(self, x, y) :\n",
    "        return self.model.evaluate(x, y)"
   ]
  },
  {
   "cell_type": "code",
   "execution_count": 23,
   "id": "6bd7a30b",
   "metadata": {
    "scrolled": true
   },
   "outputs": [
    {
     "name": "stdout",
     "output_type": "stream",
     "text": [
      "Model: \"sequential_14\"\n",
      "_________________________________________________________________\n",
      " Layer (type)                Output Shape              Param #   \n",
      "=================================================================\n",
      " embedding_14 (Embedding)    (None, None, 20)          148300    \n",
      "                                                                 \n",
      " simple_rnn_14 (SimpleRNN)   (None, 64)                5440      \n",
      "                                                                 \n",
      " dense_14 (Dense)            (None, 4)                 260       \n",
      "                                                                 \n",
      "=================================================================\n",
      "Total params: 154,000\n",
      "Trainable params: 154,000\n",
      "Non-trainable params: 0\n",
      "_________________________________________________________________\n",
      "None\n"
     ]
    }
   ],
   "source": [
    "A = RNN_model()\n",
    "print(A.model.summary())"
   ]
  },
  {
   "cell_type": "code",
   "execution_count": 24,
   "id": "9277e42c",
   "metadata": {},
   "outputs": [
    {
     "name": "stdout",
     "output_type": "stream",
     "text": [
      "Epoch 1/30\n",
      "41/41 [==============================] - ETA: 0s - loss: 1.3802 - acc: 0.2862\n",
      "Epoch 1: val_acc improved from -inf to 0.28571, saving model to RNN_model.h5\n",
      "41/41 [==============================] - 3s 44ms/step - loss: 1.3802 - acc: 0.2862 - val_loss: 1.4151 - val_acc: 0.2857\n",
      "Epoch 2/30\n",
      "40/41 [============================>.] - ETA: 0s - loss: 1.1568 - acc: 0.5176\n",
      "Epoch 2: val_acc improved from 0.28571 to 0.38820, saving model to RNN_model.h5\n",
      "41/41 [==============================] - 2s 37ms/step - loss: 1.1558 - acc: 0.5175 - val_loss: 1.5029 - val_acc: 0.3882\n",
      "Epoch 3/30\n",
      "41/41 [==============================] - ETA: 0s - loss: 0.9254 - acc: 0.6233\n",
      "Epoch 3: val_acc improved from 0.38820 to 0.49379, saving model to RNN_model.h5\n",
      "41/41 [==============================] - 2s 37ms/step - loss: 0.9254 - acc: 0.6233 - val_loss: 1.0273 - val_acc: 0.4938\n",
      "Epoch 4/30\n",
      "41/41 [==============================] - ETA: 0s - loss: 0.7818 - acc: 0.7298\n",
      "Epoch 4: val_acc improved from 0.49379 to 0.51087, saving model to RNN_model.h5\n",
      "41/41 [==============================] - 2s 40ms/step - loss: 0.7818 - acc: 0.7298 - val_loss: 1.0674 - val_acc: 0.5109\n",
      "Epoch 5/30\n",
      "41/41 [==============================] - ETA: 0s - loss: 0.6111 - acc: 0.8188\n",
      "Epoch 5: val_acc improved from 0.51087 to 0.56211, saving model to RNN_model.h5\n",
      "41/41 [==============================] - 2s 41ms/step - loss: 0.6111 - acc: 0.8188 - val_loss: 0.9592 - val_acc: 0.5621\n",
      "Epoch 6/30\n",
      "41/41 [==============================] - ETA: 0s - loss: 0.4392 - acc: 0.8830\n",
      "Epoch 6: val_acc improved from 0.56211 to 0.64130, saving model to RNN_model.h5\n",
      "41/41 [==============================] - 2s 40ms/step - loss: 0.4392 - acc: 0.8830 - val_loss: 0.8345 - val_acc: 0.6413\n",
      "Epoch 7/30\n",
      "41/41 [==============================] - ETA: 0s - loss: 0.3749 - acc: 0.8974\n",
      "Epoch 7: val_acc improved from 0.64130 to 0.64596, saving model to RNN_model.h5\n",
      "41/41 [==============================] - 2s 42ms/step - loss: 0.3749 - acc: 0.8974 - val_loss: 0.8315 - val_acc: 0.6460\n",
      "Epoch 8/30\n",
      "41/41 [==============================] - ETA: 0s - loss: 0.2891 - acc: 0.9296\n",
      "Epoch 8: val_acc did not improve from 0.64596\n",
      "41/41 [==============================] - 2s 42ms/step - loss: 0.2891 - acc: 0.9296 - val_loss: 1.0897 - val_acc: 0.5699\n",
      "Epoch 9/30\n",
      "40/41 [============================>.] - ETA: 0s - loss: 0.2413 - acc: 0.9398\n",
      "Epoch 9: val_acc improved from 0.64596 to 0.65217, saving model to RNN_model.h5\n",
      "41/41 [==============================] - 2s 44ms/step - loss: 0.2411 - acc: 0.9397 - val_loss: 0.9338 - val_acc: 0.6522\n",
      "Epoch 10/30\n",
      "41/41 [==============================] - ETA: 0s - loss: 0.1347 - acc: 0.9763\n",
      "Epoch 10: val_acc improved from 0.65217 to 0.66770, saving model to RNN_model.h5\n",
      "41/41 [==============================] - 2s 42ms/step - loss: 0.1347 - acc: 0.9763 - val_loss: 0.9008 - val_acc: 0.6677\n",
      "Epoch 11/30\n",
      "41/41 [==============================] - ETA: 0s - loss: 0.1198 - acc: 0.9685\n",
      "Epoch 11: val_acc did not improve from 0.66770\n",
      "41/41 [==============================] - 2s 43ms/step - loss: 0.1198 - acc: 0.9685 - val_loss: 0.9666 - val_acc: 0.6584\n",
      "Epoch 11: early stopping\n"
     ]
    }
   ],
   "source": [
    "A.learn(np.array(x_train), y_train, 1) "
   ]
  },
  {
   "cell_type": "markdown",
   "id": "86185791",
   "metadata": {},
   "source": [
    "#### 시각화"
   ]
  },
  {
   "cell_type": "code",
   "execution_count": 25,
   "id": "eb786080",
   "metadata": {},
   "outputs": [
    {
     "data": {
      "image/png": "[encoded data removed]",
      "text/plain": [
       "<Figure size 640x480 with 1 Axes>"
      ]
     },
     "metadata": {},
     "output_type": "display_data"
    },
    {
     "data": {
      "image/png": "[encoded data removed]",
      "text/plain": [
       "<Figure size 640x480 with 1 Axes>"
      ]
     },
     "metadata": {},
     "output_type": "display_data"
    }
   ],
   "source": [
    "A.graph()"
   ]
  },
  {
   "cell_type": "markdown",
   "id": "5c15afcf",
   "metadata": {},
   "source": [
    "#### 평가(test)"
   ]
  },
  {
   "cell_type": "code",
   "execution_count": 26,
   "id": "5980e437",
   "metadata": {},
   "outputs": [
    {
     "name": "stdout",
     "output_type": "stream",
     "text": [
      "26/26 [==============================] - 0s 11ms/step - loss: 0.8713 - acc: 0.6704\n",
      "\n",
      " 테스트 loss값: 0.8713\n",
      "\n",
      " 테스트 정확도: 0.6704\n"
     ]
    }
   ],
   "source": [
    "A.test(np.array(x_test), y_test)"
   ]
  },
  {
   "cell_type": "markdown",
   "id": "44c6b05d",
   "metadata": {},
   "source": [
    "#### 데이터셋에 없는 가사 예측\n",
    "데이터셋에 없는 가사를 받아 예측하기 위해서는 데이터 정제, 가공 과정이 다시 필요합니다. 따라서 4_Dataset Processing 과정을 반복하여 tokenizer을 얻도록 했습니다. 한번 더 작성하는 대신 processing.py형태로 만들어서 가져와 사용했습니다."
   ]
  },
  {
   "cell_type": "code",
   "execution_count": 27,
   "id": "9a62d850",
   "metadata": {
    "scrolled": true
   },
   "outputs": [],
   "source": [
    "import processing # processing.py\n",
    "import re\n",
    "from konlpy.tag import Okt\n",
    "tokenizer = processing.processing(num_input)\n",
    "\n",
    "def pred(data) :\n",
    "    data = data.replace(\"\\n\", \" \")\n",
    "    data = re.sub(r'[^ㄱ-ㅎㅏ-ㅣ가-힣 ]',\"\", data)\n",
    "    okt = Okt()\n",
    "    data = okt.morphs(data, stem=True)\n",
    "    data = tokenizer.texts_to_sequences([data])\n",
    "    print(\"예측 : \" + csvs[int(np.argmax(A.model.predict(data, verbose=0), axis=-1))])"
   ]
  },
  {
   "cell_type": "markdown",
   "id": "54da2b93",
   "metadata": {},
   "source": [
    "위의 pred()함수를 이용해 예측할 수 있습니다. 가사를 그대로 가져와 아래의 변수 a에 넣은 후 pred(a)로 예측했습니다."
   ]
  },
  {
   "cell_type": "code",
   "execution_count": 28,
   "id": "e9217ded",
   "metadata": {
    "scrolled": false
   },
   "outputs": [
    {
     "name": "stdout",
     "output_type": "stream",
     "text": [
      "예측 : 랩힙합\n"
     ]
    }
   ],
   "source": [
    "# 데이터셋에 없는 노래를 가져왔습니다. (정답 : 발라드)\n",
    "a = '''이제 괜찮냐 묻지 않네요\n",
    "이젠 내가 짐이 된 걸까요\n",
    "멍든 내 마음이 가여워서\n",
    "우습게 우리의 과거를 바래봐요\n",
    "우리 만일에 마주하더라도\n",
    "아무 말 없이 지나가요\n",
    "그렇게 날 쳐다보지 말아요\n",
    "그대 제발\n",
    "더 이상 나 괴로워하지 않아요\n",
    "그댄 날 잊었는데\n",
    "그대도 해냈는데\n",
    "나라고 못할 거 있나요\n",
    "멍든 내 마음이 가여워서\n",
    "이제는 우리의 과거를 지워가요\n",
    "우리 만일에 마주하더라도\n",
    "아무 말 없이 지나가요\n",
    "그렇게 날 쳐다보지 말아요\n",
    "그대 제발\n",
    "더 이상 나 괴로워하지 않아요\n",
    "그댄 날 잊었는데\n",
    "그대도 해냈는데\n",
    "나라고 못할 거 있나요\n",
    "괴로워하지 않아요\n",
    "그댄 날 잊었는데\n",
    "그대도 해냈는데\n",
    "나라고 못할 거 있나요'''\n",
    "\n",
    "pred(a)"
   ]
  },
  {
   "cell_type": "code",
   "execution_count": 29,
   "id": "c4df7e9a",
   "metadata": {},
   "outputs": [
    {
     "name": "stdout",
     "output_type": "stream",
     "text": [
      "예측 : 랩힙합\n"
     ]
    }
   ],
   "source": [
    "# 데이터셋에 없는 노래를 가져왔습니다. (정답 : 랩힙합)\n",
    "a = '''I know it`s your time\n",
    "그런데도 너에게 간데\n",
    "아마 위험한\n",
    "대가는 나에게만 왜 (why)\n",
    "이유가 대체 넌\n",
    "뭐라 생각해?\n",
    "아마 이건 참\n",
    "알아도 잠시 길을 잃어 way\n",
    "어제는 저기가 main\n",
    "오늘은 여기로 해\n",
    "네가 날 어지럽게\n",
    "하는지 모르겠어 잠시 wait\n",
    "귀가를 하기로 해\n",
    "조금은 쉬기로 해\n",
    "내가 원하는 뭘 하든\n",
    "내 시간을 제발 좀 갖기로 해\n",
    "반복해 너를 표현해 All day\n",
    "피해자래 난 그저 웃어\n",
    "The word doesn't suit you babe\n",
    "아무 말도 하지마\n",
    "덧붙여 말을 해\n",
    "You're really so bad\n",
    "난 그저 웃겨\n",
    "The word\n",
    "doesn't suit you babe\n",
    "아무 말도 하지마 하지마\n",
    "그건 아닐 거야\n",
    "네가 굉장히 오해가 많아\n",
    "내가 친절하게\n",
    "설명해도\n",
    "yeah 안 들어줘 sh*t!\n",
    "너에겐 자비롭고\n",
    "그런 걸 바라는 내가 참\n",
    "한심해 보이며 어이없어\n",
    "Next time 다음 시간을\n",
    "기약하며 날 뒤로 휙\n",
    "던져 버린 후에 잠시 놓기\n",
    "오후 지나 밤에 다시 줍기\n",
    "이런 사실을 넌 알 리 없지\n",
    "노래로 처음 접하게 될 일\n",
    "조금은 아쉽겠지만 뭐 어떻게\n",
    "이미 다른 차에 타 있으니\n",
    "네가 피해자래도\n",
    "입장을 바꿔 말해줘\n",
    "근데 넌 절대 모르겠지\n",
    "평생을 제발 그렇겠니\n",
    "반복해 너를 표현해 All day\n",
    "피해자래 난 그저 웃어\n",
    "The word doesn't suit you babe\n",
    "아무 말도 하지마\n",
    "덧붙여 말을 해\n",
    "You're really so bad 난 그저 웃겨\n",
    "The word doesn't suit you babe\n",
    "아무 말도 하지마 하지마'''\n",
    "\n",
    "pred(a)"
   ]
  },
  {
   "cell_type": "markdown",
   "id": "335963f9",
   "metadata": {},
   "source": [
    "### 다른 모델들과 비교"
   ]
  },
  {
   "cell_type": "markdown",
   "id": "9f4c71d6",
   "metadata": {},
   "source": [
    "#### k-fold cross validation\n",
    "다른 모델들과 비교하기 위해서는 k-fold를 이용해 산출한 평균 정확도를 비교하는 것이 필요하다고 생각했습니다. k fold에 이용되는 데이터 셋으로는 위에서의 x_train을 나누어 train, test 데이터로 만들어 이용했습니다."
   ]
  },
  {
   "cell_type": "code",
   "execution_count": 32,
   "id": "1138a5c8",
   "metadata": {
    "scrolled": true
   },
   "outputs": [
    {
     "name": "stdout",
     "output_type": "stream",
     "text": [
      "--------------1번째 그룹----------------\n",
      "Epoch 1/30\n",
      "33/33 [==============================] - 2s 47ms/step - loss: 1.4080 - acc: 0.2722 - val_loss: 1.3435 - val_acc: 0.3883\n",
      "Epoch 2/30\n",
      "33/33 [==============================] - 1s 42ms/step - loss: 1.3158 - acc: 0.3763 - val_loss: 1.3248 - val_acc: 0.3806\n",
      "Epoch 3/30\n",
      "33/33 [==============================] - 1s 43ms/step - loss: 1.1576 - acc: 0.5664 - val_loss: 1.3876 - val_acc: 0.3767\n",
      "Epoch 4/30\n",
      "33/33 [==============================] - 1s 42ms/step - loss: 0.9828 - acc: 0.6432 - val_loss: 1.0550 - val_acc: 0.5359\n",
      "Epoch 5/30\n",
      "33/33 [==============================] - 1s 43ms/step - loss: 0.8297 - acc: 0.6874 - val_loss: 1.0086 - val_acc: 0.5592\n",
      "Epoch 6/30\n",
      "33/33 [==============================] - 1s 42ms/step - loss: 0.6660 - acc: 0.7978 - val_loss: 0.9913 - val_acc: 0.5398\n",
      "Epoch 7/30\n",
      "33/33 [==============================] - 1s 43ms/step - loss: 0.5749 - acc: 0.8284 - val_loss: 0.9485 - val_acc: 0.5864\n",
      "Epoch 8/30\n",
      "33/33 [==============================] - 1s 42ms/step - loss: 0.4467 - acc: 0.8853 - val_loss: 1.0871 - val_acc: 0.4563\n",
      "Epoch 9/30\n",
      "33/33 [==============================] - 1s 42ms/step - loss: 0.3113 - acc: 0.9281 - val_loss: 0.9896 - val_acc: 0.5709\n",
      "Epoch 10/30\n",
      "33/33 [==============================] - 1s 43ms/step - loss: 0.2091 - acc: 0.9631 - val_loss: 1.1145 - val_acc: 0.5437\n",
      "Epoch 11/30\n",
      "33/33 [==============================] - 1s 42ms/step - loss: 0.2421 - acc: 0.9358 - val_loss: 1.0820 - val_acc: 0.5417\n",
      "Epoch 11: early stopping\n",
      "21/21 [==============================] - 0s 13ms/step - loss: 1.1578 - acc: 0.5295\n",
      "21/21 [==============================] - 0s 13ms/step - loss: 1.1578 - acc: 0.5295\n",
      "--------------2번째 그룹----------------\n",
      "Epoch 1/30\n",
      "33/33 [==============================] - 2s 49ms/step - loss: 1.3849 - acc: 0.2867 - val_loss: 1.4970 - val_acc: 0.2893\n",
      "Epoch 2/30\n",
      "33/33 [==============================] - 1s 43ms/step - loss: 1.3281 - acc: 0.4271 - val_loss: 1.3679 - val_acc: 0.3029\n",
      "Epoch 3/30\n",
      "33/33 [==============================] - 1s 41ms/step - loss: 1.2231 - acc: 0.5569 - val_loss: 1.3002 - val_acc: 0.3845\n",
      "Epoch 4/30\n",
      "33/33 [==============================] - 1s 42ms/step - loss: 1.0325 - acc: 0.6944 - val_loss: 1.2898 - val_acc: 0.3456\n",
      "Epoch 5/30\n",
      "33/33 [==============================] - 1s 44ms/step - loss: 0.7979 - acc: 0.7765 - val_loss: 1.0124 - val_acc: 0.5456\n",
      "Epoch 6/30\n",
      "33/33 [==============================] - 1s 39ms/step - loss: 0.5943 - acc: 0.8659 - val_loss: 0.9955 - val_acc: 0.6000\n",
      "Epoch 7/30\n",
      "33/33 [==============================] - 1s 37ms/step - loss: 0.4481 - acc: 0.8994 - val_loss: 0.8789 - val_acc: 0.6117\n",
      "Epoch 8/30\n",
      "33/33 [==============================] - 1s 39ms/step - loss: 0.3141 - acc: 0.9344 - val_loss: 0.9352 - val_acc: 0.6000\n",
      "Epoch 9/30\n",
      "33/33 [==============================] - 1s 37ms/step - loss: 0.2111 - acc: 0.9650 - val_loss: 1.0438 - val_acc: 0.5379\n",
      "Epoch 10/30\n",
      "33/33 [==============================] - 1s 37ms/step - loss: 0.1416 - acc: 0.9772 - val_loss: 0.9466 - val_acc: 0.6039\n",
      "Epoch 11/30\n",
      "33/33 [==============================] - 1s 38ms/step - loss: 0.0883 - acc: 0.9883 - val_loss: 3.1840 - val_acc: 0.2136\n",
      "Epoch 11: early stopping\n",
      "21/21 [==============================] - 0s 12ms/step - loss: 3.1981 - acc: 0.2240\n",
      "21/21 [==============================] - 0s 12ms/step - loss: 3.1981 - acc: 0.2240\n",
      "--------------3번째 그룹----------------\n",
      "Epoch 1/30\n",
      "33/33 [==============================] - 2s 43ms/step - loss: 1.3910 - acc: 0.2638 - val_loss: 1.3973 - val_acc: 0.2816\n",
      "Epoch 2/30\n",
      "33/33 [==============================] - 1s 38ms/step - loss: 1.3280 - acc: 0.4062 - val_loss: 1.4203 - val_acc: 0.2602\n",
      "Epoch 3/30\n",
      "33/33 [==============================] - 1s 42ms/step - loss: 1.2361 - acc: 0.5321 - val_loss: 1.2111 - val_acc: 0.4427\n",
      "Epoch 4/30\n",
      "33/33 [==============================] - 1s 39ms/step - loss: 0.9940 - acc: 0.7070 - val_loss: 1.1989 - val_acc: 0.4796\n",
      "Epoch 5/30\n",
      "33/33 [==============================] - 1s 40ms/step - loss: 0.8186 - acc: 0.7648 - val_loss: 0.9527 - val_acc: 0.5515\n",
      "Epoch 6/30\n",
      "33/33 [==============================] - 1s 40ms/step - loss: 0.7558 - acc: 0.7629 - val_loss: 1.0072 - val_acc: 0.5282\n",
      "Epoch 7/30\n",
      "33/33 [==============================] - 1s 38ms/step - loss: 0.5729 - acc: 0.8387 - val_loss: 1.0386 - val_acc: 0.5068\n",
      "Epoch 8/30\n",
      "33/33 [==============================] - 1s 38ms/step - loss: 0.4756 - acc: 0.8712 - val_loss: 1.0833 - val_acc: 0.5126\n",
      "Epoch 9/30\n",
      "33/33 [==============================] - 1s 41ms/step - loss: 0.3639 - acc: 0.9077 - val_loss: 0.9037 - val_acc: 0.6000\n",
      "Epoch 10/30\n",
      "33/33 [==============================] - 1s 44ms/step - loss: 0.2559 - acc: 0.9417 - val_loss: 1.0589 - val_acc: 0.6019\n",
      "Epoch 11/30\n",
      "33/33 [==============================] - 1s 44ms/step - loss: 0.1737 - acc: 0.9684 - val_loss: 0.9309 - val_acc: 0.6039\n",
      "Epoch 12/30\n",
      "33/33 [==============================] - 1s 42ms/step - loss: 0.1328 - acc: 0.9762 - val_loss: 1.2101 - val_acc: 0.5534\n",
      "Epoch 13/30\n",
      "33/33 [==============================] - 1s 38ms/step - loss: 0.1455 - acc: 0.9626 - val_loss: 1.1954 - val_acc: 0.5592\n",
      "Epoch 13: early stopping\n",
      "21/21 [==============================] - 0s 11ms/step - loss: 1.1110 - acc: 0.5832\n",
      "21/21 [==============================] - 0s 11ms/step - loss: 1.1110 - acc: 0.5832\n",
      "--------------4번째 그룹----------------\n",
      "Epoch 1/30\n",
      "33/33 [==============================] - 2s 43ms/step - loss: 1.3756 - acc: 0.2945 - val_loss: 1.2908 - val_acc: 0.3961\n",
      "Epoch 2/30\n",
      "33/33 [==============================] - 1s 38ms/step - loss: 1.2745 - acc: 0.4014 - val_loss: 1.2419 - val_acc: 0.4175\n",
      "Epoch 3/30\n",
      "33/33 [==============================] - 1s 40ms/step - loss: 1.0817 - acc: 0.5437 - val_loss: 1.1378 - val_acc: 0.5204\n",
      "Epoch 4/30\n",
      "33/33 [==============================] - 1s 39ms/step - loss: 0.8884 - acc: 0.6467 - val_loss: 1.0048 - val_acc: 0.5379\n",
      "Epoch 5/30\n",
      "33/33 [==============================] - 1s 38ms/step - loss: 0.7350 - acc: 0.7585 - val_loss: 1.1096 - val_acc: 0.4660\n",
      "Epoch 6/30\n",
      "33/33 [==============================] - 1s 39ms/step - loss: 0.6502 - acc: 0.7940 - val_loss: 1.0062 - val_acc: 0.4621\n",
      "Epoch 7/30\n",
      "33/33 [==============================] - 1s 37ms/step - loss: 0.4961 - acc: 0.8625 - val_loss: 0.9663 - val_acc: 0.6000\n",
      "Epoch 8/30\n",
      "33/33 [==============================] - 1s 39ms/step - loss: 0.3728 - acc: 0.9184 - val_loss: 0.8887 - val_acc: 0.5883\n",
      "Epoch 9/30\n",
      "33/33 [==============================] - 1s 38ms/step - loss: 0.2380 - acc: 0.9519 - val_loss: 0.8568 - val_acc: 0.5961\n",
      "Epoch 10/30\n",
      "33/33 [==============================] - 1s 38ms/step - loss: 0.1701 - acc: 0.9670 - val_loss: 1.1539 - val_acc: 0.5728\n",
      "Epoch 11/30\n",
      "33/33 [==============================] - 1s 39ms/step - loss: 0.1435 - acc: 0.9728 - val_loss: 0.8733 - val_acc: 0.6350\n",
      "Epoch 12/30\n",
      "33/33 [==============================] - 1s 39ms/step - loss: 0.0861 - acc: 0.9806 - val_loss: 1.0434 - val_acc: 0.5806\n",
      "Epoch 13/30\n",
      "33/33 [==============================] - 1s 39ms/step - loss: 0.0594 - acc: 0.9922 - val_loss: 1.2046 - val_acc: 0.5767\n",
      "Epoch 13: early stopping\n",
      "21/21 [==============================] - 0s 12ms/step - loss: 1.1987 - acc: 0.5848\n",
      "21/21 [==============================] - 0s 11ms/step - loss: 1.1987 - acc: 0.5848\n",
      "--------------5번째 그룹----------------\n",
      "Epoch 1/30\n",
      "33/33 [==============================] - 2s 45ms/step - loss: 1.3934 - acc: 0.2745 - val_loss: 1.3997 - val_acc: 0.2660\n",
      "Epoch 2/30\n",
      "33/33 [==============================] - 1s 39ms/step - loss: 1.2727 - acc: 0.4519 - val_loss: 1.1984 - val_acc: 0.4194\n",
      "Epoch 3/30\n",
      "33/33 [==============================] - 1s 40ms/step - loss: 1.0904 - acc: 0.6288 - val_loss: 1.2087 - val_acc: 0.4893\n",
      "Epoch 4/30\n",
      "33/33 [==============================] - 1s 39ms/step - loss: 0.9025 - acc: 0.6973 - val_loss: 0.9579 - val_acc: 0.6097\n",
      "Epoch 5/30\n",
      "33/33 [==============================] - 1s 39ms/step - loss: 0.7357 - acc: 0.7940 - val_loss: 1.0604 - val_acc: 0.5456\n",
      "Epoch 6/30\n",
      "33/33 [==============================] - 1s 39ms/step - loss: 0.6115 - acc: 0.8188 - val_loss: 0.7687 - val_acc: 0.6738\n",
      "Epoch 7/30\n",
      "33/33 [==============================] - 1s 40ms/step - loss: 0.4737 - acc: 0.8698 - val_loss: 0.9768 - val_acc: 0.5922\n",
      "Epoch 8/30\n"
     ]
    },
    {
     "name": "stdout",
     "output_type": "stream",
     "text": [
      "33/33 [==============================] - 1s 39ms/step - loss: 0.3930 - acc: 0.9009 - val_loss: 0.8340 - val_acc: 0.6524\n",
      "Epoch 9/30\n",
      "33/33 [==============================] - 1s 39ms/step - loss: 0.2588 - acc: 0.9461 - val_loss: 0.7604 - val_acc: 0.6971\n",
      "Epoch 10/30\n",
      "33/33 [==============================] - 1s 39ms/step - loss: 0.2429 - acc: 0.9320 - val_loss: 0.7617 - val_acc: 0.6893\n",
      "Epoch 11/30\n",
      "33/33 [==============================] - 1s 39ms/step - loss: 0.1537 - acc: 0.9660 - val_loss: 1.0752 - val_acc: 0.5922\n",
      "Epoch 12/30\n",
      "33/33 [==============================] - 1s 39ms/step - loss: 0.1145 - acc: 0.9752 - val_loss: 0.8995 - val_acc: 0.6563\n",
      "Epoch 13/30\n",
      "33/33 [==============================] - 1s 39ms/step - loss: 0.1879 - acc: 0.9475 - val_loss: 0.9182 - val_acc: 0.6485\n",
      "Epoch 13: early stopping\n",
      "21/21 [==============================] - 0s 12ms/step - loss: 0.8683 - acc: 0.6734\n",
      "21/21 [==============================] - 0s 10ms/step - loss: 0.8683 - acc: 0.6734\n",
      "-----------------------------------------\n",
      "------------------결과-------------------\n",
      "-----------------------------------------\n",
      "각 분할의 loss : [0.5295031070709229, 0.22395023703575134, 0.5832037329673767, 0.5847589373588562, 0.6734058856964111]\n",
      "평균 loss : 0.5189643800258636\n",
      "각 분할의 정확도 : [0.5295031070709229, 0.22395023703575134, 0.5832037329673767, 0.5847589373588562, 0.6734058856964111]\n",
      "평균 정확도 : 51.896438002586365 %\n"
     ]
    }
   ],
   "source": [
    "from sklearn.ensemble import RandomForestClassifier\n",
    "from sklearn.metrics import accuracy_score\n",
    "from sklearn.model_selection import KFold\n",
    "\n",
    "\n",
    "def start_kfold(X, y) :\n",
    "    kf = KFold(n_splits = 5, shuffle = True, random_state = 50)\n",
    "    accuracy_history = []\n",
    "    loss_history = []\n",
    "    num = 0\n",
    "    models = []\n",
    "    for train_index, test_index in kf.split(X):\n",
    "        num += 1\n",
    "        print(\"--------------\" + str(num) + \"번째 그룹\" + \"----------------\")\n",
    "        X_train, X_test = X[train_index], X[test_index]\n",
    "        y_train, y_test = y[train_index], y[test_index]\n",
    "        \n",
    "        B = RNN_model()\n",
    "        B.learn(X_train, y_train, 0)\n",
    "        accuracy_history.append(B.return_test_acc(X_test, y_test)[1]) # 정확도 측정 및 기록\n",
    "        loss_history.append(B.return_test_acc(X_test, y_test)[0])\n",
    "    print(\"-----------------------------------------\")\n",
    "    print(\"------------------결과-------------------\")\n",
    "    print(\"-----------------------------------------\")\n",
    "    print(\"각 분할의 loss :\", accuracy_history)\n",
    "    print(\"평균 loss :\", np.mean(accuracy_history))\n",
    "    print(\"각 분할의 정확도 :\", accuracy_history)\n",
    "    print(\"평균 정확도 :\", np.mean(accuracy_history)*100, \"%\")\n",
    "    \n",
    "    \n",
    "start_kfold(np.array(x_train), y_train)"
   ]
  },
  {
   "cell_type": "markdown",
   "id": "a3d77255",
   "metadata": {},
   "source": [
    "k-fold를 이용해 구한 loss값은 [0.5295031070709229, 0.22395023703575134, 0.5832037329673767, 0.5847589373588562, 0.6734058856964111]로 평균 0.52입니다. 정확도는 [0.5295031070709229, 0.22395023703575134, 0.5832037329673767, 0.5847589373588562, 0.6734058856964111]으로 평균 51.90%입니다. "
   ]
  },
  {
   "attachments": {
    "image.png": {
     "image/png": "[encoded data removed]"
    }
   },
   "cell_type": "markdown",
   "id": "0b587b3d",
   "metadata": {},
   "source": [
    "![image.png](attachment:image.png)"
   ]
  },
  {
   "cell_type": "markdown",
   "id": "e5a14c52",
   "metadata": {},
   "source": [
    "본 모델은 다른 모델(LSTM, GRU)에 비하여 loss값은 낮지만 정확도가 낮은 경향을 보였습니다.하지만 학습 시간은 가장 짧았습니다."
   ]
  }
 ],
 "metadata": {
  "kernelspec": {
   "display_name": "Python 3 (ipykernel)",
   "language": "python",
   "name": "python3"
  },
  "language_info": {
   "codemirror_mode": {
    "name": "ipython",
    "version": 3
   },
   "file_extension": ".py",
   "mimetype": "text/x-python",
   "name": "python",
   "nbconvert_exporter": "python",
   "pygments_lexer": "ipython3",
   "version": "3.9.13"
  }
 },
 "nbformat": 4,
 "nbformat_minor": 5
}
