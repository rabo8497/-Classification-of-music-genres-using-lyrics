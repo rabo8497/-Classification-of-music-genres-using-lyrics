{
 "cells": [
  {
   "cell_type": "markdown",
   "id": "1543d536",
   "metadata": {},
   "source": [
    "### Step 6. 딥러닝 구현"
   ]
  },
  {
   "cell_type": "markdown",
   "id": "0679ad47",
   "metadata": {},
   "source": [
    "# LSTM 모델 이용 (3)\n",
    "4_Deep_Learning(5) 파일에서는 LSTM 모델을 이용하여 학습을 시킬 것입니다. 4_Deep_Learning(1)에서 진행한 모델을 수정할 것입니다."
   ]
  },
  {
   "cell_type": "markdown",
   "id": "cca5b709",
   "metadata": {},
   "source": [
    "### 학습 전 데이터 가져오기\n",
    "4_Deep_Learning_(1)과 동일한 과정을 거치는 것이기 때문에 하나의 셀에 모두 적었습니다. "
   ]
  },
  {
   "cell_type": "code",
   "execution_count": 4,
   "id": "054fbf55",
   "metadata": {
    "scrolled": false
   },
   "outputs": [
    {
     "name": "stdout",
     "output_type": "stream",
     "text": [
      "train 데이터 수 : 3216\n",
      "발라드 : 804\n",
      "랩힙합 : 804\n",
      "트로트 : 804\n",
      "CCM : 804\n",
      "----------------\n",
      "test 데이터 수 : 804\n",
      "발라드 : 201\n",
      "랩힙합 : 201\n",
      "트로트 : 201\n",
      "CCM : 201\n",
      "training 데이터 수 : 3216\n",
      "test 데이터 수 : 804\n",
      "원 핫 인코딩된 y_train 예시\n",
      " [[0. 1. 0. 0.]\n",
      " [0. 0. 0. 1.]\n",
      " [1. 0. 0. 0.]]\n"
     ]
    }
   ],
   "source": [
    "import csv\n",
    "import numpy as np\n",
    "import matplotlib\n",
    "import matplotlib.pyplot as plt\n",
    "import matplotlib.font_manager as fm\n",
    "from tqdm import tqdm\n",
    "from tensorflow.keras.preprocessing.text import Tokenizer\n",
    "from tensorflow.keras.preprocessing.sequence import pad_sequences\n",
    "import random\n",
    "import tensorflow as tf\n",
    "import pandas as pd\n",
    "import re\n",
    "from sklearn.preprocessing import LabelEncoder\n",
    "from tensorflow.keras.layers import LSTM, Embedding, Dense\n",
    "from tensorflow.keras.models import Sequential\n",
    "from tensorflow.keras.models import load_model\n",
    "from tensorflow.keras.callbacks import EarlyStopping, ModelCheckpoint\n",
    "csvs = [\"발라드\", \"랩힙합\", \"트로트\", \"CCM\"]\n",
    "\n",
    "def csv_data() :\n",
    "    x_train = []\n",
    "    y_train = []\n",
    "    x_test = []\n",
    "    y_test = []\n",
    "    f = open('4_Refined Dataset.csv','r', encoding='utf-8')\n",
    "    rdr = csv.reader(f)\n",
    "    for line in rdr:\n",
    "        data = []\n",
    "        if line[-1] == 'type' : continue\n",
    "        elif line[-1] == 'train' :\n",
    "            for i in range(1,len(line)-2) :\n",
    "                data.append(int(line[i]))\n",
    "            x_train.append(data)\n",
    "            y_train.append(int(line[-2]))\n",
    "        elif line[-1] == 'test' :\n",
    "            for i in range(1,len(line)-2) :\n",
    "                data.append(int(line[i]))\n",
    "            x_test.append(data)\n",
    "            y_test.append(int(line[-2]))\n",
    "    f.close()\n",
    "    \n",
    "    # 학습 데이터 정보 출력\n",
    "    print(\"train 데이터 수 :\", len(x_train))\n",
    "    for k in range(len(csvs)) :\n",
    "        print(csvs[k] + \" :\", len([i for i in y_train if i == k]))\n",
    "    print(\"----------------\")\n",
    "    print(\"test 데이터 수 :\", len(x_test))\n",
    "    for k in range(len(csvs)) :\n",
    "        print(csvs[k] + \" :\", len([i for i in y_test if i == k]))\n",
    "    \n",
    "    return x_train, y_train, x_test, y_test\n",
    "\n",
    "x_train, y_train, x_test, y_test = csv_data()\n",
    "\n",
    "max_val_lists = []\n",
    "for i in x_train :\n",
    "    max_val_lists.append(max(i))\n",
    "num_input = max(max_val_lists) + 1\n",
    "\n",
    "train_tuple_lists = []\n",
    "for i in range(len(x_train)) :\n",
    "    train_tuple_lists.append((x_train[i], y_train[i]))\n",
    "random.shuffle(train_tuple_lists)\n",
    "x_train = [i[0] for i in train_tuple_lists]\n",
    "y_train = [i[1] for i in train_tuple_lists]\n",
    "\n",
    "e = LabelEncoder()\n",
    "e.fit(y_train)\n",
    "Y = e.transform(y_train)\n",
    "y_train = tf.keras.utils.to_categorical(Y) \n",
    "print(\"training 데이터 수 :\", len(y_train))\n",
    "\n",
    "e = LabelEncoder()\n",
    "e.fit(y_test)\n",
    "Y = e.transform(y_test)\n",
    "y_test = tf.keras.utils.to_categorical(Y) \n",
    "print(\"test 데이터 수 :\", len(y_test))\n",
    "\n",
    "print(\"원 핫 인코딩된 y_train 예시\\n\", y_train[:3])"
   ]
  },
  {
   "cell_type": "markdown",
   "id": "a50ceddb",
   "metadata": {},
   "source": [
    "## 모델 학습"
   ]
  },
  {
   "cell_type": "markdown",
   "id": "7cdaebe2",
   "metadata": {},
   "source": [
    "#### 학습(training)"
   ]
  },
  {
   "cell_type": "code",
   "execution_count": 5,
   "id": "094160b1",
   "metadata": {},
   "outputs": [],
   "source": [
    "class LSTM_3_model : # k fold에서 모델을 여러번 이용할 것이기 때문에 사용하기 쉽도록 class로 만들었습니다.\n",
    "    def __init__(self) : # 모델 설계 및 컴파일\n",
    "        self.model = Sequential()\n",
    "        self.model.add(Embedding(num_input, 100))\n",
    "        self.model.add(LSTM(128))\n",
    "        self.model.add(Dense(len(csvs), activation='softmax'))\n",
    "        self.model.compile(optimizer='rmsprop', loss='categorical_crossentropy', metrics=['acc'])\n",
    "    def learn(self, x, y, save) : # 모델 학습\n",
    "        # save : 1이면 모델 저장을 합니다\n",
    "        es = EarlyStopping(monitor='val_loss', mode='min', verbose=1, patience=4)\n",
    "        if save == 1 :\n",
    "            mc = ModelCheckpoint('LSTM_3_model.h5', monitor='val_acc', mode='max', verbose=1, save_best_only=True)\n",
    "            self.history = self.model.fit(x, y, epochs=30, callbacks=[es, mc], batch_size=64, validation_split=0.2)\n",
    "        else :\n",
    "            self.history = self.model.fit(x, y, epochs=30, callbacks=[es], batch_size=64, validation_split=0.2)\n",
    "    def graph(self) : # 그래프 그리기\n",
    "        plt.plot(range(1, len(self.history.history['acc']) + 1), self.history.history['loss'])\n",
    "        plt.plot(range(1, len(self.history.history['acc']) + 1), self.history.history['val_loss'])\n",
    "        plt.title('loss')\n",
    "        plt.ylabel('loss')\n",
    "        plt.xlabel('epoch')\n",
    "        plt.legend(['train', 'val'])\n",
    "        plt.show()\n",
    "        plt.plot(range(1, len(self.history.history['acc']) + 1), self.history.history['acc'])\n",
    "        plt.plot(range(1, len(self.history.history['acc']) + 1), self.history.history['val_acc'])\n",
    "        plt.title('accuracy')\n",
    "        plt.ylabel('accuracy')\n",
    "        plt.xlabel('epoch')\n",
    "        plt.legend(['train', 'val'])\n",
    "        plt.show()\n",
    "    def test(self, x, y) : # 모델 테스트\n",
    "        loaded_model = load_model('LSTM_3_model.h5')\n",
    "        p = (loaded_model.evaluate(x, y))\n",
    "        print(\"\\n 테스트 loss값: %.4f\" % p[0])\n",
    "        print(\"\\n 테스트 정확도: %.4f\" % p[1])\n",
    "    def return_test_acc(self, x, y) :\n",
    "        return self.model.evaluate(x, y)"
   ]
  },
  {
   "cell_type": "code",
   "execution_count": 6,
   "id": "6bd7a30b",
   "metadata": {
    "scrolled": true
   },
   "outputs": [
    {
     "name": "stdout",
     "output_type": "stream",
     "text": [
      "Model: \"sequential\"\n",
      "_________________________________________________________________\n",
      " Layer (type)                Output Shape              Param #   \n",
      "=================================================================\n",
      " embedding (Embedding)       (None, None, 100)         741500    \n",
      "                                                                 \n",
      " lstm (LSTM)                 (None, 128)               117248    \n",
      "                                                                 \n",
      " dense (Dense)               (None, 4)                 516       \n",
      "                                                                 \n",
      "=================================================================\n",
      "Total params: 859,264\n",
      "Trainable params: 859,264\n",
      "Non-trainable params: 0\n",
      "_________________________________________________________________\n",
      "None\n"
     ]
    }
   ],
   "source": [
    "A = LSTM_3_model()\n",
    "print(A.model.summary())"
   ]
  },
  {
   "cell_type": "code",
   "execution_count": 7,
   "id": "9277e42c",
   "metadata": {},
   "outputs": [
    {
     "name": "stdout",
     "output_type": "stream",
     "text": [
      "Epoch 1/30\n",
      "41/41 [==============================] - ETA: 0s - loss: 1.2936 - acc: 0.3997\n",
      "Epoch 1: val_acc improved from -inf to 0.53882, saving model to LSTM_3_model.h5\n",
      "41/41 [==============================] - 15s 329ms/step - loss: 1.2936 - acc: 0.3997 - val_loss: 0.9990 - val_acc: 0.5388\n",
      "Epoch 2/30\n",
      "41/41 [==============================] - ETA: 0s - loss: 0.9997 - acc: 0.5680\n",
      "Epoch 2: val_acc improved from 0.53882 to 0.68944, saving model to LSTM_3_model.h5\n",
      "41/41 [==============================] - 16s 385ms/step - loss: 0.9997 - acc: 0.5680 - val_loss: 0.8157 - val_acc: 0.6894\n",
      "Epoch 3/30\n",
      "41/41 [==============================] - ETA: 0s - loss: 0.6744 - acc: 0.7170\n",
      "Epoch 3: val_acc did not improve from 0.68944\n",
      "41/41 [==============================] - 15s 359ms/step - loss: 0.6744 - acc: 0.7170 - val_loss: 0.6634 - val_acc: 0.6817\n",
      "Epoch 4/30\n",
      "41/41 [==============================] - ETA: 0s - loss: 0.6013 - acc: 0.7395\n",
      "Epoch 4: val_acc improved from 0.68944 to 0.72205, saving model to LSTM_3_model.h5\n",
      "41/41 [==============================] - 15s 368ms/step - loss: 0.6013 - acc: 0.7395 - val_loss: 0.7032 - val_acc: 0.7220\n",
      "Epoch 5/30\n",
      "41/41 [==============================] - ETA: 0s - loss: 0.4995 - acc: 0.8037\n",
      "Epoch 5: val_acc improved from 0.72205 to 0.75466, saving model to LSTM_3_model.h5\n",
      "41/41 [==============================] - 15s 366ms/step - loss: 0.4995 - acc: 0.8037 - val_loss: 0.6237 - val_acc: 0.7547\n",
      "Epoch 6/30\n",
      "41/41 [==============================] - ETA: 0s - loss: 0.4157 - acc: 0.8488\n",
      "Epoch 6: val_acc did not improve from 0.75466\n",
      "41/41 [==============================] - 15s 376ms/step - loss: 0.4157 - acc: 0.8488 - val_loss: 0.8269 - val_acc: 0.7360\n",
      "Epoch 7/30\n",
      "41/41 [==============================] - ETA: 0s - loss: 0.3279 - acc: 0.8970\n",
      "Epoch 7: val_acc improved from 0.75466 to 0.81211, saving model to LSTM_3_model.h5\n",
      "41/41 [==============================] - 16s 381ms/step - loss: 0.3279 - acc: 0.8970 - val_loss: 0.5218 - val_acc: 0.8121\n",
      "Epoch 8/30\n",
      "41/41 [==============================] - ETA: 0s - loss: 0.2578 - acc: 0.9187\n",
      "Epoch 8: val_acc improved from 0.81211 to 0.84783, saving model to LSTM_3_model.h5\n",
      "41/41 [==============================] - 16s 385ms/step - loss: 0.2578 - acc: 0.9187 - val_loss: 0.5169 - val_acc: 0.8478\n",
      "Epoch 9/30\n",
      "41/41 [==============================] - ETA: 0s - loss: 0.2950 - acc: 0.9323\n",
      "Epoch 9: val_acc improved from 0.84783 to 0.84938, saving model to LSTM_3_model.h5\n",
      "41/41 [==============================] - 16s 382ms/step - loss: 0.2950 - acc: 0.9323 - val_loss: 0.4825 - val_acc: 0.8494\n",
      "Epoch 10/30\n",
      "41/41 [==============================] - ETA: 0s - loss: 0.1778 - acc: 0.9467\n",
      "Epoch 10: val_acc did not improve from 0.84938\n",
      "41/41 [==============================] - 16s 381ms/step - loss: 0.1778 - acc: 0.9467 - val_loss: 0.5891 - val_acc: 0.8168\n",
      "Epoch 11/30\n",
      "41/41 [==============================] - ETA: 0s - loss: 0.1379 - acc: 0.9627\n",
      "Epoch 11: val_acc improved from 0.84938 to 0.86180, saving model to LSTM_3_model.h5\n",
      "41/41 [==============================] - 16s 388ms/step - loss: 0.1379 - acc: 0.9627 - val_loss: 0.5266 - val_acc: 0.8618\n",
      "Epoch 12/30\n",
      "41/41 [==============================] - ETA: 0s - loss: 0.1510 - acc: 0.9635\n",
      "Epoch 12: val_acc did not improve from 0.86180\n",
      "41/41 [==============================] - 16s 387ms/step - loss: 0.1510 - acc: 0.9635 - val_loss: 0.4897 - val_acc: 0.8540\n",
      "Epoch 13/30\n",
      "41/41 [==============================] - ETA: 0s - loss: 0.1637 - acc: 0.9576\n",
      "Epoch 13: val_acc did not improve from 0.86180\n",
      "41/41 [==============================] - 15s 379ms/step - loss: 0.1637 - acc: 0.9576 - val_loss: 0.6537 - val_acc: 0.8230\n",
      "Epoch 13: early stopping\n"
     ]
    }
   ],
   "source": [
    "A.learn(np.array(x_train), y_train, 1) "
   ]
  },
  {
   "cell_type": "markdown",
   "id": "86185791",
   "metadata": {},
   "source": [
    "#### 시각화"
   ]
  },
  {
   "cell_type": "code",
   "execution_count": 8,
   "id": "eb786080",
   "metadata": {},
   "outputs": [
    {
     "data": {
      "image/png": "[encoded data removed]",
      "text/plain": [
       "<Figure size 640x480 with 1 Axes>"
      ]
     },
     "metadata": {},
     "output_type": "display_data"
    },
    {
     "data": {
      "image/png": "[encoded data removed]",
      "text/plain": [
       "<Figure size 640x480 with 1 Axes>"
      ]
     },
     "metadata": {},
     "output_type": "display_data"
    }
   ],
   "source": [
    "A.graph()"
   ]
  },
  {
   "cell_type": "markdown",
   "id": "5c15afcf",
   "metadata": {},
   "source": [
    "#### 평가(test)"
   ]
  },
  {
   "cell_type": "code",
   "execution_count": 9,
   "id": "5980e437",
   "metadata": {},
   "outputs": [
    {
     "name": "stdout",
     "output_type": "stream",
     "text": [
      "26/26 [==============================] - 2s 49ms/step - loss: 0.5821 - acc: 0.8420\n",
      "\n",
      " 테스트 loss값: 0.5821\n",
      "\n",
      " 테스트 정확도: 0.8420\n"
     ]
    }
   ],
   "source": [
    "A.test(np.array(x_test), y_test)"
   ]
  },
  {
   "cell_type": "markdown",
   "id": "44c6b05d",
   "metadata": {},
   "source": [
    "#### 데이터셋에 없는 가사 예측\n",
    "데이터셋에 없는 가사를 받아 예측하기 위해서는 데이터 정제, 가공 과정이 다시 필요합니다. 따라서 4_Dataset Processing 과정을 반복하여 tokenizer을 얻도록 했습니다. 한번 더 작성하는 대신 processing.py형태로 만들어서 가져와 사용했습니다."
   ]
  },
  {
   "cell_type": "code",
   "execution_count": 10,
   "id": "9a62d850",
   "metadata": {
    "scrolled": true
   },
   "outputs": [],
   "source": [
    "import processing # processing.py\n",
    "import re\n",
    "from konlpy.tag import Okt\n",
    "tokenizer = processing.processing(num_input)\n",
    "\n",
    "def pred(data) :\n",
    "    data = data.replace(\"\\n\", \" \")\n",
    "    data = re.sub(r'[^ㄱ-ㅎㅏ-ㅣ가-힣 ]',\"\", data)\n",
    "    okt = Okt()\n",
    "    data = okt.morphs(data, stem=True)\n",
    "    data = tokenizer.texts_to_sequences([data])\n",
    "    print(\"예측 : \" + csvs[int(np.argmax(A.model.predict(data, verbose=0), axis=-1))])"
   ]
  },
  {
   "cell_type": "markdown",
   "id": "54da2b93",
   "metadata": {},
   "source": [
    "위의 pred()함수를 이용해 예측할 수 있습니다. 가사를 그대로 가져와 아래의 변수 a에 넣은 후 pred(a)로 예측했습니다."
   ]
  },
  {
   "cell_type": "code",
   "execution_count": 11,
   "id": "e9217ded",
   "metadata": {
    "scrolled": false
   },
   "outputs": [
    {
     "name": "stdout",
     "output_type": "stream",
     "text": [
      "예측 : 발라드\n"
     ]
    }
   ],
   "source": [
    "# 데이터셋에 없는 노래를 가져왔습니다. (정답 : 발라드)\n",
    "a = '''이제 괜찮냐 묻지 않네요\n",
    "이젠 내가 짐이 된 걸까요\n",
    "멍든 내 마음이 가여워서\n",
    "우습게 우리의 과거를 바래봐요\n",
    "우리 만일에 마주하더라도\n",
    "아무 말 없이 지나가요\n",
    "그렇게 날 쳐다보지 말아요\n",
    "그대 제발\n",
    "더 이상 나 괴로워하지 않아요\n",
    "그댄 날 잊었는데\n",
    "그대도 해냈는데\n",
    "나라고 못할 거 있나요\n",
    "멍든 내 마음이 가여워서\n",
    "이제는 우리의 과거를 지워가요\n",
    "우리 만일에 마주하더라도\n",
    "아무 말 없이 지나가요\n",
    "그렇게 날 쳐다보지 말아요\n",
    "그대 제발\n",
    "더 이상 나 괴로워하지 않아요\n",
    "그댄 날 잊었는데\n",
    "그대도 해냈는데\n",
    "나라고 못할 거 있나요\n",
    "괴로워하지 않아요\n",
    "그댄 날 잊었는데\n",
    "그대도 해냈는데\n",
    "나라고 못할 거 있나요'''\n",
    "\n",
    "pred(a)"
   ]
  },
  {
   "cell_type": "code",
   "execution_count": 12,
   "id": "c4df7e9a",
   "metadata": {},
   "outputs": [
    {
     "name": "stdout",
     "output_type": "stream",
     "text": [
      "예측 : 랩힙합\n"
     ]
    }
   ],
   "source": [
    "# 데이터셋에 없는 노래를 가져왔습니다. (정답 : 랩힙합)\n",
    "a = '''I know it`s your time \n",
    "그런데도 너에게 간데\n",
    "아마 위험한\n",
    "대가는 나에게만 왜 (why)\n",
    "이유가 대체 넌\n",
    "뭐라 생각해?\n",
    "아마 이건 참\n",
    "알아도 잠시 길을 잃어 way\n",
    "어제는 저기가 main\n",
    "오늘은 여기로 해\n",
    "네가 날 어지럽게\n",
    "하는지 모르겠어 잠시 wait\n",
    "귀가를 하기로 해\n",
    "조금은 쉬기로 해\n",
    "내가 원하는 뭘 하든\n",
    "내 시간을 제발 좀 갖기로 해\n",
    "반복해 너를 표현해 All day\n",
    "피해자래 난 그저 웃어\n",
    "The word doesn't suit you babe\n",
    "아무 말도 하지마\n",
    "덧붙여 말을 해\n",
    "You're really so bad\n",
    "난 그저 웃겨\n",
    "The word\n",
    "doesn't suit you babe\n",
    "아무 말도 하지마 하지마\n",
    "그건 아닐 거야\n",
    "네가 굉장히 오해가 많아\n",
    "내가 친절하게\n",
    "설명해도\n",
    "yeah 안 들어줘 sh*t!\n",
    "너에겐 자비롭고\n",
    "그런 걸 바라는 내가 참\n",
    "한심해 보이며 어이없어\n",
    "Next time 다음 시간을\n",
    "기약하며 날 뒤로 휙\n",
    "던져 버린 후에 잠시 놓기\n",
    "오후 지나 밤에 다시 줍기\n",
    "이런 사실을 넌 알 리 없지\n",
    "노래로 처음 접하게 될 일\n",
    "조금은 아쉽겠지만 뭐 어떻게\n",
    "이미 다른 차에 타 있으니\n",
    "네가 피해자래도\n",
    "입장을 바꿔 말해줘\n",
    "근데 넌 절대 모르겠지\n",
    "평생을 제발 그렇겠니\n",
    "반복해 너를 표현해 All day\n",
    "피해자래 난 그저 웃어\n",
    "The word doesn't suit you babe\n",
    "아무 말도 하지마\n",
    "덧붙여 말을 해\n",
    "You're really so bad 난 그저 웃겨\n",
    "The word doesn't suit you babe\n",
    "아무 말도 하지마 하지마'''\n",
    "\n",
    "pred(a)"
   ]
  },
  {
   "cell_type": "markdown",
   "id": "335963f9",
   "metadata": {},
   "source": [
    "### 다른 모델들과 비교"
   ]
  },
  {
   "cell_type": "markdown",
   "id": "9f4c71d6",
   "metadata": {},
   "source": [
    "#### k-fold cross validation\n",
    "다른 모델들과 비교하기 위해서는 k-fold를 이용해 산출한 평균 정확도를 비교하는 것이 필요하다고 생각했습니다. k fold에 이용되는 데이터 셋으로는 위에서의 x_train을 나누어 train, test 데이터로 만들어 이용했습니다."
   ]
  },
  {
   "cell_type": "code",
   "execution_count": 13,
   "id": "1138a5c8",
   "metadata": {
    "scrolled": true
   },
   "outputs": [
    {
     "name": "stdout",
     "output_type": "stream",
     "text": [
      "--------------1번째 그룹----------------\n",
      "Epoch 1/30\n",
      "33/33 [==============================] - 13s 363ms/step - loss: 1.3679 - acc: 0.3525 - val_loss: 1.2878 - val_acc: 0.3282\n",
      "Epoch 2/30\n",
      "33/33 [==============================] - 11s 323ms/step - loss: 1.1025 - acc: 0.4827 - val_loss: 1.0577 - val_acc: 0.5262\n",
      "Epoch 3/30\n",
      "33/33 [==============================] - 11s 321ms/step - loss: 0.9516 - acc: 0.5688 - val_loss: 1.0118 - val_acc: 0.5942\n",
      "Epoch 4/30\n",
      "33/33 [==============================] - 11s 337ms/step - loss: 0.8072 - acc: 0.6626 - val_loss: 0.8892 - val_acc: 0.5981\n",
      "Epoch 5/30\n",
      "33/33 [==============================] - 11s 333ms/step - loss: 0.6125 - acc: 0.7326 - val_loss: 0.7475 - val_acc: 0.6660\n",
      "Epoch 6/30\n",
      "33/33 [==============================] - 11s 330ms/step - loss: 0.5177 - acc: 0.7817 - val_loss: 2.3298 - val_acc: 0.3748\n",
      "Epoch 7/30\n",
      "33/33 [==============================] - 11s 332ms/step - loss: 0.7365 - acc: 0.7302 - val_loss: 0.6414 - val_acc: 0.6757\n",
      "Epoch 8/30\n",
      "33/33 [==============================] - 11s 335ms/step - loss: 0.4744 - acc: 0.8041 - val_loss: 0.9173 - val_acc: 0.6738\n",
      "Epoch 9/30\n",
      "33/33 [==============================] - 11s 337ms/step - loss: 0.3561 - acc: 0.8731 - val_loss: 0.5813 - val_acc: 0.7592\n",
      "Epoch 10/30\n",
      "33/33 [==============================] - 11s 333ms/step - loss: 0.3442 - acc: 0.8965 - val_loss: 0.5894 - val_acc: 0.7806\n",
      "Epoch 11/30\n",
      "33/33 [==============================] - 11s 337ms/step - loss: 0.2795 - acc: 0.9115 - val_loss: 0.5576 - val_acc: 0.8136\n",
      "Epoch 12/30\n",
      "33/33 [==============================] - 11s 338ms/step - loss: 0.1716 - acc: 0.9417 - val_loss: 0.4981 - val_acc: 0.8524\n",
      "Epoch 13/30\n",
      "33/33 [==============================] - 11s 340ms/step - loss: 0.1576 - acc: 0.9572 - val_loss: 0.5560 - val_acc: 0.8175\n",
      "Epoch 14/30\n",
      "33/33 [==============================] - 11s 335ms/step - loss: 0.1217 - acc: 0.9679 - val_loss: 0.5921 - val_acc: 0.8233\n",
      "Epoch 15/30\n",
      "33/33 [==============================] - 11s 340ms/step - loss: 0.1088 - acc: 0.9699 - val_loss: 0.6820 - val_acc: 0.7592\n",
      "Epoch 16/30\n",
      "33/33 [==============================] - 11s 335ms/step - loss: 0.1739 - acc: 0.9577 - val_loss: 0.6259 - val_acc: 0.8039\n",
      "Epoch 16: early stopping\n",
      "21/21 [==============================] - 1s 49ms/step - loss: 0.5755 - acc: 0.8168\n",
      "21/21 [==============================] - 1s 47ms/step - loss: 0.5755 - acc: 0.8168\n",
      "--------------2번째 그룹----------------\n",
      "Epoch 1/30\n",
      "33/33 [==============================] - 14s 377ms/step - loss: 1.3342 - acc: 0.3897 - val_loss: 1.1760 - val_acc: 0.5883\n",
      "Epoch 2/30\n",
      "33/33 [==============================] - 14s 411ms/step - loss: 1.0452 - acc: 0.5675 - val_loss: 0.8978 - val_acc: 0.5262\n",
      "Epoch 3/30\n",
      "33/33 [==============================] - 14s 411ms/step - loss: 0.8505 - acc: 0.6234 - val_loss: 0.8490 - val_acc: 0.5922\n",
      "Epoch 4/30\n",
      "33/33 [==============================] - 14s 413ms/step - loss: 0.6960 - acc: 0.7123 - val_loss: 0.6444 - val_acc: 0.6874\n",
      "Epoch 5/30\n",
      "33/33 [==============================] - 14s 415ms/step - loss: 0.5350 - acc: 0.7707 - val_loss: 3.2239 - val_acc: 0.2990\n",
      "Epoch 6/30\n",
      "33/33 [==============================] - 14s 412ms/step - loss: 0.5569 - acc: 0.7833 - val_loss: 0.6108 - val_acc: 0.7204\n",
      "Epoch 7/30\n",
      "33/33 [==============================] - 14s 415ms/step - loss: 0.4381 - acc: 0.8367 - val_loss: 0.5535 - val_acc: 0.8078\n",
      "Epoch 8/30\n",
      "33/33 [==============================] - 14s 415ms/step - loss: 0.3357 - acc: 0.8892 - val_loss: 1.4159 - val_acc: 0.7165\n",
      "Epoch 9/30\n",
      "33/33 [==============================] - 14s 433ms/step - loss: 0.3023 - acc: 0.9014 - val_loss: 0.6944 - val_acc: 0.7650\n",
      "Epoch 10/30\n",
      "33/33 [==============================] - 14s 420ms/step - loss: 0.2010 - acc: 0.9368 - val_loss: 0.4540 - val_acc: 0.8291\n",
      "Epoch 11/30\n",
      "33/33 [==============================] - 14s 412ms/step - loss: 0.1802 - acc: 0.9422 - val_loss: 0.6011 - val_acc: 0.7883\n",
      "Epoch 12/30\n",
      "33/33 [==============================] - 14s 415ms/step - loss: 0.1706 - acc: 0.9490 - val_loss: 0.7198 - val_acc: 0.7942\n",
      "Epoch 13/30\n",
      "33/33 [==============================] - 14s 419ms/step - loss: 0.0832 - acc: 0.9791 - val_loss: 0.5657 - val_acc: 0.8078\n",
      "Epoch 14/30\n",
      "33/33 [==============================] - 14s 418ms/step - loss: 0.0869 - acc: 0.9738 - val_loss: 0.6234 - val_acc: 0.8466\n",
      "Epoch 14: early stopping\n",
      "21/21 [==============================] - 1s 58ms/step - loss: 0.6174 - acc: 0.8507\n",
      "21/21 [==============================] - 1s 60ms/step - loss: 0.6174 - acc: 0.8507\n",
      "--------------3번째 그룹----------------\n",
      "Epoch 1/30\n",
      "33/33 [==============================] - 14s 374ms/step - loss: 1.3703 - acc: 0.3853 - val_loss: 1.2908 - val_acc: 0.5670\n",
      "Epoch 2/30\n",
      "33/33 [==============================] - 12s 374ms/step - loss: 1.0378 - acc: 0.6118 - val_loss: 0.7404 - val_acc: 0.6932\n",
      "Epoch 3/30\n",
      "33/33 [==============================] - 12s 375ms/step - loss: 0.7578 - acc: 0.6987 - val_loss: 0.6190 - val_acc: 0.7107\n",
      "Epoch 4/30\n",
      "33/33 [==============================] - 13s 380ms/step - loss: 0.6197 - acc: 0.7264 - val_loss: 0.7076 - val_acc: 0.7010\n",
      "Epoch 5/30\n",
      "33/33 [==============================] - 12s 379ms/step - loss: 0.4687 - acc: 0.7945 - val_loss: 0.5915 - val_acc: 0.7359\n",
      "Epoch 6/30\n",
      "33/33 [==============================] - 13s 393ms/step - loss: 0.4615 - acc: 0.8188 - val_loss: 0.5050 - val_acc: 0.8291\n",
      "Epoch 7/30\n",
      "33/33 [==============================] - 13s 386ms/step - loss: 0.3438 - acc: 0.8717 - val_loss: 0.5473 - val_acc: 0.8117\n",
      "Epoch 8/30\n",
      "33/33 [==============================] - 13s 384ms/step - loss: 0.3750 - acc: 0.9062 - val_loss: 0.5288 - val_acc: 0.8214\n",
      "Epoch 9/30\n",
      "33/33 [==============================] - 13s 384ms/step - loss: 0.2378 - acc: 0.9300 - val_loss: 0.4991 - val_acc: 0.8369\n",
      "Epoch 10/30\n",
      "33/33 [==============================] - 13s 383ms/step - loss: 0.1386 - acc: 0.9626 - val_loss: 0.5531 - val_acc: 0.8447\n",
      "Epoch 11/30\n",
      "33/33 [==============================] - 12s 379ms/step - loss: 0.2214 - acc: 0.9509 - val_loss: 0.4803 - val_acc: 0.8738\n",
      "Epoch 12/30\n",
      "33/33 [==============================] - 12s 379ms/step - loss: 0.1602 - acc: 0.9631 - val_loss: 0.5038 - val_acc: 0.8680\n",
      "Epoch 13/30\n",
      "33/33 [==============================] - 13s 386ms/step - loss: 0.1015 - acc: 0.9723 - val_loss: 1.0886 - val_acc: 0.7243\n",
      "Epoch 14/30\n",
      "33/33 [==============================] - 13s 381ms/step - loss: 0.1112 - acc: 0.9728 - val_loss: 0.5242 - val_acc: 0.8155\n",
      "Epoch 15/30\n",
      "33/33 [==============================] - 13s 383ms/step - loss: 0.1184 - acc: 0.9728 - val_loss: 0.5157 - val_acc: 0.8447\n",
      "Epoch 15: early stopping\n",
      "21/21 [==============================] - 1s 54ms/step - loss: 0.6400 - acc: 0.8212\n",
      "21/21 [==============================] - 1s 56ms/step - loss: 0.6400 - acc: 0.8212\n",
      "--------------4번째 그룹----------------\n",
      "Epoch 1/30\n",
      "33/33 [==============================] - 18s 506ms/step - loss: 1.3360 - acc: 0.3873 - val_loss: 1.1434 - val_acc: 0.4602\n",
      "Epoch 2/30\n",
      "33/33 [==============================] - 15s 449ms/step - loss: 1.0795 - acc: 0.5675 - val_loss: 0.8815 - val_acc: 0.5786\n",
      "Epoch 3/30\n",
      "33/33 [==============================] - 15s 456ms/step - loss: 0.8519 - acc: 0.6370 - val_loss: 0.9177 - val_acc: 0.6388\n",
      "Epoch 4/30\n",
      "33/33 [==============================] - 15s 452ms/step - loss: 0.6520 - acc: 0.7269 - val_loss: 0.6635 - val_acc: 0.6777\n",
      "Epoch 5/30\n",
      "33/33 [==============================] - 15s 453ms/step - loss: 0.5618 - acc: 0.7799 - val_loss: 0.6622 - val_acc: 0.7689\n",
      "Epoch 6/30\n",
      "33/33 [==============================] - 15s 445ms/step - loss: 0.4792 - acc: 0.8236 - val_loss: 0.6447 - val_acc: 0.7243\n",
      "Epoch 7/30\n",
      "33/33 [==============================] - 15s 454ms/step - loss: 0.3628 - acc: 0.8810 - val_loss: 0.5399 - val_acc: 0.8233\n",
      "Epoch 8/30\n",
      "33/33 [==============================] - 15s 451ms/step - loss: 0.3250 - acc: 0.9067 - val_loss: 0.5456 - val_acc: 0.8000\n",
      "Epoch 9/30\n",
      "33/33 [==============================] - 15s 453ms/step - loss: 0.2414 - acc: 0.9252 - val_loss: 0.5082 - val_acc: 0.8505\n",
      "Epoch 10/30\n",
      "33/33 [==============================] - 15s 455ms/step - loss: 0.1857 - acc: 0.9490 - val_loss: 0.5230 - val_acc: 0.8175\n",
      "Epoch 11/30\n",
      "33/33 [==============================] - 15s 450ms/step - loss: 0.2381 - acc: 0.9514 - val_loss: 1.0157 - val_acc: 0.7883\n",
      "Epoch 12/30\n"
     ]
    },
    {
     "name": "stdout",
     "output_type": "stream",
     "text": [
      "33/33 [==============================] - 15s 462ms/step - loss: 0.1104 - acc: 0.9747 - val_loss: 0.6642 - val_acc: 0.8427\n",
      "Epoch 13/30\n",
      "33/33 [==============================] - 15s 463ms/step - loss: 0.1278 - acc: 0.9684 - val_loss: 0.5703 - val_acc: 0.8291\n",
      "Epoch 13: early stopping\n",
      "21/21 [==============================] - 1s 65ms/step - loss: 0.5500 - acc: 0.8274\n",
      "21/21 [==============================] - 1s 63ms/step - loss: 0.5500 - acc: 0.8274\n",
      "--------------5번째 그룹----------------\n",
      "Epoch 1/30\n",
      "33/33 [==============================] - 18s 501ms/step - loss: 1.3425 - acc: 0.3761 - val_loss: 2.1269 - val_acc: 0.4427\n",
      "Epoch 2/30\n",
      "33/33 [==============================] - 15s 452ms/step - loss: 1.0077 - acc: 0.5316 - val_loss: 1.4010 - val_acc: 0.4233\n",
      "Epoch 3/30\n",
      "33/33 [==============================] - 15s 452ms/step - loss: 0.8897 - acc: 0.6487 - val_loss: 0.8768 - val_acc: 0.7010\n",
      "Epoch 4/30\n",
      "33/33 [==============================] - 15s 453ms/step - loss: 0.6547 - acc: 0.7449 - val_loss: 0.7069 - val_acc: 0.6893\n",
      "Epoch 5/30\n",
      "33/33 [==============================] - 15s 449ms/step - loss: 0.5975 - acc: 0.7609 - val_loss: 0.6375 - val_acc: 0.7029\n",
      "Epoch 6/30\n",
      "33/33 [==============================] - 15s 457ms/step - loss: 0.4683 - acc: 0.8115 - val_loss: 0.7022 - val_acc: 0.6699\n",
      "Epoch 7/30\n",
      "33/33 [==============================] - 15s 454ms/step - loss: 0.3862 - acc: 0.8440 - val_loss: 0.7410 - val_acc: 0.6913\n",
      "Epoch 8/30\n",
      "33/33 [==============================] - 15s 456ms/step - loss: 0.3509 - acc: 0.8824 - val_loss: 0.6847 - val_acc: 0.7553\n",
      "Epoch 9/30\n",
      "33/33 [==============================] - 15s 457ms/step - loss: 0.2268 - acc: 0.9223 - val_loss: 0.6693 - val_acc: 0.7301\n",
      "Epoch 9: early stopping\n",
      "21/21 [==============================] - 1s 60ms/step - loss: 0.6970 - acc: 0.7185\n",
      "21/21 [==============================] - 1s 63ms/step - loss: 0.6970 - acc: 0.7185\n",
      "-----------------------------------------\n",
      "------------------결과-------------------\n",
      "-----------------------------------------\n",
      "각 분할의 loss : [0.8167701959609985, 0.8506998419761658, 0.8211508393287659, 0.8273717164993286, 0.7185069918632507]\n",
      "평균 loss : 0.8068999171257019\n",
      "각 분할의 정확도 : [0.8167701959609985, 0.8506998419761658, 0.8211508393287659, 0.8273717164993286, 0.7185069918632507]\n",
      "평균 정확도 : 80.68999171257019 %\n"
     ]
    }
   ],
   "source": [
    "from sklearn.ensemble import RandomForestClassifier\n",
    "from sklearn.metrics import accuracy_score\n",
    "from sklearn.model_selection import KFold\n",
    "\n",
    "\n",
    "def start_kfold(X, y) :\n",
    "    kf = KFold(n_splits = 5, shuffle = True, random_state = 50)\n",
    "    accuracy_history = []\n",
    "    loss_history = []\n",
    "    num = 0\n",
    "    models = []\n",
    "    for train_index, test_index in kf.split(X):\n",
    "        num += 1\n",
    "        print(\"--------------\" + str(num) + \"번째 그룹\" + \"----------------\")\n",
    "        X_train, X_test = X[train_index], X[test_index]\n",
    "        y_train, y_test = y[train_index], y[test_index]\n",
    "        \n",
    "        B = LSTM_3_model()\n",
    "        B.learn(X_train, y_train, 0)\n",
    "        accuracy_history.append(B.return_test_acc(X_test, y_test)[1]) # 정확도 측정 및 기록\n",
    "        loss_history.append(B.return_test_acc(X_test, y_test)[0])\n",
    "    print(\"-----------------------------------------\")\n",
    "    print(\"------------------결과-------------------\")\n",
    "    print(\"-----------------------------------------\")\n",
    "    print(\"각 분할의 loss :\", accuracy_history)\n",
    "    print(\"평균 loss :\", np.mean(accuracy_history))\n",
    "    print(\"각 분할의 정확도 :\", accuracy_history)\n",
    "    print(\"평균 정확도 :\", np.mean(accuracy_history)*100, \"%\")\n",
    "    \n",
    "    \n",
    "start_kfold(np.array(x_train), y_train)"
   ]
  },
  {
   "cell_type": "markdown",
   "id": "a3d77255",
   "metadata": {},
   "source": [
    "k-fold를 이용해 구한 loss값은 [0.8167701959609985, 0.8506998419761658, 0.8211508393287659, 0.8273717164993286, 0.7185069918632507]로 평균 0.81입니다. 정확도는 [0.8167701959609985, 0.8506998419761658, 0.8211508393287659, 0.8273717164993286, 0.7185069918632507]으로 평균 80.69%입니다. "
   ]
  },
  {
   "attachments": {
    "image-2.png": {
     "image/png": "[encoded data removed]"
    }
   },
   "cell_type": "markdown",
   "id": "862ee32c",
   "metadata": {},
   "source": [
    "![image-2.png](attachment:image-2.png)"
   ]
  },
  {
   "cell_type": "markdown",
   "id": "c228dafd",
   "metadata": {},
   "source": [
    "본 모델(LSTM-3)은 4_Deep Learning_(1) 모델에서 Embedding층과 LSTM층의 output 차원을 크게 늘린 것입니다. 네 모델 중 두번째로 정확도가 높게 나왔습니다."
   ]
  }
 ],
 "metadata": {
  "kernelspec": {
   "display_name": "Python 3 (ipykernel)",
   "language": "python",
   "name": "python3"
  },
  "language_info": {
   "codemirror_mode": {
    "name": "ipython",
    "version": 3
   },
   "file_extension": ".py",
   "mimetype": "text/x-python",
   "name": "python",
   "nbconvert_exporter": "python",
   "pygments_lexer": "ipython3",
   "version": "3.9.13"
  }
 },
 "nbformat": 4,
 "nbformat_minor": 5
}
