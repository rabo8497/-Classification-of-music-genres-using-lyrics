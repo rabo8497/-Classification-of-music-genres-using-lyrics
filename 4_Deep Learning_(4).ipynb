{
 "cells": [
  {
   "cell_type": "markdown",
   "id": "1543d536",
   "metadata": {},
   "source": [
    "### Step 6. 딥러닝 구현"
   ]
  },
  {
   "cell_type": "markdown",
   "id": "0679ad47",
   "metadata": {},
   "source": [
    "# LSTM 모델 이용 (2)\n",
    "4_Deep_Learning(4) 파일에서는 LSTM 모델을 이용하여 학습을 시킬 것입니다. 4_Deep_Learning(1)에서 진행한 모델을 수정할 것입니다."
   ]
  },
  {
   "cell_type": "markdown",
   "id": "cca5b709",
   "metadata": {},
   "source": [
    "### 학습 전 데이터 가져오기\n",
    "4_Deep_Learning_(1)과 동일한 과정을 거치는 것이기 때문에 하나의 셀에 모두 적었습니다. "
   ]
  },
  {
   "cell_type": "code",
   "execution_count": 1,
   "id": "054fbf55",
   "metadata": {
    "scrolled": false
   },
   "outputs": [
    {
     "name": "stdout",
     "output_type": "stream",
     "text": [
      "train 데이터 수 : 3216\n",
      "발라드 : 804\n",
      "랩힙합 : 804\n",
      "트로트 : 804\n",
      "CCM : 804\n",
      "----------------\n",
      "test 데이터 수 : 804\n",
      "발라드 : 201\n",
      "랩힙합 : 201\n",
      "트로트 : 201\n",
      "CCM : 201\n",
      "training 데이터 수 : 3216\n",
      "test 데이터 수 : 804\n",
      "원 핫 인코딩된 y_train 예시\n",
      " [[0. 0. 0. 1.]\n",
      " [0. 1. 0. 0.]\n",
      " [0. 0. 1. 0.]]\n"
     ]
    }
   ],
   "source": [
    "import csv\n",
    "import numpy as np\n",
    "import matplotlib\n",
    "import matplotlib.pyplot as plt\n",
    "import matplotlib.font_manager as fm\n",
    "from tqdm import tqdm\n",
    "from tensorflow.keras.preprocessing.text import Tokenizer\n",
    "from tensorflow.keras.preprocessing.sequence import pad_sequences\n",
    "import random\n",
    "import tensorflow as tf\n",
    "import pandas as pd\n",
    "import re\n",
    "from sklearn.preprocessing import LabelEncoder\n",
    "from tensorflow.keras.layers import LSTM, Embedding, Dense\n",
    "from tensorflow.keras.models import Sequential\n",
    "from tensorflow.keras.models import load_model\n",
    "from tensorflow.keras.callbacks import EarlyStopping, ModelCheckpoint\n",
    "csvs = [\"발라드\", \"랩힙합\", \"트로트\", \"CCM\"]\n",
    "\n",
    "def csv_data() :\n",
    "    x_train = []\n",
    "    y_train = []\n",
    "    x_test = []\n",
    "    y_test = []\n",
    "    f = open('4_Refined Dataset.csv','r', encoding='utf-8')\n",
    "    rdr = csv.reader(f)\n",
    "    for line in rdr:\n",
    "        data = []\n",
    "        if line[-1] == 'type' : continue\n",
    "        elif line[-1] == 'train' :\n",
    "            for i in range(1,len(line)-2) :\n",
    "                data.append(int(line[i]))\n",
    "            x_train.append(data)\n",
    "            y_train.append(int(line[-2]))\n",
    "        elif line[-1] == 'test' :\n",
    "            for i in range(1,len(line)-2) :\n",
    "                data.append(int(line[i]))\n",
    "            x_test.append(data)\n",
    "            y_test.append(int(line[-2]))\n",
    "    f.close()\n",
    "    \n",
    "    # 학습 데이터 정보 출력\n",
    "    print(\"train 데이터 수 :\", len(x_train))\n",
    "    for k in range(len(csvs)) :\n",
    "        print(csvs[k] + \" :\", len([i for i in y_train if i == k]))\n",
    "    print(\"----------------\")\n",
    "    print(\"test 데이터 수 :\", len(x_test))\n",
    "    for k in range(len(csvs)) :\n",
    "        print(csvs[k] + \" :\", len([i for i in y_test if i == k]))\n",
    "    \n",
    "    return x_train, y_train, x_test, y_test\n",
    "\n",
    "x_train, y_train, x_test, y_test = csv_data()\n",
    "\n",
    "max_val_lists = []\n",
    "for i in x_train :\n",
    "    max_val_lists.append(max(i))\n",
    "num_input = max(max_val_lists) + 1\n",
    "\n",
    "train_tuple_lists = []\n",
    "for i in range(len(x_train)) :\n",
    "    train_tuple_lists.append((x_train[i], y_train[i]))\n",
    "random.shuffle(train_tuple_lists)\n",
    "x_train = [i[0] for i in train_tuple_lists]\n",
    "y_train = [i[1] for i in train_tuple_lists]\n",
    "\n",
    "e = LabelEncoder()\n",
    "e.fit(y_train)\n",
    "Y = e.transform(y_train)\n",
    "y_train = tf.keras.utils.to_categorical(Y) \n",
    "print(\"training 데이터 수 :\", len(y_train))\n",
    "\n",
    "e = LabelEncoder()\n",
    "e.fit(y_test)\n",
    "Y = e.transform(y_test)\n",
    "y_test = tf.keras.utils.to_categorical(Y) \n",
    "print(\"test 데이터 수 :\", len(y_test))\n",
    "\n",
    "print(\"원 핫 인코딩된 y_train 예시\\n\", y_train[:3])"
   ]
  },
  {
   "cell_type": "markdown",
   "id": "a50ceddb",
   "metadata": {},
   "source": [
    "## 모델 학습"
   ]
  },
  {
   "cell_type": "markdown",
   "id": "7cdaebe2",
   "metadata": {},
   "source": [
    "#### 학습(training)"
   ]
  },
  {
   "cell_type": "code",
   "execution_count": 4,
   "id": "094160b1",
   "metadata": {},
   "outputs": [],
   "source": [
    "class LSTM_2_model : # k fold에서 모델을 여러번 이용할 것이기 때문에 사용하기 쉽도록 class로 만들었습니다.\n",
    "    def __init__(self) : # 모델 설계 및 컴파일\n",
    "        self.model = Sequential()\n",
    "        self.model.add(Embedding(num_input, 20))\n",
    "        self.model.add(LSTM(32))\n",
    "        self.model.add(Dense(32))\n",
    "        self.model.add(Dense(16))\n",
    "        self.model.add(Dense(len(csvs), activation='softmax'))\n",
    "        self.model.compile(optimizer='rmsprop', loss='categorical_crossentropy', metrics=['acc'])\n",
    "    def learn(self, x, y, save) : # 모델 학습\n",
    "        # save : 1이면 모델 저장을 합니다\n",
    "        es = EarlyStopping(monitor='val_loss', mode='min', verbose=1, patience=4)\n",
    "        if save == 1 :\n",
    "            mc = ModelCheckpoint('LSTM_2_model.h5', monitor='val_acc', mode='max', verbose=1, save_best_only=True)\n",
    "            self.history = self.model.fit(x, y, epochs=30, callbacks=[es, mc], batch_size=64, validation_split=0.2)\n",
    "        else :\n",
    "            self.history = self.model.fit(x, y, epochs=30, callbacks=[es], batch_size=64, validation_split=0.2)\n",
    "    def graph(self) : # 그래프 그리기\n",
    "        plt.plot(range(1, len(self.history.history['acc']) + 1), self.history.history['loss'])\n",
    "        plt.plot(range(1, len(self.history.history['acc']) + 1), self.history.history['val_loss'])\n",
    "        plt.title('loss')\n",
    "        plt.ylabel('loss')\n",
    "        plt.xlabel('epoch')\n",
    "        plt.legend(['train', 'val'])\n",
    "        plt.show()\n",
    "        plt.plot(range(1, len(self.history.history['acc']) + 1), self.history.history['acc'])\n",
    "        plt.plot(range(1, len(self.history.history['acc']) + 1), self.history.history['val_acc'])\n",
    "        plt.title('accuracy')\n",
    "        plt.ylabel('accuracy')\n",
    "        plt.xlabel('epoch')\n",
    "        plt.legend(['train', 'val'])\n",
    "        plt.show()\n",
    "    def test(self, x, y) : # 모델 테스트\n",
    "        loaded_model = load_model('LSTM_2_model.h5')\n",
    "        p = (loaded_model.evaluate(x, y))\n",
    "        print(\"\\n 테스트 loss값: %.4f\" % p[0])\n",
    "        print(\"\\n 테스트 정확도: %.4f\" % p[1])\n",
    "    def return_test_acc(self, x, y) :\n",
    "        return self.model.evaluate(x, y)"
   ]
  },
  {
   "cell_type": "code",
   "execution_count": 5,
   "id": "6bd7a30b",
   "metadata": {
    "scrolled": true
   },
   "outputs": [
    {
     "name": "stdout",
     "output_type": "stream",
     "text": [
      "Model: \"sequential_1\"\n",
      "_________________________________________________________________\n",
      " Layer (type)                Output Shape              Param #   \n",
      "=================================================================\n",
      " embedding_1 (Embedding)     (None, None, 20)          148300    \n",
      "                                                                 \n",
      " lstm (LSTM)                 (None, 32)                6784      \n",
      "                                                                 \n",
      " dense (Dense)               (None, 32)                1056      \n",
      "                                                                 \n",
      " dense_1 (Dense)             (None, 16)                528       \n",
      "                                                                 \n",
      " dense_2 (Dense)             (None, 4)                 68        \n",
      "                                                                 \n",
      "=================================================================\n",
      "Total params: 156,736\n",
      "Trainable params: 156,736\n",
      "Non-trainable params: 0\n",
      "_________________________________________________________________\n",
      "None\n"
     ]
    }
   ],
   "source": [
    "A = LSTM_2_model()\n",
    "print(A.model.summary())"
   ]
  },
  {
   "cell_type": "code",
   "execution_count": 6,
   "id": "9277e42c",
   "metadata": {},
   "outputs": [
    {
     "name": "stdout",
     "output_type": "stream",
     "text": [
      "Epoch 1/30\n",
      "41/41 [==============================] - ETA: 0s - loss: 1.3391 - acc: 0.3281\n",
      "Epoch 1: val_acc improved from -inf to 0.49068, saving model to LSTM_2_model.h5\n",
      "41/41 [==============================] - 5s 89ms/step - loss: 1.3391 - acc: 0.3281 - val_loss: 1.0272 - val_acc: 0.4907\n",
      "Epoch 2/30\n",
      "41/41 [==============================] - ETA: 0s - loss: 0.9440 - acc: 0.5043\n",
      "Epoch 2: val_acc improved from 0.49068 to 0.50311, saving model to LSTM_2_model.h5\n",
      "41/41 [==============================] - 3s 80ms/step - loss: 0.9440 - acc: 0.5043 - val_loss: 0.9697 - val_acc: 0.5031\n",
      "Epoch 3/30\n",
      "41/41 [==============================] - ETA: 0s - loss: 0.8138 - acc: 0.5918\n",
      "Epoch 3: val_acc improved from 0.50311 to 0.59006, saving model to LSTM_2_model.h5\n",
      "41/41 [==============================] - 3s 79ms/step - loss: 0.8138 - acc: 0.5918 - val_loss: 0.9140 - val_acc: 0.5901\n",
      "Epoch 4/30\n",
      "41/41 [==============================] - ETA: 0s - loss: 0.6859 - acc: 0.6913\n",
      "Epoch 4: val_acc improved from 0.59006 to 0.70497, saving model to LSTM_2_model.h5\n",
      "41/41 [==============================] - 3s 80ms/step - loss: 0.6859 - acc: 0.6913 - val_loss: 0.7612 - val_acc: 0.7050\n",
      "Epoch 5/30\n",
      "41/41 [==============================] - ETA: 0s - loss: 0.5015 - acc: 0.8243\n",
      "Epoch 5: val_acc did not improve from 0.70497\n",
      "41/41 [==============================] - 3s 82ms/step - loss: 0.5015 - acc: 0.8243 - val_loss: 1.0100 - val_acc: 0.6957\n",
      "Epoch 6/30\n",
      "41/41 [==============================] - ETA: 0s - loss: 0.3807 - acc: 0.8729\n",
      "Epoch 6: val_acc did not improve from 0.70497\n",
      "41/41 [==============================] - 3s 82ms/step - loss: 0.3807 - acc: 0.8729 - val_loss: 1.0382 - val_acc: 0.5745\n",
      "Epoch 7/30\n",
      "41/41 [==============================] - ETA: 0s - loss: 0.3296 - acc: 0.8830\n",
      "Epoch 7: val_acc improved from 0.70497 to 0.74379, saving model to LSTM_2_model.h5\n",
      "41/41 [==============================] - 3s 82ms/step - loss: 0.3296 - acc: 0.8830 - val_loss: 0.6951 - val_acc: 0.7438\n",
      "Epoch 8/30\n",
      "41/41 [==============================] - ETA: 0s - loss: 0.2471 - acc: 0.9207\n",
      "Epoch 8: val_acc improved from 0.74379 to 0.77640, saving model to LSTM_2_model.h5\n",
      "41/41 [==============================] - 3s 81ms/step - loss: 0.2471 - acc: 0.9207 - val_loss: 0.6926 - val_acc: 0.7764\n",
      "Epoch 9/30\n",
      "41/41 [==============================] - ETA: 0s - loss: 0.2172 - acc: 0.9339\n",
      "Epoch 9: val_acc improved from 0.77640 to 0.79503, saving model to LSTM_2_model.h5\n",
      "41/41 [==============================] - 3s 82ms/step - loss: 0.2172 - acc: 0.9339 - val_loss: 0.7009 - val_acc: 0.7950\n",
      "Epoch 10/30\n",
      "41/41 [==============================] - ETA: 0s - loss: 0.1828 - acc: 0.9444\n",
      "Epoch 10: val_acc did not improve from 0.79503\n",
      "41/41 [==============================] - 3s 83ms/step - loss: 0.1828 - acc: 0.9444 - val_loss: 0.7395 - val_acc: 0.7640\n",
      "Epoch 11/30\n",
      "41/41 [==============================] - ETA: 0s - loss: 0.1464 - acc: 0.9615\n",
      "Epoch 11: val_acc did not improve from 0.79503\n",
      "41/41 [==============================] - 3s 85ms/step - loss: 0.1464 - acc: 0.9615 - val_loss: 1.1909 - val_acc: 0.6335\n",
      "Epoch 12/30\n",
      "41/41 [==============================] - ETA: 0s - loss: 0.1489 - acc: 0.9557\n",
      "Epoch 12: val_acc improved from 0.79503 to 0.81988, saving model to LSTM_2_model.h5\n",
      "41/41 [==============================] - 4s 90ms/step - loss: 0.1489 - acc: 0.9557 - val_loss: 0.7411 - val_acc: 0.8199\n",
      "Epoch 12: early stopping\n"
     ]
    }
   ],
   "source": [
    "A.learn(np.array(x_train), y_train, 1) "
   ]
  },
  {
   "cell_type": "markdown",
   "id": "86185791",
   "metadata": {},
   "source": [
    "#### 시각화"
   ]
  },
  {
   "cell_type": "code",
   "execution_count": 7,
   "id": "eb786080",
   "metadata": {},
   "outputs": [
    {
     "data": {
      "image/png": "[encoded data removed]",
      "text/plain": [
       "<Figure size 640x480 with 1 Axes>"
      ]
     },
     "metadata": {},
     "output_type": "display_data"
    },
    {
     "data": {
      "image/png": "[encoded data removed]",
      "text/plain": [
       "<Figure size 640x480 with 1 Axes>"
      ]
     },
     "metadata": {},
     "output_type": "display_data"
    }
   ],
   "source": [
    "A.graph()"
   ]
  },
  {
   "cell_type": "markdown",
   "id": "5c15afcf",
   "metadata": {},
   "source": [
    "#### 평가(test)"
   ]
  },
  {
   "cell_type": "code",
   "execution_count": 9,
   "id": "5980e437",
   "metadata": {},
   "outputs": [
    {
     "name": "stdout",
     "output_type": "stream",
     "text": [
      "26/26 [==============================] - 1s 20ms/step - loss: 0.6428 - acc: 0.8246\n",
      "\n",
      " 테스트 loss값: 0.6428\n",
      "\n",
      " 테스트 정확도: 0.8246\n"
     ]
    }
   ],
   "source": [
    "A.test(np.array(x_test), y_test)"
   ]
  },
  {
   "cell_type": "markdown",
   "id": "44c6b05d",
   "metadata": {},
   "source": [
    "#### 데이터셋에 없는 가사 예측\n",
    "데이터셋에 없는 가사를 받아 예측하기 위해서는 데이터 정제, 가공 과정이 다시 필요합니다. 따라서 4_Dataset Processing 과정을 반복하여 tokenizer을 얻도록 했습니다. 한번 더 작성하는 대신 processing.py형태로 만들어서 가져와 사용했습니다."
   ]
  },
  {
   "cell_type": "code",
   "execution_count": 10,
   "id": "9a62d850",
   "metadata": {
    "scrolled": true
   },
   "outputs": [],
   "source": [
    "import processing # processing.py\n",
    "import re\n",
    "from konlpy.tag import Okt\n",
    "tokenizer = processing.processing(num_input)\n",
    "\n",
    "def pred(data) :\n",
    "    data = data.replace(\"\\n\", \" \")\n",
    "    data = re.sub(r'[^ㄱ-ㅎㅏ-ㅣ가-힣 ]',\"\", data)\n",
    "    okt = Okt()\n",
    "    data = okt.morphs(data, stem=True)\n",
    "    data = tokenizer.texts_to_sequences([data])\n",
    "    print(\"예측 : \" + csvs[int(np.argmax(A.model.predict(data, verbose=0), axis=-1))])"
   ]
  },
  {
   "cell_type": "markdown",
   "id": "54da2b93",
   "metadata": {},
   "source": [
    "위의 pred()함수를 이용해 예측할 수 있습니다. 가사를 그대로 가져와 아래의 변수 a에 넣은 후 pred(a)로 예측했습니다."
   ]
  },
  {
   "cell_type": "code",
   "execution_count": 11,
   "id": "e9217ded",
   "metadata": {
    "scrolled": false
   },
   "outputs": [
    {
     "name": "stdout",
     "output_type": "stream",
     "text": [
      "예측 : 발라드\n"
     ]
    }
   ],
   "source": [
    "# 데이터셋에 없는 노래를 가져왔습니다. (정답 : 발라드)\n",
    "a = '''이제 괜찮냐 묻지 않네요\n",
    "이젠 내가 짐이 된 걸까요\n",
    "멍든 내 마음이 가여워서\n",
    "우습게 우리의 과거를 바래봐요\n",
    "우리 만일에 마주하더라도\n",
    "아무 말 없이 지나가요\n",
    "그렇게 날 쳐다보지 말아요\n",
    "그대 제발\n",
    "더 이상 나 괴로워하지 않아요\n",
    "그댄 날 잊었는데\n",
    "그대도 해냈는데\n",
    "나라고 못할 거 있나요\n",
    "멍든 내 마음이 가여워서\n",
    "이제는 우리의 과거를 지워가요\n",
    "우리 만일에 마주하더라도\n",
    "아무 말 없이 지나가요\n",
    "그렇게 날 쳐다보지 말아요\n",
    "그대 제발\n",
    "더 이상 나 괴로워하지 않아요\n",
    "그댄 날 잊었는데\n",
    "그대도 해냈는데\n",
    "나라고 못할 거 있나요\n",
    "괴로워하지 않아요\n",
    "그댄 날 잊었는데\n",
    "그대도 해냈는데\n",
    "나라고 못할 거 있나요'''\n",
    "\n",
    "pred(a)"
   ]
  },
  {
   "cell_type": "code",
   "execution_count": 12,
   "id": "c4df7e9a",
   "metadata": {},
   "outputs": [
    {
     "name": "stdout",
     "output_type": "stream",
     "text": [
      "예측 : 랩힙합\n"
     ]
    }
   ],
   "source": [
    "# 데이터셋에 없는 노래를 가져왔습니다. (정답 : 랩힙합)\n",
    "a = '''I know it`s your time \n",
    "그런데도 너에게 간데\n",
    "아마 위험한\n",
    "대가는 나에게만 왜 (why)\n",
    "이유가 대체 넌\n",
    "뭐라 생각해?\n",
    "아마 이건 참\n",
    "알아도 잠시 길을 잃어 way\n",
    "어제는 저기가 main\n",
    "오늘은 여기로 해\n",
    "네가 날 어지럽게\n",
    "하는지 모르겠어 잠시 wait\n",
    "귀가를 하기로 해\n",
    "조금은 쉬기로 해\n",
    "내가 원하는 뭘 하든\n",
    "내 시간을 제발 좀 갖기로 해\n",
    "반복해 너를 표현해 All day\n",
    "피해자래 난 그저 웃어\n",
    "The word doesn't suit you babe\n",
    "아무 말도 하지마\n",
    "덧붙여 말을 해\n",
    "You're really so bad\n",
    "난 그저 웃겨\n",
    "The word\n",
    "doesn't suit you babe\n",
    "아무 말도 하지마 하지마\n",
    "그건 아닐 거야\n",
    "네가 굉장히 오해가 많아\n",
    "내가 친절하게\n",
    "설명해도\n",
    "yeah 안 들어줘 sh*t!\n",
    "너에겐 자비롭고\n",
    "그런 걸 바라는 내가 참\n",
    "한심해 보이며 어이없어\n",
    "Next time 다음 시간을\n",
    "기약하며 날 뒤로 휙\n",
    "던져 버린 후에 잠시 놓기\n",
    "오후 지나 밤에 다시 줍기\n",
    "이런 사실을 넌 알 리 없지\n",
    "노래로 처음 접하게 될 일\n",
    "조금은 아쉽겠지만 뭐 어떻게\n",
    "이미 다른 차에 타 있으니\n",
    "네가 피해자래도\n",
    "입장을 바꿔 말해줘\n",
    "근데 넌 절대 모르겠지\n",
    "평생을 제발 그렇겠니\n",
    "반복해 너를 표현해 All day\n",
    "피해자래 난 그저 웃어\n",
    "The word doesn't suit you babe\n",
    "아무 말도 하지마\n",
    "덧붙여 말을 해\n",
    "You're really so bad 난 그저 웃겨\n",
    "The word doesn't suit you babe\n",
    "아무 말도 하지마 하지마'''\n",
    "\n",
    "pred(a)"
   ]
  },
  {
   "cell_type": "markdown",
   "id": "335963f9",
   "metadata": {},
   "source": [
    "### 다른 모델들과 비교"
   ]
  },
  {
   "cell_type": "markdown",
   "id": "9f4c71d6",
   "metadata": {},
   "source": [
    "#### k-fold cross validation\n",
    "다른 모델들과 비교하기 위해서는 k-fold를 이용해 산출한 평균 정확도를 비교하는 것이 필요하다고 생각했습니다. k fold에 이용되는 데이터 셋으로는 위에서의 x_train을 나누어 train, test 데이터로 만들어 이용했습니다."
   ]
  },
  {
   "cell_type": "code",
   "execution_count": 13,
   "id": "1138a5c8",
   "metadata": {
    "scrolled": true
   },
   "outputs": [
    {
     "name": "stdout",
     "output_type": "stream",
     "text": [
      "--------------1번째 그룹----------------\n",
      "Epoch 1/30\n",
      "33/33 [==============================] - 4s 82ms/step - loss: 1.3719 - acc: 0.3111 - val_loss: 1.2357 - val_acc: 0.4602\n",
      "Epoch 2/30\n",
      "33/33 [==============================] - 2s 64ms/step - loss: 1.0270 - acc: 0.4823 - val_loss: 0.9917 - val_acc: 0.4718\n",
      "Epoch 3/30\n",
      "33/33 [==============================] - 2s 67ms/step - loss: 0.8781 - acc: 0.5523 - val_loss: 0.9489 - val_acc: 0.5592\n",
      "Epoch 4/30\n",
      "33/33 [==============================] - 2s 69ms/step - loss: 0.8134 - acc: 0.6125 - val_loss: 0.9193 - val_acc: 0.5592\n",
      "Epoch 5/30\n",
      "33/33 [==============================] - 2s 70ms/step - loss: 0.6949 - acc: 0.6952 - val_loss: 1.4132 - val_acc: 0.5010\n",
      "Epoch 6/30\n",
      "33/33 [==============================] - 2s 71ms/step - loss: 0.5525 - acc: 0.7560 - val_loss: 1.0976 - val_acc: 0.6058\n",
      "Epoch 7/30\n",
      "33/33 [==============================] - 2s 68ms/step - loss: 0.4852 - acc: 0.7710 - val_loss: 0.8674 - val_acc: 0.6311\n",
      "Epoch 8/30\n",
      "33/33 [==============================] - 2s 68ms/step - loss: 0.4399 - acc: 0.8026 - val_loss: 0.8219 - val_acc: 0.6971\n",
      "Epoch 9/30\n",
      "33/33 [==============================] - 2s 68ms/step - loss: 0.3974 - acc: 0.8624 - val_loss: 0.8011 - val_acc: 0.7204\n",
      "Epoch 10/30\n",
      "33/33 [==============================] - 2s 67ms/step - loss: 0.3861 - acc: 0.8785 - val_loss: 0.8764 - val_acc: 0.7320\n",
      "Epoch 11/30\n",
      "33/33 [==============================] - 2s 69ms/step - loss: 0.2451 - acc: 0.9101 - val_loss: 0.8647 - val_acc: 0.7165\n",
      "Epoch 12/30\n",
      "33/33 [==============================] - 2s 69ms/step - loss: 0.1688 - acc: 0.9368 - val_loss: 1.1561 - val_acc: 0.6971\n",
      "Epoch 13/30\n",
      "33/33 [==============================] - 2s 76ms/step - loss: 0.1678 - acc: 0.9499 - val_loss: 0.7311 - val_acc: 0.7825\n",
      "Epoch 14/30\n",
      "33/33 [==============================] - 2s 71ms/step - loss: 0.0934 - acc: 0.9703 - val_loss: 1.1544 - val_acc: 0.7107\n",
      "Epoch 15/30\n",
      "33/33 [==============================] - 2s 69ms/step - loss: 0.0972 - acc: 0.9723 - val_loss: 1.2521 - val_acc: 0.7476\n",
      "Epoch 16/30\n",
      "33/33 [==============================] - 2s 71ms/step - loss: 0.0558 - acc: 0.9820 - val_loss: 0.8185 - val_acc: 0.8272\n",
      "Epoch 17/30\n",
      "33/33 [==============================] - 2s 67ms/step - loss: 0.0443 - acc: 0.9869 - val_loss: 1.2151 - val_acc: 0.7786\n",
      "Epoch 17: early stopping\n",
      "21/21 [==============================] - 0s 16ms/step - loss: 1.2450 - acc: 0.7826\n",
      "21/21 [==============================] - 0s 16ms/step - loss: 1.2450 - acc: 0.7826\n",
      "--------------2번째 그룹----------------\n",
      "Epoch 1/30\n",
      "33/33 [==============================] - 5s 86ms/step - loss: 1.3419 - acc: 0.3290 - val_loss: 1.6213 - val_acc: 0.3573\n",
      "Epoch 2/30\n",
      "33/33 [==============================] - 2s 73ms/step - loss: 1.0036 - acc: 0.5019 - val_loss: 0.9367 - val_acc: 0.5262\n",
      "Epoch 3/30\n",
      "33/33 [==============================] - 2s 70ms/step - loss: 0.8284 - acc: 0.5743 - val_loss: 0.8547 - val_acc: 0.5981\n",
      "Epoch 4/30\n",
      "33/33 [==============================] - 2s 70ms/step - loss: 0.7056 - acc: 0.6788 - val_loss: 0.8924 - val_acc: 0.6194\n",
      "Epoch 5/30\n",
      "33/33 [==============================] - 2s 70ms/step - loss: 0.5774 - acc: 0.7784 - val_loss: 0.7500 - val_acc: 0.7126\n",
      "Epoch 6/30\n",
      "33/33 [==============================] - 2s 69ms/step - loss: 0.4406 - acc: 0.8562 - val_loss: 0.7538 - val_acc: 0.7087\n",
      "Epoch 7/30\n",
      "33/33 [==============================] - 2s 68ms/step - loss: 0.3606 - acc: 0.8785 - val_loss: 0.8012 - val_acc: 0.7107\n",
      "Epoch 8/30\n",
      "33/33 [==============================] - 2s 68ms/step - loss: 0.2780 - acc: 0.9140 - val_loss: 1.0497 - val_acc: 0.6602\n",
      "Epoch 9/30\n",
      "33/33 [==============================] - 2s 71ms/step - loss: 0.2521 - acc: 0.9135 - val_loss: 0.9345 - val_acc: 0.6932\n",
      "Epoch 9: early stopping\n",
      "21/21 [==============================] - 0s 16ms/step - loss: 0.9131 - acc: 0.7123\n",
      "21/21 [==============================] - 0s 17ms/step - loss: 0.9131 - acc: 0.7123\n",
      "--------------3번째 그룹----------------\n",
      "Epoch 1/30\n",
      "33/33 [==============================] - 4s 88ms/step - loss: 1.3764 - acc: 0.3081 - val_loss: 1.3311 - val_acc: 0.3883\n",
      "Epoch 2/30\n",
      "33/33 [==============================] - 2s 71ms/step - loss: 1.0008 - acc: 0.5112 - val_loss: 0.9609 - val_acc: 0.5087\n",
      "Epoch 3/30\n",
      "33/33 [==============================] - 2s 71ms/step - loss: 0.8073 - acc: 0.6278 - val_loss: 0.8887 - val_acc: 0.5845\n",
      "Epoch 4/30\n",
      "33/33 [==============================] - 2s 72ms/step - loss: 0.6143 - acc: 0.7114 - val_loss: 0.7848 - val_acc: 0.6524\n",
      "Epoch 5/30\n",
      "33/33 [==============================] - 2s 73ms/step - loss: 0.4997 - acc: 0.7779 - val_loss: 0.8533 - val_acc: 0.6427\n",
      "Epoch 6/30\n",
      "33/33 [==============================] - 2s 73ms/step - loss: 0.4280 - acc: 0.8217 - val_loss: 0.8220 - val_acc: 0.7010\n",
      "Epoch 7/30\n",
      "33/33 [==============================] - 2s 73ms/step - loss: 0.3758 - acc: 0.8469 - val_loss: 0.7338 - val_acc: 0.7379\n",
      "Epoch 8/30\n",
      "33/33 [==============================] - 2s 74ms/step - loss: 0.2628 - acc: 0.9028 - val_loss: 0.9265 - val_acc: 0.7165\n",
      "Epoch 9/30\n",
      "33/33 [==============================] - 2s 72ms/step - loss: 0.2139 - acc: 0.9145 - val_loss: 0.8151 - val_acc: 0.7767\n",
      "Epoch 10/30\n",
      "33/33 [==============================] - 2s 73ms/step - loss: 0.1430 - acc: 0.9509 - val_loss: 0.8808 - val_acc: 0.7748\n",
      "Epoch 11/30\n",
      "33/33 [==============================] - 2s 73ms/step - loss: 0.1063 - acc: 0.9636 - val_loss: 1.0066 - val_acc: 0.7883\n",
      "Epoch 11: early stopping\n",
      "21/21 [==============================] - 0s 18ms/step - loss: 0.8808 - acc: 0.7947\n",
      "21/21 [==============================] - 0s 19ms/step - loss: 0.8808 - acc: 0.7947\n",
      "--------------4번째 그룹----------------\n",
      "Epoch 1/30\n",
      "33/33 [==============================] - 4s 88ms/step - loss: 1.3652 - acc: 0.3158 - val_loss: 1.1189 - val_acc: 0.4990\n",
      "Epoch 2/30\n",
      "33/33 [==============================] - 2s 73ms/step - loss: 0.9752 - acc: 0.5092 - val_loss: 1.1123 - val_acc: 0.4466\n",
      "Epoch 3/30\n",
      "33/33 [==============================] - 2s 71ms/step - loss: 0.8439 - acc: 0.5918 - val_loss: 0.8482 - val_acc: 0.6680\n",
      "Epoch 4/30\n",
      "33/33 [==============================] - 2s 72ms/step - loss: 0.6969 - acc: 0.7143 - val_loss: 0.7661 - val_acc: 0.6621\n",
      "Epoch 5/30\n",
      "33/33 [==============================] - 2s 74ms/step - loss: 0.5494 - acc: 0.8027 - val_loss: 0.7199 - val_acc: 0.7282\n",
      "Epoch 6/30\n",
      "33/33 [==============================] - 2s 74ms/step - loss: 0.3767 - acc: 0.8795 - val_loss: 0.8678 - val_acc: 0.6524\n",
      "Epoch 7/30\n",
      "33/33 [==============================] - 2s 71ms/step - loss: 0.2879 - acc: 0.9062 - val_loss: 0.7727 - val_acc: 0.7748\n",
      "Epoch 8/30\n",
      "33/33 [==============================] - 2s 72ms/step - loss: 0.1855 - acc: 0.9451 - val_loss: 1.3421 - val_acc: 0.6990\n",
      "Epoch 9/30\n",
      "33/33 [==============================] - 2s 71ms/step - loss: 0.1709 - acc: 0.9461 - val_loss: 0.8255 - val_acc: 0.7709\n",
      "Epoch 9: early stopping\n",
      "21/21 [==============================] - 0s 17ms/step - loss: 0.8271 - acc: 0.7698\n",
      "21/21 [==============================] - 0s 17ms/step - loss: 0.8271 - acc: 0.7698\n",
      "--------------5번째 그룹----------------\n",
      "Epoch 1/30\n",
      "33/33 [==============================] - 4s 81ms/step - loss: 1.3385 - acc: 0.3304 - val_loss: 1.1178 - val_acc: 0.4175\n",
      "Epoch 2/30\n",
      "33/33 [==============================] - 2s 69ms/step - loss: 1.0610 - acc: 0.5301 - val_loss: 0.9373 - val_acc: 0.4893\n",
      "Epoch 3/30\n",
      "33/33 [==============================] - 2s 70ms/step - loss: 0.8862 - acc: 0.5695 - val_loss: 0.9203 - val_acc: 0.6078\n",
      "Epoch 4/30\n",
      "33/33 [==============================] - 2s 71ms/step - loss: 0.7911 - acc: 0.6803 - val_loss: 0.8915 - val_acc: 0.5883\n",
      "Epoch 5/30\n",
      "33/33 [==============================] - 2s 71ms/step - loss: 0.6364 - acc: 0.7809 - val_loss: 0.7568 - val_acc: 0.6718\n",
      "Epoch 6/30\n",
      "33/33 [==============================] - 2s 68ms/step - loss: 0.4460 - acc: 0.8455 - val_loss: 0.8295 - val_acc: 0.6777\n",
      "Epoch 7/30\n",
      "33/33 [==============================] - 3s 77ms/step - loss: 0.2956 - acc: 0.9057 - val_loss: 0.7429 - val_acc: 0.7495\n",
      "Epoch 8/30\n",
      "33/33 [==============================] - 3s 80ms/step - loss: 0.2147 - acc: 0.9363 - val_loss: 0.6687 - val_acc: 0.7883\n",
      "Epoch 9/30\n",
      "33/33 [==============================] - 3s 99ms/step - loss: 0.1393 - acc: 0.9592 - val_loss: 1.6008 - val_acc: 0.7010\n",
      "Epoch 10/30\n"
     ]
    },
    {
     "name": "stdout",
     "output_type": "stream",
     "text": [
      "33/33 [==============================] - 3s 87ms/step - loss: 0.1276 - acc: 0.9650 - val_loss: 0.7487 - val_acc: 0.8097\n",
      "Epoch 11/30\n",
      "33/33 [==============================] - 3s 81ms/step - loss: 0.0913 - acc: 0.9723 - val_loss: 0.8465 - val_acc: 0.8058\n",
      "Epoch 12/30\n",
      "33/33 [==============================] - 3s 87ms/step - loss: 0.0671 - acc: 0.9835 - val_loss: 0.9599 - val_acc: 0.7942\n",
      "Epoch 12: early stopping\n",
      "21/21 [==============================] - 0s 22ms/step - loss: 0.9154 - acc: 0.7885\n",
      "21/21 [==============================] - 0s 22ms/step - loss: 0.9154 - acc: 0.7885\n",
      "-----------------------------------------\n",
      "------------------결과-------------------\n",
      "-----------------------------------------\n",
      "각 분할의 loss : [0.782608687877655, 0.7122861742973328, 0.7947123050689697, 0.7698289155960083, 0.788491427898407]\n",
      "평균 loss : 0.7695855021476745\n",
      "각 분할의 정확도 : [0.782608687877655, 0.7122861742973328, 0.7947123050689697, 0.7698289155960083, 0.788491427898407]\n",
      "평균 정확도 : 76.95855021476746 %\n"
     ]
    }
   ],
   "source": [
    "from sklearn.ensemble import RandomForestClassifier\n",
    "from sklearn.metrics import accuracy_score\n",
    "from sklearn.model_selection import KFold\n",
    "\n",
    "\n",
    "def start_kfold(X, y) :\n",
    "    kf = KFold(n_splits = 5, shuffle = True, random_state = 50)\n",
    "    accuracy_history = []\n",
    "    loss_history = []\n",
    "    num = 0\n",
    "    models = []\n",
    "    for train_index, test_index in kf.split(X):\n",
    "        num += 1\n",
    "        print(\"--------------\" + str(num) + \"번째 그룹\" + \"----------------\")\n",
    "        X_train, X_test = X[train_index], X[test_index]\n",
    "        y_train, y_test = y[train_index], y[test_index]\n",
    "        \n",
    "        B = LSTM_2_model()\n",
    "        B.learn(X_train, y_train, 0)\n",
    "        accuracy_history.append(B.return_test_acc(X_test, y_test)[1]) # 정확도 측정 및 기록\n",
    "        loss_history.append(B.return_test_acc(X_test, y_test)[0])\n",
    "    print(\"-----------------------------------------\")\n",
    "    print(\"------------------결과-------------------\")\n",
    "    print(\"-----------------------------------------\")\n",
    "    print(\"각 분할의 loss :\", accuracy_history)\n",
    "    print(\"평균 loss :\", np.mean(accuracy_history))\n",
    "    print(\"각 분할의 정확도 :\", accuracy_history)\n",
    "    print(\"평균 정확도 :\", np.mean(accuracy_history)*100, \"%\")\n",
    "    \n",
    "    \n",
    "start_kfold(np.array(x_train), y_train)"
   ]
  },
  {
   "cell_type": "markdown",
   "id": "a3d77255",
   "metadata": {},
   "source": [
    "k-fold를 이용해 구한 loss값은 [0.782608687877655, 0.7122861742973328, 0.7947123050689697, 0.7698289155960083, 0.788491427898407]로 평균 0.77입니다. 정확도는 [0.782608687877655, 0.7122861742973328, 0.7947123050689697, 0.7698289155960083, 0.788491427898407]으로 평균 76.96%입니다. "
   ]
  },
  {
   "attachments": {
    "image-2.png": {
     "image/png": "[encoded data removed]"
    }
   },
   "cell_type": "markdown",
   "id": "862ee32c",
   "metadata": {},
   "source": [
    "![image-2.png](attachment:image-2.png)"
   ]
  },
  {
   "cell_type": "markdown",
   "id": "c228dafd",
   "metadata": {},
   "source": [
    "본 모델(LSTM-2)은 4_Deep Learning_(1) 모델에 두개의 Dense 층을 쌓은 형태입니다. 기존의 LSTM-1모델보다 정확도가 떨어졌습니다. 저는 이 현상이 모델이 복잡해져서 train 데이터에 대하여만 과도하게 학습해 생기는 과적합이라고 생각합니다. "
   ]
  }
 ],
 "metadata": {
  "kernelspec": {
   "display_name": "Python 3 (ipykernel)",
   "language": "python",
   "name": "python3"
  },
  "language_info": {
   "codemirror_mode": {
    "name": "ipython",
    "version": 3
   },
   "file_extension": ".py",
   "mimetype": "text/x-python",
   "name": "python",
   "nbconvert_exporter": "python",
   "pygments_lexer": "ipython3",
   "version": "3.9.13"
  }
 },
 "nbformat": 4,
 "nbformat_minor": 5
}
