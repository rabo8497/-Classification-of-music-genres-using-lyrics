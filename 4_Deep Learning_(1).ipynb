{
 "cells": [
  {
   "cell_type": "markdown",
   "id": "1543d536",
   "metadata": {},
   "source": [
    "### Step 6. 딥러닝 구현"
   ]
  },
  {
   "cell_type": "markdown",
   "id": "0679ad47",
   "metadata": {},
   "source": [
    "# LSTM 모델 이용\n",
    "4_Deep_Learning(1) 파일에서는 LSTM 모델을 이용하여 학습을 시킬 것입니다."
   ]
  },
  {
   "cell_type": "markdown",
   "id": "cca5b709",
   "metadata": {},
   "source": [
    "### csv 읽어오기"
   ]
  },
  {
   "cell_type": "code",
   "execution_count": 205,
   "id": "054fbf55",
   "metadata": {
    "scrolled": false
   },
   "outputs": [
    {
     "name": "stdout",
     "output_type": "stream",
     "text": [
      "train 데이터 수 : 3216\n",
      "발라드 : 804\n",
      "랩힙합 : 804\n",
      "트로트 : 804\n",
      "CCM : 804\n",
      "----------------\n",
      "test 데이터 수 : 804\n",
      "발라드 : 201\n",
      "랩힙합 : 201\n",
      "트로트 : 201\n",
      "CCM : 201\n"
     ]
    }
   ],
   "source": [
    "import csv\n",
    "import numpy as np\n",
    "import matplotlib\n",
    "import matplotlib.pyplot as plt\n",
    "import matplotlib.font_manager as fm\n",
    "from tqdm import tqdm\n",
    "from tensorflow.keras.preprocessing.text import Tokenizer\n",
    "from tensorflow.keras.preprocessing.sequence import pad_sequences\n",
    "import random\n",
    "import tensorflow as tf\n",
    "import pandas as pd\n",
    "import re\n",
    "from sklearn.preprocessing import LabelEncoder\n",
    "from tensorflow.keras.layers import Embedding, Dense, LSTM\n",
    "from tensorflow.keras.models import Sequential\n",
    "from tensorflow.keras.models import load_model\n",
    "from tensorflow.keras.callbacks import EarlyStopping, ModelCheckpoint\n",
    "csvs = [\"발라드\", \"랩힙합\", \"트로트\", \"CCM\"]\n",
    "\n",
    "def csv_data() :\n",
    "    x_train = []\n",
    "    y_train = []\n",
    "    x_test = []\n",
    "    y_test = []\n",
    "    f = open('4_Refined Dataset.csv','r', encoding='utf-8')\n",
    "    rdr = csv.reader(f)\n",
    "    for line in rdr:\n",
    "        data = []\n",
    "        if line[-1] == 'type' : continue\n",
    "        elif line[-1] == 'train' :\n",
    "            for i in range(1,len(line)-2) :\n",
    "                data.append(int(line[i]))\n",
    "            x_train.append(data)\n",
    "            y_train.append(int(line[-2]))\n",
    "        elif line[-1] == 'test' :\n",
    "            for i in range(1,len(line)-2) :\n",
    "                data.append(int(line[i]))\n",
    "            x_test.append(data)\n",
    "            y_test.append(int(line[-2]))\n",
    "    f.close()\n",
    "    \n",
    "    # 학습 데이터 정보 출력\n",
    "    print(\"train 데이터 수 :\", len(x_train))\n",
    "    for k in range(len(csvs)) :\n",
    "        print(csvs[k] + \" :\", len([i for i in y_train if i == k]))\n",
    "    print(\"----------------\")\n",
    "    print(\"test 데이터 수 :\", len(x_test))\n",
    "    for k in range(len(csvs)) :\n",
    "        print(csvs[k] + \" :\", len([i for i in y_test if i == k]))\n",
    "    \n",
    "    return x_train, y_train, x_test, y_test\n",
    "\n",
    "x_train, y_train, x_test, y_test = csv_data()"
   ]
  },
  {
   "cell_type": "markdown",
   "id": "c3e9b5a4",
   "metadata": {},
   "source": [
    "아래 코드는 토큰화된 값의 수를 받아오는 코드입니다. 해당 값은 아래 학습 모델에서 이용됩니다. "
   ]
  },
  {
   "cell_type": "code",
   "execution_count": 206,
   "id": "c192d34d",
   "metadata": {},
   "outputs": [],
   "source": [
    "max_val_lists = []\n",
    "for i in x_train :\n",
    "    max_val_lists.append(max(i))\n",
    "num_input = max(max_val_lists) + 1"
   ]
  },
  {
   "cell_type": "markdown",
   "id": "36b66082",
   "metadata": {},
   "source": [
    "#### train 데이터 섞기"
   ]
  },
  {
   "cell_type": "code",
   "execution_count": 207,
   "id": "80cd74a1",
   "metadata": {},
   "outputs": [],
   "source": [
    "train_tuple_lists = []\n",
    "for i in range(len(x_train)) :\n",
    "    train_tuple_lists.append((x_train[i], y_train[i]))\n",
    "random.shuffle(train_tuple_lists)\n",
    "x_train = [i[0] for i in train_tuple_lists]\n",
    "y_train = [i[1] for i in train_tuple_lists]"
   ]
  },
  {
   "cell_type": "markdown",
   "id": "b9e9b35c",
   "metadata": {},
   "source": [
    "#### 원-핫 인코딩\n",
    "아래 과정은 위에서 만근 y_train을 원 핫 인코딩 데이터로 만드는 과정입니다. 웟 핫 인코딩된 데이터는 다음과 같은 의미를 같습니다.\n",
    "1) [1, 0, 0, 0] : 발라드\n",
    "2) [0, 1, 0, 0] : 랩힙합\n",
    "3) [0, 0, 1, 0] : 트로트\n",
    "4) [0, 0, 0, 1] : CCM"
   ]
  },
  {
   "cell_type": "code",
   "execution_count": 208,
   "id": "db1a0e29",
   "metadata": {},
   "outputs": [
    {
     "name": "stdout",
     "output_type": "stream",
     "text": [
      "training 데이터 수 : 3216\n",
      "test 데이터 수 : 804\n",
      "원 핫 인코딩된 y_train 예시\n",
      " [[0. 1. 0. 0.]\n",
      " [0. 1. 0. 0.]\n",
      " [0. 0. 1. 0.]]\n"
     ]
    }
   ],
   "source": [
    "e = LabelEncoder()\n",
    "e.fit(y_train)\n",
    "Y = e.transform(y_train)\n",
    "y_train = tf.keras.utils.to_categorical(Y) \n",
    "print(\"training 데이터 수 :\", len(y_train))\n",
    "\n",
    "e = LabelEncoder()\n",
    "e.fit(y_test)\n",
    "Y = e.transform(y_test)\n",
    "y_test = tf.keras.utils.to_categorical(Y) \n",
    "print(\"test 데이터 수 :\", len(y_test))\n",
    "\n",
    "print(\"원 핫 인코딩된 y_train 예시\\n\", y_train[:3])"
   ]
  },
  {
   "cell_type": "markdown",
   "id": "a50ceddb",
   "metadata": {},
   "source": [
    "## 모델 학습"
   ]
  },
  {
   "cell_type": "markdown",
   "id": "7cdaebe2",
   "metadata": {},
   "source": [
    "#### 학습(training)"
   ]
  },
  {
   "cell_type": "code",
   "execution_count": 209,
   "id": "094160b1",
   "metadata": {},
   "outputs": [],
   "source": [
    "class LSTM_model : # k fold에서 모델을 여러번 이용할 것이기 때문에 사용하기 쉽도록 class로 만들었습니다.\n",
    "    def __init__(self) : # 모델 설계 및 컴파일\n",
    "        self.model = Sequential()\n",
    "        self.model.add(Embedding(num_input, 20))\n",
    "        self.model.add(LSTM(32))\n",
    "        self.model.add(Dense(len(csvs), activation='softmax'))\n",
    "        self.model.compile(optimizer='rmsprop', loss='categorical_crossentropy', metrics=['acc'])\n",
    "    def learn(self, x, y, save) : # 모델 학습\n",
    "        # save : 1이면 모델 저장을 합니다\n",
    "        es = EarlyStopping(monitor='val_loss', mode='min', verbose=1, patience=4)\n",
    "        if save == 1 :\n",
    "            mc = ModelCheckpoint('LSTM_model.h5', monitor='val_acc', mode='max', verbose=1, save_best_only=True)\n",
    "            self.history = self.model.fit(x, y, epochs=30, callbacks=[es, mc], batch_size=64, validation_split=0.2)\n",
    "        else :\n",
    "            self.history = self.model.fit(x, y, epochs=30, callbacks=[es], batch_size=64, validation_split=0.2)\n",
    "    def graph(self) : # 그래프 그리기\n",
    "        plt.plot(range(1, len(self.history.history['acc']) + 1), self.history.history['loss'])\n",
    "        plt.plot(range(1, len(self.history.history['acc']) + 1), self.history.history['val_loss'])\n",
    "        plt.title('loss')\n",
    "        plt.ylabel('loss')\n",
    "        plt.xlabel('epoch')\n",
    "        plt.legend(['train', 'val'])\n",
    "        plt.show()\n",
    "        plt.plot(range(1, len(self.history.history['acc']) + 1), self.history.history['acc'])\n",
    "        plt.plot(range(1, len(self.history.history['acc']) + 1), self.history.history['val_acc'])\n",
    "        plt.title('accuracy')\n",
    "        plt.ylabel('accuracy')\n",
    "        plt.xlabel('epoch')\n",
    "        plt.legend(['train', 'val'])\n",
    "        plt.show()\n",
    "    def test(self, x, y) : # 모델 테스트\n",
    "        loaded_model = load_model('LSTM_model.h5')\n",
    "        p = (loaded_model.evaluate(x, y))\n",
    "        print(\"\\n 테스트 loss값: %.4f\" % p[0])\n",
    "        print(\"\\n 테스트 정확도: %.4f\" % p[1])\n",
    "    def return_test_acc(self, x, y) :\n",
    "        return self.model.evaluate(x, y)"
   ]
  },
  {
   "cell_type": "code",
   "execution_count": 210,
   "id": "6bd7a30b",
   "metadata": {
    "scrolled": true
   },
   "outputs": [
    {
     "name": "stdout",
     "output_type": "stream",
     "text": [
      "Model: \"sequential_52\"\n",
      "_________________________________________________________________\n",
      " Layer (type)                Output Shape              Param #   \n",
      "=================================================================\n",
      " embedding_51 (Embedding)    (None, None, 20)          148300    \n",
      "                                                                 \n",
      " lstm_51 (LSTM)              (None, 32)                6784      \n",
      "                                                                 \n",
      " dense_51 (Dense)            (None, 4)                 132       \n",
      "                                                                 \n",
      "=================================================================\n",
      "Total params: 155,216\n",
      "Trainable params: 155,216\n",
      "Non-trainable params: 0\n",
      "_________________________________________________________________\n",
      "None\n"
     ]
    }
   ],
   "source": [
    "A = LSTM_model()\n",
    "print(A.model.summary())"
   ]
  },
  {
   "cell_type": "code",
   "execution_count": 211,
   "id": "b690badf",
   "metadata": {},
   "outputs": [
    {
     "name": "stdout",
     "output_type": "stream",
     "text": [
      "Epoch 1/30\n",
      "41/41 [==============================] - ETA: 0s - loss: 1.3569 - acc: 0.3281\n",
      "Epoch 1: val_acc improved from -inf to 0.38199, saving model to LSTM_model.h5\n",
      "41/41 [==============================] - 7s 147ms/step - loss: 1.3569 - acc: 0.3281 - val_loss: 1.2680 - val_acc: 0.3820\n",
      "Epoch 2/30\n",
      "41/41 [==============================] - ETA: 0s - loss: 1.1039 - acc: 0.4844\n",
      "Epoch 2: val_acc improved from 0.38199 to 0.49845, saving model to LSTM_model.h5\n",
      "41/41 [==============================] - 6s 137ms/step - loss: 1.1039 - acc: 0.4844 - val_loss: 1.0218 - val_acc: 0.4984\n",
      "Epoch 3/30\n",
      "41/41 [==============================] - ETA: 0s - loss: 0.9726 - acc: 0.5214\n",
      "Epoch 3: val_acc did not improve from 0.49845\n",
      "41/41 [==============================] - 6s 135ms/step - loss: 0.9726 - acc: 0.5214 - val_loss: 0.9576 - val_acc: 0.4953\n",
      "Epoch 4/30\n",
      "41/41 [==============================] - ETA: 0s - loss: 0.8649 - acc: 0.6019\n",
      "Epoch 4: val_acc improved from 0.49845 to 0.51553, saving model to LSTM_model.h5\n",
      "41/41 [==============================] - 6s 138ms/step - loss: 0.8649 - acc: 0.6019 - val_loss: 1.0130 - val_acc: 0.5155\n",
      "Epoch 5/30\n",
      "41/41 [==============================] - ETA: 0s - loss: 0.7377 - acc: 0.7057\n",
      "Epoch 5: val_acc improved from 0.51553 to 0.69255, saving model to LSTM_model.h5\n",
      "41/41 [==============================] - 6s 139ms/step - loss: 0.7377 - acc: 0.7057 - val_loss: 0.7610 - val_acc: 0.6925\n",
      "Epoch 6/30\n",
      "41/41 [==============================] - ETA: 0s - loss: 0.6598 - acc: 0.7208\n",
      "Epoch 6: val_acc did not improve from 0.69255\n",
      "41/41 [==============================] - 6s 152ms/step - loss: 0.6598 - acc: 0.7208 - val_loss: 0.6857 - val_acc: 0.6770\n",
      "Epoch 7/30\n",
      "41/41 [==============================] - ETA: 0s - loss: 0.5952 - acc: 0.7430\n",
      "Epoch 7: val_acc improved from 0.69255 to 0.72981, saving model to LSTM_model.h5\n",
      "41/41 [==============================] - 6s 141ms/step - loss: 0.5952 - acc: 0.7430 - val_loss: 0.6750 - val_acc: 0.7298\n",
      "Epoch 8/30\n",
      "41/41 [==============================] - ETA: 0s - loss: 0.5398 - acc: 0.7691\n",
      "Epoch 8: val_acc did not improve from 0.72981\n",
      "41/41 [==============================] - 6s 142ms/step - loss: 0.5398 - acc: 0.7691 - val_loss: 0.6178 - val_acc: 0.7003\n",
      "Epoch 9/30\n",
      "41/41 [==============================] - ETA: 0s - loss: 0.5159 - acc: 0.7784\n",
      "Epoch 9: val_acc improved from 0.72981 to 0.74224, saving model to LSTM_model.h5\n",
      "41/41 [==============================] - 6s 142ms/step - loss: 0.5159 - acc: 0.7784 - val_loss: 0.6512 - val_acc: 0.7422\n",
      "Epoch 10/30\n",
      "41/41 [==============================] - ETA: 0s - loss: 0.4803 - acc: 0.8075\n",
      "Epoch 10: val_acc improved from 0.74224 to 0.77329, saving model to LSTM_model.h5\n",
      "41/41 [==============================] - 6s 143ms/step - loss: 0.4803 - acc: 0.8075 - val_loss: 0.5920 - val_acc: 0.7733\n",
      "Epoch 11/30\n",
      "41/41 [==============================] - ETA: 0s - loss: 0.4297 - acc: 0.8523\n",
      "Epoch 11: val_acc improved from 0.77329 to 0.79814, saving model to LSTM_model.h5\n",
      "41/41 [==============================] - 6s 143ms/step - loss: 0.4297 - acc: 0.8523 - val_loss: 0.5399 - val_acc: 0.7981\n",
      "Epoch 12/30\n",
      "41/41 [==============================] - ETA: 0s - loss: 0.3422 - acc: 0.8977\n",
      "Epoch 12: val_acc did not improve from 0.79814\n",
      "41/41 [==============================] - 6s 149ms/step - loss: 0.3422 - acc: 0.8977 - val_loss: 0.6891 - val_acc: 0.7376\n",
      "Epoch 13/30\n",
      "41/41 [==============================] - ETA: 0s - loss: 0.2966 - acc: 0.9110\n",
      "Epoch 13: val_acc improved from 0.79814 to 0.82919, saving model to LSTM_model.h5\n",
      "41/41 [==============================] - 6s 147ms/step - loss: 0.2966 - acc: 0.9110 - val_loss: 0.4889 - val_acc: 0.8292\n",
      "Epoch 14/30\n",
      "41/41 [==============================] - ETA: 0s - loss: 0.2487 - acc: 0.9288\n",
      "Epoch 14: val_acc did not improve from 0.82919\n",
      "41/41 [==============================] - 6s 143ms/step - loss: 0.2487 - acc: 0.9288 - val_loss: 0.8116 - val_acc: 0.7236\n",
      "Epoch 15/30\n",
      "41/41 [==============================] - ETA: 0s - loss: 0.2480 - acc: 0.9265\n",
      "Epoch 15: val_acc improved from 0.82919 to 0.84627, saving model to LSTM_model.h5\n",
      "41/41 [==============================] - 6s 144ms/step - loss: 0.2480 - acc: 0.9265 - val_loss: 0.5068 - val_acc: 0.8463\n",
      "Epoch 16/30\n",
      "41/41 [==============================] - ETA: 0s - loss: 0.1809 - acc: 0.9510\n",
      "Epoch 16: val_acc did not improve from 0.84627\n",
      "41/41 [==============================] - 6s 157ms/step - loss: 0.1809 - acc: 0.9510 - val_loss: 0.5321 - val_acc: 0.8292\n",
      "Epoch 17/30\n",
      "41/41 [==============================] - ETA: 0s - loss: 0.1936 - acc: 0.9463\n",
      "Epoch 17: val_acc did not improve from 0.84627\n",
      "41/41 [==============================] - 6s 144ms/step - loss: 0.1936 - acc: 0.9463 - val_loss: 0.5255 - val_acc: 0.8385\n",
      "Epoch 17: early stopping\n"
     ]
    }
   ],
   "source": [
    "A.learn(np.array(x_train), y_train, 1) "
   ]
  },
  {
   "cell_type": "markdown",
   "id": "86185791",
   "metadata": {},
   "source": [
    "#### 시각화"
   ]
  },
  {
   "cell_type": "code",
   "execution_count": 212,
   "id": "eb786080",
   "metadata": {},
   "outputs": [
    {
     "data": {
      "image/png": "[encoded data removed]",
      "text/plain": [
       "<Figure size 640x480 with 1 Axes>"
      ]
     },
     "metadata": {},
     "output_type": "display_data"
    },
    {
     "data": {
      "image/png": "[encoded data removed]",
      "text/plain": [
       "<Figure size 640x480 with 1 Axes>"
      ]
     },
     "metadata": {},
     "output_type": "display_data"
    }
   ],
   "source": [
    "A.graph()"
   ]
  },
  {
   "cell_type": "markdown",
   "id": "5c15afcf",
   "metadata": {},
   "source": [
    "#### 평가(test)"
   ]
  },
  {
   "cell_type": "code",
   "execution_count": 213,
   "id": "5980e437",
   "metadata": {},
   "outputs": [
    {
     "name": "stdout",
     "output_type": "stream",
     "text": [
      "26/26 [==============================] - 1s 30ms/step - loss: 0.5319 - acc: 0.8197\n",
      "\n",
      " 테스트 loss값: 0.5319\n",
      "\n",
      " 테스트 정확도: 0.8197\n"
     ]
    }
   ],
   "source": [
    "A.test(np.array(x_test), y_test)"
   ]
  },
  {
   "cell_type": "markdown",
   "id": "44c6b05d",
   "metadata": {},
   "source": [
    "#### 데이터셋에 없는 가사 예측\n",
    "데이터셋에 없는 가사를 받아 예측하기 위해서는 데이터 정제, 가공 과정이 다시 필요합니다. 따라서 4_Dataset Processing 과정을 반복하여 tokenizer을 얻도록 했습니다. 한번 더 작성하는 대신 processing.py형태로 만들어서 가져와 사용했습니다."
   ]
  },
  {
   "cell_type": "code",
   "execution_count": 214,
   "id": "9a62d850",
   "metadata": {
    "scrolled": true
   },
   "outputs": [],
   "source": [
    "import processing # processing.py\n",
    "import re\n",
    "from konlpy.tag import Okt\n",
    "tokenizer = processing.processing(num_input)\n",
    "\n",
    "def pred(data) :\n",
    "    data = data.replace(\"\\n\", \" \")\n",
    "    data = re.sub(r'[^ㄱ-ㅎㅏ-ㅣ가-힣 ]',\"\", data)\n",
    "    okt = Okt()\n",
    "    data = okt.morphs(data, stem=True)\n",
    "    data = tokenizer.texts_to_sequences([data])\n",
    "    print(\"예측 : \" + csvs[int(np.argmax(A.model.predict(data, verbose=0), axis=-1))])"
   ]
  },
  {
   "cell_type": "markdown",
   "id": "54da2b93",
   "metadata": {},
   "source": [
    "위의 pred()함수를 이용해 예측할 수 있습니다. 가사를 그대로 가져와 아래의 변수 a에 넣은 후 pred(a)로 예측했습니다."
   ]
  },
  {
   "cell_type": "code",
   "execution_count": 215,
   "id": "e9217ded",
   "metadata": {
    "scrolled": false
   },
   "outputs": [
    {
     "name": "stdout",
     "output_type": "stream",
     "text": [
      "예측 : 발라드\n"
     ]
    }
   ],
   "source": [
    "# 데이터셋에 없는 노래를 가져왔습니다. (정답 : 발라드)\n",
    "a = '''이제 괜찮냐 묻지 않네요\n",
    "이젠 내가 짐이 된 걸까요\n",
    "멍든 내 마음이 가여워서\n",
    "우습게 우리의 과거를 바래봐요\n",
    "우리 만일에 마주하더라도\n",
    "아무 말 없이 지나가요\n",
    "그렇게 날 쳐다보지 말아요\n",
    "그대 제발\n",
    "더 이상 나 괴로워하지 않아요\n",
    "그댄 날 잊었는데\n",
    "그대도 해냈는데\n",
    "나라고 못할 거 있나요\n",
    "멍든 내 마음이 가여워서\n",
    "이제는 우리의 과거를 지워가요\n",
    "우리 만일에 마주하더라도\n",
    "아무 말 없이 지나가요\n",
    "그렇게 날 쳐다보지 말아요\n",
    "그대 제발\n",
    "더 이상 나 괴로워하지 않아요\n",
    "그댄 날 잊었는데\n",
    "그대도 해냈는데\n",
    "나라고 못할 거 있나요\n",
    "괴로워하지 않아요\n",
    "그댄 날 잊었는데\n",
    "그대도 해냈는데\n",
    "나라고 못할 거 있나요'''\n",
    "\n",
    "pred(a)"
   ]
  },
  {
   "cell_type": "code",
   "execution_count": 216,
   "id": "c4df7e9a",
   "metadata": {
    "scrolled": true
   },
   "outputs": [
    {
     "name": "stdout",
     "output_type": "stream",
     "text": [
      "예측 : 랩힙합\n"
     ]
    }
   ],
   "source": [
    "# 데이터셋에 없는 노래를 가져왔습니다. (정답 : 랩힙합)\n",
    "a = '''I know it`s your time\n",
    "그런데도 너에게 간데\n",
    "아마 위험한\n",
    "대가는 나에게만 왜 (why)\n",
    "이유가 대체 넌\n",
    "뭐라 생각해?\n",
    "아마 이건 참\n",
    "알아도 잠시 길을 잃어 way\n",
    "어제는 저기가 main\n",
    "오늘은 여기로 해\n",
    "네가 날 어지럽게\n",
    "하는지 모르겠어 잠시 wait\n",
    "귀가를 하기로 해\n",
    "조금은 쉬기로 해\n",
    "내가 원하는 뭘 하든\n",
    "내 시간을 제발 좀 갖기로 해\n",
    "반복해 너를 표현해 All day\n",
    "피해자래 난 그저 웃어\n",
    "The word doesn't suit you babe\n",
    "아무 말도 하지마\n",
    "덧붙여 말을 해\n",
    "You're really so bad\n",
    "난 그저 웃겨\n",
    "The word\n",
    "doesn't suit you babe\n",
    "아무 말도 하지마 하지마\n",
    "그건 아닐 거야\n",
    "네가 굉장히 오해가 많아\n",
    "내가 친절하게\n",
    "설명해도\n",
    "yeah 안 들어줘 sh*t!\n",
    "너에겐 자비롭고\n",
    "그런 걸 바라는 내가 참\n",
    "한심해 보이며 어이없어\n",
    "Next time 다음 시간을\n",
    "기약하며 날 뒤로 휙\n",
    "던져 버린 후에 잠시 놓기\n",
    "오후 지나 밤에 다시 줍기\n",
    "이런 사실을 넌 알 리 없지\n",
    "노래로 처음 접하게 될 일\n",
    "조금은 아쉽겠지만 뭐 어떻게\n",
    "이미 다른 차에 타 있으니\n",
    "네가 피해자래도\n",
    "입장을 바꿔 말해줘\n",
    "근데 넌 절대 모르겠지\n",
    "평생을 제발 그렇겠니\n",
    "반복해 너를 표현해 All day\n",
    "피해자래 난 그저 웃어\n",
    "The word doesn't suit you babe\n",
    "아무 말도 하지마\n",
    "덧붙여 말을 해\n",
    "You're really so bad 난 그저 웃겨\n",
    "The word doesn't suit you babe\n",
    "아무 말도 하지마 하지마'''\n",
    "\n",
    "pred(a)"
   ]
  },
  {
   "cell_type": "markdown",
   "id": "9cac6ab5",
   "metadata": {},
   "source": [
    "### 다른 모델들과 비교"
   ]
  },
  {
   "cell_type": "markdown",
   "id": "9f4c71d6",
   "metadata": {},
   "source": [
    "#### k-fold cross validation\n",
    "다른 모델들과 비교하기 위해서는 k-fold를 이용해 산출한 평균 정확도를 비교하는 것이 필요하다고 생각했습니다. k fold에 이용되는 데이터 셋으로는 위에서의 x_train과 x_test를 합친 값을 나누어 train, test 데이터로 만들어 이용했습니다."
   ]
  },
  {
   "cell_type": "code",
   "execution_count": 218,
   "id": "1138a5c8",
   "metadata": {
    "scrolled": true
   },
   "outputs": [
    {
     "name": "stdout",
     "output_type": "stream",
     "text": [
      "--------------1번째 그룹----------------\n",
      "Epoch 1/30\n",
      "33/33 [==============================] - 7s 167ms/step - loss: 1.3753 - acc: 0.3544 - val_loss: 1.2689 - val_acc: 0.4893\n",
      "Epoch 2/30\n",
      "33/33 [==============================] - 5s 159ms/step - loss: 1.0804 - acc: 0.5080 - val_loss: 1.0387 - val_acc: 0.5204\n",
      "Epoch 3/30\n",
      "33/33 [==============================] - 5s 147ms/step - loss: 0.9662 - acc: 0.5824 - val_loss: 1.0036 - val_acc: 0.5573\n",
      "Epoch 4/30\n",
      "33/33 [==============================] - 5s 165ms/step - loss: 0.9267 - acc: 0.5887 - val_loss: 0.9685 - val_acc: 0.4835\n",
      "Epoch 5/30\n",
      "33/33 [==============================] - 5s 152ms/step - loss: 0.8834 - acc: 0.5630 - val_loss: 0.9454 - val_acc: 0.5476\n",
      "Epoch 6/30\n",
      "33/33 [==============================] - 4s 137ms/step - loss: 0.8463 - acc: 0.6252 - val_loss: 0.9715 - val_acc: 0.6291\n",
      "Epoch 7/30\n",
      "33/33 [==============================] - 5s 149ms/step - loss: 0.7939 - acc: 0.6918 - val_loss: 0.9826 - val_acc: 0.4660\n",
      "Epoch 8/30\n",
      "33/33 [==============================] - 4s 136ms/step - loss: 0.7559 - acc: 0.6981 - val_loss: 0.8149 - val_acc: 0.6388\n",
      "Epoch 9/30\n",
      "33/33 [==============================] - 5s 141ms/step - loss: 0.5896 - acc: 0.7321 - val_loss: 0.7909 - val_acc: 0.6505\n",
      "Epoch 10/30\n",
      "33/33 [==============================] - 5s 138ms/step - loss: 0.5544 - acc: 0.7598 - val_loss: 0.7257 - val_acc: 0.6816\n",
      "Epoch 11/30\n",
      "33/33 [==============================] - 5s 138ms/step - loss: 0.4828 - acc: 0.8065 - val_loss: 0.6445 - val_acc: 0.7553\n",
      "Epoch 12/30\n",
      "33/33 [==============================] - 5s 138ms/step - loss: 0.4048 - acc: 0.8551 - val_loss: 0.5388 - val_acc: 0.8252\n",
      "Epoch 13/30\n",
      "33/33 [==============================] - 5s 140ms/step - loss: 0.3392 - acc: 0.8848 - val_loss: 0.6088 - val_acc: 0.7942\n",
      "Epoch 14/30\n",
      "33/33 [==============================] - 5s 139ms/step - loss: 0.2825 - acc: 0.9178 - val_loss: 0.5152 - val_acc: 0.8330\n",
      "Epoch 15/30\n",
      "33/33 [==============================] - 5s 139ms/step - loss: 0.2308 - acc: 0.9387 - val_loss: 0.5158 - val_acc: 0.8252\n",
      "Epoch 16/30\n",
      "33/33 [==============================] - 5s 144ms/step - loss: 0.2060 - acc: 0.9349 - val_loss: 0.4902 - val_acc: 0.8544\n",
      "Epoch 17/30\n",
      "33/33 [==============================] - 5s 140ms/step - loss: 0.1739 - acc: 0.9553 - val_loss: 0.6611 - val_acc: 0.8000\n",
      "Epoch 18/30\n",
      "33/33 [==============================] - 5s 140ms/step - loss: 0.1620 - acc: 0.9572 - val_loss: 0.4916 - val_acc: 0.8524\n",
      "Epoch 19/30\n",
      "33/33 [==============================] - 5s 141ms/step - loss: 0.1789 - acc: 0.9494 - val_loss: 0.4660 - val_acc: 0.8369\n",
      "Epoch 20/30\n",
      "33/33 [==============================] - 5s 156ms/step - loss: 0.0955 - acc: 0.9796 - val_loss: 0.5683 - val_acc: 0.8252\n",
      "Epoch 21/30\n",
      "33/33 [==============================] - 5s 140ms/step - loss: 0.0982 - acc: 0.9767 - val_loss: 0.5298 - val_acc: 0.8330\n",
      "Epoch 22/30\n",
      "33/33 [==============================] - 5s 140ms/step - loss: 0.0933 - acc: 0.9757 - val_loss: 0.5378 - val_acc: 0.8466\n",
      "Epoch 23/30\n",
      "33/33 [==============================] - 5s 141ms/step - loss: 0.0753 - acc: 0.9815 - val_loss: 0.5472 - val_acc: 0.8311\n",
      "Epoch 23: early stopping\n",
      "21/21 [==============================] - 1s 32ms/step - loss: 0.6096 - acc: 0.8307\n",
      "21/21 [==============================] - 1s 32ms/step - loss: 0.6096 - acc: 0.8307\n",
      "--------------2번째 그룹----------------\n",
      "Epoch 1/30\n",
      "33/33 [==============================] - 7s 160ms/step - loss: 1.3818 - acc: 0.3280 - val_loss: 1.3703 - val_acc: 0.4796\n",
      "Epoch 2/30\n",
      "33/33 [==============================] - 5s 142ms/step - loss: 1.2080 - acc: 0.5496 - val_loss: 1.7831 - val_acc: 0.3068\n",
      "Epoch 3/30\n",
      "33/33 [==============================] - 5s 145ms/step - loss: 1.0607 - acc: 0.6356 - val_loss: 1.0102 - val_acc: 0.4680\n",
      "Epoch 4/30\n",
      "33/33 [==============================] - 5s 145ms/step - loss: 0.9557 - acc: 0.6064 - val_loss: 0.9897 - val_acc: 0.5631\n",
      "Epoch 5/30\n",
      "33/33 [==============================] - 5s 145ms/step - loss: 0.9196 - acc: 0.6370 - val_loss: 0.9595 - val_acc: 0.5437\n",
      "Epoch 6/30\n",
      "33/33 [==============================] - 5s 145ms/step - loss: 0.8601 - acc: 0.6404 - val_loss: 0.9179 - val_acc: 0.6097\n",
      "Epoch 7/30\n",
      "33/33 [==============================] - 5s 145ms/step - loss: 0.8251 - acc: 0.6798 - val_loss: 0.8952 - val_acc: 0.5942\n",
      "Epoch 8/30\n",
      "33/33 [==============================] - 5s 151ms/step - loss: 0.7196 - acc: 0.7187 - val_loss: 0.7948 - val_acc: 0.6388\n",
      "Epoch 9/30\n",
      "33/33 [==============================] - 5s 156ms/step - loss: 0.5959 - acc: 0.7318 - val_loss: 0.7177 - val_acc: 0.6971\n",
      "Epoch 10/30\n",
      "33/33 [==============================] - 5s 145ms/step - loss: 0.5220 - acc: 0.7658 - val_loss: 0.6667 - val_acc: 0.7204\n",
      "Epoch 11/30\n",
      "33/33 [==============================] - 5s 144ms/step - loss: 0.4843 - acc: 0.7945 - val_loss: 0.7024 - val_acc: 0.6660\n",
      "Epoch 12/30\n",
      "33/33 [==============================] - 5s 146ms/step - loss: 0.4479 - acc: 0.8324 - val_loss: 0.7267 - val_acc: 0.7029\n",
      "Epoch 13/30\n",
      "33/33 [==============================] - 5s 144ms/step - loss: 0.3940 - acc: 0.8698 - val_loss: 0.6819 - val_acc: 0.6893\n",
      "Epoch 14/30\n",
      "33/33 [==============================] - 5s 145ms/step - loss: 0.3209 - acc: 0.8999 - val_loss: 0.6568 - val_acc: 0.7379\n",
      "Epoch 15/30\n",
      "33/33 [==============================] - 5s 147ms/step - loss: 0.3012 - acc: 0.8926 - val_loss: 0.5568 - val_acc: 0.8214\n",
      "Epoch 16/30\n",
      "33/33 [==============================] - 5s 146ms/step - loss: 0.2311 - acc: 0.9305 - val_loss: 0.6486 - val_acc: 0.7709\n",
      "Epoch 17/30\n",
      "33/33 [==============================] - 5s 150ms/step - loss: 0.1841 - acc: 0.9480 - val_loss: 0.5599 - val_acc: 0.8447\n",
      "Epoch 18/30\n",
      "33/33 [==============================] - 5s 154ms/step - loss: 0.1780 - acc: 0.9500 - val_loss: 0.5749 - val_acc: 0.8447\n",
      "Epoch 19/30\n",
      "33/33 [==============================] - 5s 149ms/step - loss: 0.1670 - acc: 0.9490 - val_loss: 0.5589 - val_acc: 0.8408\n",
      "Epoch 19: early stopping\n",
      "21/21 [==============================] - 1s 34ms/step - loss: 0.4604 - acc: 0.8631\n",
      "21/21 [==============================] - 1s 32ms/step - loss: 0.4604 - acc: 0.8631\n",
      "--------------3번째 그룹----------------\n",
      "Epoch 1/30\n",
      "33/33 [==============================] - 7s 171ms/step - loss: 1.3752 - acc: 0.3052 - val_loss: 1.2715 - val_acc: 0.3631\n",
      "Epoch 2/30\n",
      "33/33 [==============================] - 5s 143ms/step - loss: 1.1233 - acc: 0.4592 - val_loss: 1.2104 - val_acc: 0.4350\n",
      "Epoch 3/30\n",
      "33/33 [==============================] - 5s 143ms/step - loss: 1.0010 - acc: 0.4922 - val_loss: 1.0815 - val_acc: 0.4369\n",
      "Epoch 4/30\n",
      "33/33 [==============================] - 5s 151ms/step - loss: 0.9766 - acc: 0.5010 - val_loss: 1.3833 - val_acc: 0.4350\n",
      "Epoch 5/30\n",
      "33/33 [==============================] - 5s 150ms/step - loss: 0.9289 - acc: 0.5598 - val_loss: 0.9732 - val_acc: 0.4874\n",
      "Epoch 6/30\n",
      "33/33 [==============================] - 5s 147ms/step - loss: 0.8676 - acc: 0.6200 - val_loss: 0.9422 - val_acc: 0.5243\n",
      "Epoch 7/30\n",
      "33/33 [==============================] - 5s 161ms/step - loss: 0.7949 - acc: 0.6574 - val_loss: 0.9476 - val_acc: 0.5437\n",
      "Epoch 8/30\n",
      "33/33 [==============================] - 6s 175ms/step - loss: 0.6987 - acc: 0.7250 - val_loss: 0.7846 - val_acc: 0.6252\n",
      "Epoch 9/30\n",
      "33/33 [==============================] - 5s 166ms/step - loss: 0.7260 - acc: 0.7357 - val_loss: 0.7528 - val_acc: 0.6252\n",
      "Epoch 10/30\n",
      "33/33 [==============================] - 6s 176ms/step - loss: 0.5561 - acc: 0.7974 - val_loss: 0.6824 - val_acc: 0.6932\n",
      "Epoch 11/30\n",
      "33/33 [==============================] - 6s 174ms/step - loss: 0.4870 - acc: 0.8241 - val_loss: 0.6658 - val_acc: 0.7243\n",
      "Epoch 12/30\n",
      "33/33 [==============================] - 6s 180ms/step - loss: 0.4514 - acc: 0.8576 - val_loss: 0.6179 - val_acc: 0.7709\n",
      "Epoch 13/30\n",
      "33/33 [==============================] - 6s 182ms/step - loss: 0.3723 - acc: 0.8887 - val_loss: 0.5690 - val_acc: 0.8039\n",
      "Epoch 14/30\n",
      "33/33 [==============================] - 6s 181ms/step - loss: 0.3468 - acc: 0.8868 - val_loss: 0.5183 - val_acc: 0.8272\n",
      "Epoch 15/30\n",
      "33/33 [==============================] - 6s 183ms/step - loss: 0.2878 - acc: 0.9193 - val_loss: 0.5724 - val_acc: 0.7981\n",
      "Epoch 16/30\n",
      "33/33 [==============================] - 6s 190ms/step - loss: 0.2032 - acc: 0.9480 - val_loss: 0.4851 - val_acc: 0.8447\n",
      "Epoch 17/30\n",
      "33/33 [==============================] - 6s 178ms/step - loss: 0.1940 - acc: 0.9490 - val_loss: 0.4734 - val_acc: 0.8544\n",
      "Epoch 18/30\n",
      "33/33 [==============================] - 6s 175ms/step - loss: 0.1693 - acc: 0.9543 - val_loss: 0.4649 - val_acc: 0.8680\n",
      "Epoch 19/30\n",
      "33/33 [==============================] - 5s 159ms/step - loss: 0.1427 - acc: 0.9689 - val_loss: 0.5270 - val_acc: 0.8408\n",
      "Epoch 20/30\n",
      "33/33 [==============================] - 5s 159ms/step - loss: 0.1184 - acc: 0.9704 - val_loss: 0.5195 - val_acc: 0.8544\n",
      "Epoch 21/30\n",
      "33/33 [==============================] - 5s 154ms/step - loss: 0.1277 - acc: 0.9679 - val_loss: 0.4672 - val_acc: 0.8641\n",
      "Epoch 22/30\n",
      "33/33 [==============================] - 5s 162ms/step - loss: 0.0930 - acc: 0.9781 - val_loss: 0.7413 - val_acc: 0.7282\n",
      "Epoch 22: early stopping\n",
      "21/21 [==============================] - 1s 39ms/step - loss: 0.5813 - acc: 0.7745\n",
      "21/21 [==============================] - 1s 37ms/step - loss: 0.5813 - acc: 0.7745\n",
      "--------------4번째 그룹----------------\n",
      "Epoch 1/30\n",
      "33/33 [==============================] - 7s 176ms/step - loss: 1.3705 - acc: 0.3707 - val_loss: 1.2487 - val_acc: 0.4893\n",
      "Epoch 2/30\n",
      "33/33 [==============================] - 5s 157ms/step - loss: 1.0843 - acc: 0.5146 - val_loss: 1.0379 - val_acc: 0.4757\n",
      "Epoch 3/30\n",
      "33/33 [==============================] - 5s 158ms/step - loss: 0.9555 - acc: 0.5564 - val_loss: 0.9872 - val_acc: 0.4583\n",
      "Epoch 4/30\n",
      "33/33 [==============================] - 5s 156ms/step - loss: 0.9227 - acc: 0.5510 - val_loss: 0.9574 - val_acc: 0.4505\n",
      "Epoch 5/30\n",
      "33/33 [==============================] - 5s 153ms/step - loss: 0.8864 - acc: 0.5671 - val_loss: 0.9412 - val_acc: 0.4583\n",
      "Epoch 6/30\n",
      "33/33 [==============================] - 5s 149ms/step - loss: 0.8797 - acc: 0.5510 - val_loss: 0.9358 - val_acc: 0.5573\n",
      "Epoch 7/30\n",
      "33/33 [==============================] - 5s 156ms/step - loss: 0.8385 - acc: 0.6210 - val_loss: 0.9304 - val_acc: 0.6078\n",
      "Epoch 8/30\n",
      "33/33 [==============================] - 5s 154ms/step - loss: 0.7523 - acc: 0.7036 - val_loss: 1.0542 - val_acc: 0.4641\n",
      "Epoch 9/30\n",
      "33/33 [==============================] - 5s 151ms/step - loss: 0.6558 - acc: 0.6978 - val_loss: 0.8269 - val_acc: 0.5903\n",
      "Epoch 10/30\n",
      "33/33 [==============================] - 5s 150ms/step - loss: 0.5763 - acc: 0.7624 - val_loss: 0.9260 - val_acc: 0.5689\n",
      "Epoch 11/30\n",
      "33/33 [==============================] - 5s 154ms/step - loss: 0.5237 - acc: 0.7940 - val_loss: 0.6456 - val_acc: 0.7087\n",
      "Epoch 12/30\n",
      "33/33 [==============================] - 5s 166ms/step - loss: 0.4492 - acc: 0.8314 - val_loss: 0.7064 - val_acc: 0.7184\n",
      "Epoch 13/30\n",
      "33/33 [==============================] - 5s 151ms/step - loss: 0.3931 - acc: 0.8669 - val_loss: 0.7119 - val_acc: 0.6971\n",
      "Epoch 14/30\n",
      "33/33 [==============================] - 5s 156ms/step - loss: 0.3495 - acc: 0.8839 - val_loss: 0.6694 - val_acc: 0.7631\n",
      "Epoch 15/30\n",
      "33/33 [==============================] - 6s 175ms/step - loss: 0.3254 - acc: 0.8853 - val_loss: 0.5824 - val_acc: 0.8000\n",
      "Epoch 16/30\n",
      "33/33 [==============================] - 6s 191ms/step - loss: 0.2436 - acc: 0.9261 - val_loss: 0.5716 - val_acc: 0.8136\n",
      "Epoch 17/30\n",
      "33/33 [==============================] - 6s 183ms/step - loss: 0.2235 - acc: 0.9305 - val_loss: 0.6113 - val_acc: 0.8039\n",
      "Epoch 18/30\n",
      "33/33 [==============================] - 6s 181ms/step - loss: 0.1730 - acc: 0.9529 - val_loss: 0.6177 - val_acc: 0.8194\n",
      "Epoch 19/30\n",
      "33/33 [==============================] - 5s 155ms/step - loss: 0.1566 - acc: 0.9572 - val_loss: 1.0579 - val_acc: 0.6951\n",
      "Epoch 20/30\n",
      "33/33 [==============================] - 5s 160ms/step - loss: 0.1260 - acc: 0.9699 - val_loss: 0.6277 - val_acc: 0.8175\n",
      "Epoch 20: early stopping\n",
      "21/21 [==============================] - 1s 38ms/step - loss: 0.6010 - acc: 0.8212\n",
      "21/21 [==============================] - 1s 36ms/step - loss: 0.6010 - acc: 0.8212\n",
      "--------------5번째 그룹----------------\n",
      "Epoch 1/30\n",
      "33/33 [==============================] - 8s 188ms/step - loss: 1.3780 - acc: 0.3591 - val_loss: 1.3402 - val_acc: 0.3320\n",
      "Epoch 2/30\n",
      "33/33 [==============================] - 7s 208ms/step - loss: 1.1567 - acc: 0.4684 - val_loss: 1.0387 - val_acc: 0.5068\n",
      "Epoch 3/30\n",
      "33/33 [==============================] - 6s 168ms/step - loss: 0.9727 - acc: 0.5165 - val_loss: 0.9734 - val_acc: 0.5184\n",
      "Epoch 4/30\n",
      "33/33 [==============================] - 6s 169ms/step - loss: 0.9089 - acc: 0.5617 - val_loss: 0.9254 - val_acc: 0.5359\n",
      "Epoch 5/30\n",
      "33/33 [==============================] - 6s 183ms/step - loss: 0.8372 - acc: 0.6331 - val_loss: 0.9117 - val_acc: 0.5515\n",
      "Epoch 6/30\n",
      "33/33 [==============================] - 7s 211ms/step - loss: 0.7429 - acc: 0.6701 - val_loss: 0.7695 - val_acc: 0.6680\n",
      "Epoch 7/30\n",
      "33/33 [==============================] - 6s 188ms/step - loss: 0.6670 - acc: 0.7104 - val_loss: 0.8368 - val_acc: 0.6272\n",
      "Epoch 8/30\n",
      "33/33 [==============================] - 5s 160ms/step - loss: 0.5713 - acc: 0.7259 - val_loss: 0.6893 - val_acc: 0.7029\n",
      "Epoch 9/30\n",
      "33/33 [==============================] - 5s 162ms/step - loss: 0.5493 - acc: 0.7366 - val_loss: 0.6557 - val_acc: 0.6816\n",
      "Epoch 10/30\n",
      "33/33 [==============================] - 5s 158ms/step - loss: 0.4836 - acc: 0.7561 - val_loss: 0.6510 - val_acc: 0.6990\n",
      "Epoch 11/30\n",
      "33/33 [==============================] - 5s 154ms/step - loss: 0.4658 - acc: 0.7692 - val_loss: 0.6434 - val_acc: 0.7107\n",
      "Epoch 12/30\n",
      "33/33 [==============================] - 6s 168ms/step - loss: 0.4292 - acc: 0.7906 - val_loss: 0.6582 - val_acc: 0.6990\n",
      "Epoch 13/30\n",
      "33/33 [==============================] - 5s 165ms/step - loss: 0.4104 - acc: 0.8042 - val_loss: 0.6720 - val_acc: 0.7107\n",
      "Epoch 14/30\n",
      "33/33 [==============================] - 5s 161ms/step - loss: 0.3937 - acc: 0.8314 - val_loss: 0.7503 - val_acc: 0.6854\n",
      "Epoch 15/30\n",
      "33/33 [==============================] - 5s 159ms/step - loss: 0.3716 - acc: 0.8518 - val_loss: 0.7235 - val_acc: 0.6835\n",
      "Epoch 15: early stopping\n",
      "21/21 [==============================] - 1s 37ms/step - loss: 0.7084 - acc: 0.6998\n",
      "21/21 [==============================] - 1s 37ms/step - loss: 0.7084 - acc: 0.6998\n",
      "-----------------------------------------\n",
      "------------------결과-------------------\n",
      "-----------------------------------------\n",
      "각 분할의 loss : [0.6096264123916626, 0.46037110686302185, 0.5812765955924988, 0.6010134220123291, 0.7084351181983948]\n",
      "평균 loss : 0.5921445310115814\n",
      "각 분할의 정확도 : [0.8307453393936157, 0.8631415367126465, 0.7744945287704468, 0.8211508393287659, 0.699844479560852]\n",
      "평균 정확도 : 79.78753447532654 %\n"
     ]
    }
   ],
   "source": [
    "from sklearn.ensemble import RandomForestClassifier\n",
    "from sklearn.metrics import accuracy_score\n",
    "from sklearn.model_selection import KFold\n",
    "\n",
    "\n",
    "def start_kfold(X, y) :\n",
    "    kf = KFold(n_splits = 5, shuffle = True, random_state = 50)\n",
    "    accuracy_history = []\n",
    "    loss_history = []\n",
    "    num = 0\n",
    "    models = []\n",
    "    for train_index, test_index in kf.split(X):\n",
    "        num += 1\n",
    "        print(\"--------------\" + str(num) + \"번째 그룹\" + \"----------------\")\n",
    "        X_train, X_test = X[train_index], X[test_index]\n",
    "        y_train, y_test = y[train_index], y[test_index]\n",
    "        \n",
    "        B = LSTM_model()\n",
    "        B.learn(X_train, y_train, 0)\n",
    "        accuracy_history.append(B.return_test_acc(X_test, y_test)[1]) # 정확도 측정 및 기록\n",
    "        loss_history.append(B.return_test_acc(X_test, y_test)[0])\n",
    "    print(\"-----------------------------------------\")\n",
    "    print(\"------------------결과-------------------\")\n",
    "    print(\"-----------------------------------------\")\n",
    "    print(\"각 분할의 loss :\", loss_history)\n",
    "    print(\"평균 loss :\", np.mean(loss_history))\n",
    "    print(\"각 분할의 정확도 :\", accuracy_history)\n",
    "    print(\"평균 정확도 :\", np.mean(accuracy_history)*100, \"%\")\n",
    "    \n",
    "\n",
    "start_kfold(np.array(x_train), y_train)"
   ]
  },
  {
   "cell_type": "markdown",
   "id": "a3d77255",
   "metadata": {},
   "source": [
    "k-fold를 이용해 구한 loss값은 [0.6096264123916626, 0.46037110686302185, 0.5812765955924988, 0.6010134220123291, 0.7084351181983948]로 평균 0.59입니다. 정확도는 [0.8307453393936157, 0.8631415367126465, 0.7744945287704468, 0.8211508393287659, 0.699844479560852]으로 평균  79.79%입니다. "
   ]
  },
  {
   "attachments": {
    "image.png": {
     "image/png": "[encoded data removed]"
    }
   },
   "cell_type": "markdown",
   "id": "a8d49792",
   "metadata": {},
   "source": [
    "![image.png](attachment:image.png)"
   ]
  },
  {
   "cell_type": "markdown",
   "id": "5ddf925d",
   "metadata": {},
   "source": [
    "본 모델은 다른 모델(RNN, GRU)보다 높은 정확도를 보였습니다. 하지만 학습 시간이 가장 많이 걸리는 모델이기도 하였습니다."
   ]
  },
  {
   "cell_type": "markdown",
   "id": "42e3bb34",
   "metadata": {},
   "source": [
    "위에서 1, 2, 3번 모델을 비교하여 LSTM 모델이 다른 모델에 비하여 더 잘 분류한다는 것을 알았습니다. 이후에는 기존의 1(LSTM-1)모델을 바꾸어 성능이 좋아지는 모델을 찾아볼 것입니다."
   ]
  },
  {
   "attachments": {
    "image.png": {
     "image/png": "[encoded data removed]"
    }
   },
   "cell_type": "markdown",
   "id": "7ce8b69c",
   "metadata": {},
   "source": [
    "![image.png](attachment:image.png)"
   ]
  },
  {
   "cell_type": "markdown",
   "id": "2c02e148",
   "metadata": {},
   "source": [
    "위 그래프는 LSTM 모델을 변형시킨 3종의 모델과 같이 비교한 것입니다. 정확도 측면에서 크게 차이가 나는 것은 아니지만 현재의 모델의 성능을 높일 수 있는 방법이 있었고 대표적으로 embedding층과 LSTM층의 출력 차원을 높이는 것과 배치사이즈의 크기를 줄이는 방법이 있었습니다."
   ]
  }
 ],
 "metadata": {
  "kernelspec": {
   "display_name": "Python 3 (ipykernel)",
   "language": "python",
   "name": "python3"
  },
  "language_info": {
   "codemirror_mode": {
    "name": "ipython",
    "version": 3
   },
   "file_extension": ".py",
   "mimetype": "text/x-python",
   "name": "python",
   "nbconvert_exporter": "python",
   "pygments_lexer": "ipython3",
   "version": "3.9.13"
  }
 },
 "nbformat": 4,
 "nbformat_minor": 5
}
